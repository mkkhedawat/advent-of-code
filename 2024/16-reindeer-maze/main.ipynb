{
 "cells": [
  {
   "cell_type": "markdown",
   "metadata": {},
   "source": [
    "# 16 - Reindeer Maze\n",
    "\n",
    "https://adventofcode.com/2024/day/16\n"
   ]
  },
  {
   "cell_type": "code",
   "execution_count": 1,
   "metadata": {},
   "outputs": [],
   "source": [
    "// Imports\n",
    "\n",
    "import colors from \"../../utils/colors.ts\"\n",
    "import objects from \"../../utils/objects.ts\"\n",
    "import strings from \"../../utils/strings.ts\"\n",
    "import numbers from \"../../utils/numbers.ts\"\n",
    "import plots from \"../../utils/plots.ts\";\n",
    "import images from \"../../utils/images.ts\";\n",
    "import arrays from \"../../utils/arrays.ts\";"
   ]
  },
  {
   "cell_type": "code",
   "execution_count": 2,
   "metadata": {},
   "outputs": [
    {
     "name": "stdout",
     "output_type": "stream",
     "text": [
      "###############\n",
      "#.......#....E#\n",
      "#.#.###.#.###.#\n",
      "#.....#.#...#.#\n",
      "#.###.#####.#.#\n",
      "#.#.#.......#.#\n",
      "#.#.#####.###.#\n",
      "#...........#.#\n",
      "###.#.#####.#.#\n",
      "#...#.....#.#.#\n",
      "#.#.#.###.#.#.#\n",
      "#.....#...#.#.#\n",
      "#.###.#.#.#.#.#\n",
      "#S..#.....#...#\n",
      "###############\n"
     ]
    }
   ],
   "source": [
    "// Read Input\n",
    "\n",
    "const file = await Deno.readTextFile(\"input-base.txt\");\n",
    "const area = file.split(\"\\n\").map((line) => line.split(\"\"));\n",
    "arrays.print2D(area)"
   ]
  },
  {
   "cell_type": "code",
   "execution_count": 3,
   "metadata": {},
   "outputs": [
    {
     "name": "stdout",
     "output_type": "stream",
     "text": [
      "S..#.....#...\n",
      ".###.#.#.#.#.\n",
      ".....#...#.#.\n",
      ".#.#.###.#.#.\n",
      "...#.....#.#.\n",
      "##.#.#####.#.\n",
      "...........#.\n",
      ".#.#####.###.\n",
      ".#.#.......#.\n",
      ".###.#####.#.\n",
      ".....#.#...#.\n",
      ".#.###.#.###.\n",
      ".......#....E\n"
     ]
    }
   ],
   "source": [
    "// Prepare Data\n",
    "\n",
    "const stripBoundary = (area: string[][]) => {\n",
    "    return area.filter((row, i) => i !== 0 && i !== area.length - 1).map((row) => row.filter((cell, i) => i !== 0 && i !== row.length - 1));\n",
    "}\n",
    "\n",
    "const reversedStrippedArea = stripBoundary(objects.deepCopy(area)).reverse();\n",
    "arrays.print2D(reversedStrippedArea)"
   ]
  },
  {
   "cell_type": "code",
   "execution_count": 4,
   "metadata": {},
   "outputs": [
    {
     "name": "stdout",
     "output_type": "stream",
     "text": [
      "\u001b[42m  \u001b[49m\u001b[43m  \u001b[49m\u001b[43m  \u001b[49m\u001b[40m  \u001b[49m\u001b[43m  \u001b[49m\u001b[43m  \u001b[49m\u001b[43m  \u001b[49m\u001b[43m  \u001b[49m\u001b[43m  \u001b[49m\u001b[40m  \u001b[49m\u001b[41m  \u001b[49m\u001b[41m  \u001b[49m\u001b[41m  \u001b[49m\n",
      "\u001b[41m  \u001b[49m\u001b[40m  \u001b[49m\u001b[40m  \u001b[49m\u001b[40m  \u001b[49m\u001b[43m  \u001b[49m\u001b[40m  \u001b[49m\u001b[43m  \u001b[49m\u001b[40m  \u001b[49m\u001b[43m  \u001b[49m\u001b[40m  \u001b[49m\u001b[41m  \u001b[49m\u001b[40m  \u001b[49m\u001b[41m  \u001b[49m\n",
      "\u001b[41m  \u001b[49m\u001b[43m  \u001b[49m\u001b[43m  \u001b[49m\u001b[43m  \u001b[49m\u001b[43m  \u001b[49m\u001b[40m  \u001b[49m\u001b[43m  \u001b[49m\u001b[43m  \u001b[49m\u001b[43m  \u001b[49m\u001b[40m  \u001b[49m\u001b[41m  \u001b[49m\u001b[40m  \u001b[49m\u001b[41m  \u001b[49m\n",
      "\u001b[41m  \u001b[49m\u001b[40m  \u001b[49m\u001b[43m  \u001b[49m\u001b[40m  \u001b[49m\u001b[43m  \u001b[49m\u001b[40m  \u001b[49m\u001b[40m  \u001b[49m\u001b[40m  \u001b[49m\u001b[43m  \u001b[49m\u001b[40m  \u001b[49m\u001b[41m  \u001b[49m\u001b[40m  \u001b[49m\u001b[41m  \u001b[49m\n",
      "\u001b[41m  \u001b[49m\u001b[41m  \u001b[49m\u001b[41m  \u001b[49m\u001b[40m  \u001b[49m\u001b[43m  \u001b[49m\u001b[43m  \u001b[49m\u001b[43m  \u001b[49m\u001b[43m  \u001b[49m\u001b[43m  \u001b[49m\u001b[40m  \u001b[49m\u001b[41m  \u001b[49m\u001b[40m  \u001b[49m\u001b[41m  \u001b[49m\n",
      "\u001b[40m  \u001b[49m\u001b[40m  \u001b[49m\u001b[41m  \u001b[49m\u001b[40m  \u001b[49m\u001b[43m  \u001b[49m\u001b[40m  \u001b[49m\u001b[40m  \u001b[49m\u001b[40m  \u001b[49m\u001b[40m  \u001b[49m\u001b[40m  \u001b[49m\u001b[41m  \u001b[49m\u001b[40m  \u001b[49m\u001b[41m  \u001b[49m\n",
      "\u001b[43m  \u001b[49m\u001b[43m  \u001b[49m\u001b[41m  \u001b[49m\u001b[41m  \u001b[49m\u001b[41m  \u001b[49m\u001b[41m  \u001b[49m\u001b[41m  \u001b[49m\u001b[41m  \u001b[49m\u001b[41m  \u001b[49m\u001b[41m  \u001b[49m\u001b[41m  \u001b[49m\u001b[40m  \u001b[49m\u001b[41m  \u001b[49m\n",
      "\u001b[43m  \u001b[49m\u001b[40m  \u001b[49m\u001b[43m  \u001b[49m\u001b[40m  \u001b[49m\u001b[40m  \u001b[49m\u001b[40m  \u001b[49m\u001b[40m  \u001b[49m\u001b[40m  \u001b[49m\u001b[43m  \u001b[49m\u001b[40m  \u001b[49m\u001b[40m  \u001b[49m\u001b[40m  \u001b[49m\u001b[41m  \u001b[49m\n",
      "\u001b[43m  \u001b[49m\u001b[40m  \u001b[49m\u001b[43m  \u001b[49m\u001b[40m  \u001b[49m\u001b[43m  \u001b[49m\u001b[43m  \u001b[49m\u001b[43m  \u001b[49m\u001b[43m  \u001b[49m\u001b[43m  \u001b[49m\u001b[43m  \u001b[49m\u001b[43m  \u001b[49m\u001b[40m  \u001b[49m\u001b[41m  \u001b[49m\n",
      "\u001b[43m  \u001b[49m\u001b[40m  \u001b[49m\u001b[40m  \u001b[49m\u001b[40m  \u001b[49m\u001b[43m  \u001b[49m\u001b[40m  \u001b[49m\u001b[40m  \u001b[49m\u001b[40m  \u001b[49m\u001b[40m  \u001b[49m\u001b[40m  \u001b[49m\u001b[43m  \u001b[49m\u001b[40m  \u001b[49m\u001b[41m  \u001b[49m\n",
      "\u001b[43m  \u001b[49m\u001b[43m  \u001b[49m\u001b[43m  \u001b[49m\u001b[43m  \u001b[49m\u001b[43m  \u001b[49m\u001b[40m  \u001b[49m\u001b[43m  \u001b[49m\u001b[40m  \u001b[49m\u001b[43m  \u001b[49m\u001b[43m  \u001b[49m\u001b[43m  \u001b[49m\u001b[40m  \u001b[49m\u001b[41m  \u001b[49m\n",
      "\u001b[43m  \u001b[49m\u001b[40m  \u001b[49m\u001b[43m  \u001b[49m\u001b[40m  \u001b[49m\u001b[40m  \u001b[49m\u001b[40m  \u001b[49m\u001b[43m  \u001b[49m\u001b[40m  \u001b[49m\u001b[43m  \u001b[49m\u001b[40m  \u001b[49m\u001b[40m  \u001b[49m\u001b[40m  \u001b[49m\u001b[41m  \u001b[49m\n",
      "\u001b[43m  \u001b[49m\u001b[43m  \u001b[49m\u001b[43m  \u001b[49m\u001b[43m  \u001b[49m\u001b[43m  \u001b[49m\u001b[43m  \u001b[49m\u001b[43m  \u001b[49m\u001b[40m  \u001b[49m\u001b[43m  \u001b[49m\u001b[43m  \u001b[49m\u001b[43m  \u001b[49m\u001b[43m  \u001b[49m\u001b[41m  \u001b[49m\n"
     ]
    },
    {
     "data": {
      "text/plain": [
       "\u001b[33m7036\u001b[39m"
      ]
     },
     "execution_count": 4,
     "metadata": {},
     "output_type": "execute_result"
    }
   ],
   "source": [
    "// Part 1 - What is the lowest score a Reindeer could possibly get?\n",
    "\n",
    "const isWall = el => el === '#';\n",
    "\n",
    "const nextRightAngleDirectionIDs = (directionID: string) => {\n",
    "    switch (directionID) {\n",
    "        case '^':\n",
    "            return ['<', '>'];\n",
    "        case 'v':\n",
    "            return ['>', '<'];\n",
    "        case '<':\n",
    "            return ['v', '^'];\n",
    "        case '>':\n",
    "            return ['^', 'v'];\n",
    "    }\n",
    "}\n",
    "\n",
    "const getDirection = (directionID: string) => {\n",
    "    switch (directionID) {\n",
    "        case '^':\n",
    "            return [-1, 0];\n",
    "        case 'v':\n",
    "            return [1, 0];\n",
    "        case '<':\n",
    "            return [0, -1];\n",
    "        case '>':\n",
    "            return [0, 1];\n",
    "    }\n",
    "}\n",
    "\n",
    "const pathKey = (i, j, direction) => `${i}-${j}-${direction}`;\n",
    "const visitedKey = (i, j) => `${i}-${j}`;\n",
    "\n",
    "\n",
    "const populateMinMovesCost = (area: string[][], startPosition: [], startDirectionID: string) => {\n",
    "    const stack = [{ position: startPosition, directionID: startDirectionID, path: new Set<string>(), cost: 0, visited: new Set() }];\n",
    "\n",
    "    let minCost = Number.MAX_SAFE_INTEGER;\n",
    "    let minPaths = [];\n",
    "    const globallyVisitedCost = {}\n",
    "\n",
    "    while (stack.length > 0) {\n",
    "        const { position, directionID, path, cost, visited } = stack.shift();\n",
    "        const [i, j] = position;\n",
    "\n",
    "        if (i < 0 || i >= area.length || j < 0 || j >= area[0].length) {\n",
    "            continue;\n",
    "        }\n",
    "\n",
    "        const currentCell = area[i][j];\n",
    "        const currentPathKey = pathKey(i, j, directionID);\n",
    "\n",
    "        const previousMinCostOnCurrentCell = globallyVisitedCost[currentPathKey];\n",
    "        if (!previousMinCostOnCurrentCell) globallyVisitedCost[currentPathKey] = cost;\n",
    "        if (previousMinCostOnCurrentCell) {\n",
    "            if (previousMinCostOnCurrentCell < cost) {\n",
    "                continue;\n",
    "            }\n",
    "            else {\n",
    "                globallyVisitedCost[currentPathKey] = cost;\n",
    "            }\n",
    "        }\n",
    "\n",
    "        path.add(currentPathKey);\n",
    "        if (currentCell === 'E' && minCost >= cost) {\n",
    "            if (minCost > cost) minPaths = []\n",
    "            minPaths.push(path);\n",
    "            minCost = cost;\n",
    "            continue;\n",
    "        }\n",
    "\n",
    "        if (cost > minCost) {\n",
    "            continue;\n",
    "        }\n",
    "\n",
    "        const direction = getDirection(directionID);\n",
    "        const nextInCurrentDirection = area[i + direction[0]] ? area[i + direction[0]][j + direction[1]] : null;\n",
    "        if (nextInCurrentDirection && !isWall(nextInCurrentDirection)) {\n",
    "            stack.push({ position: [i + direction[0], j + direction[1]], directionID, path: new Set([...path]), cost: cost + 1, visited: new Set([...visited]) });\n",
    "        }\n",
    "\n",
    "        nextRightAngleDirectionIDs(directionID).forEach((d) => {\n",
    "            const nextInNewDirection = area[i + getDirection(d)[0]] ? area[i + getDirection(d)[0]][j + getDirection(d)[1]] : null;\n",
    "            if (nextInNewDirection && !isWall(nextInNewDirection)) {\n",
    "                stack.push({ position: [i + getDirection(d)[0], j + getDirection(d)[1]], directionID: d, path: new Set([...path]), cost: cost + 1001, visited: new Set([...visited]) });\n",
    "            }\n",
    "        });\n",
    "    }\n",
    "    return [minCost, minPaths];\n",
    "}\n",
    "\n",
    "const currentArea = objects.deepCopy(reversedStrippedArea);\n",
    "const [minCost, minPaths] = populateMinMovesCost(currentArea, [0, 0], '>', new Set(), 0);\n",
    "[...minPaths[0]].forEach((pathKey, index) => {\n",
    "    if (index === 0) return;\n",
    "    const [i, j, direction] = pathKey.split('-');\n",
    "    currentArea[i][j] = direction;\n",
    "});\n",
    "colors.visualize2DArray(currentArea, {\n",
    "    colors: {\n",
    "        '^': colors.bgRed,\n",
    "        'v': colors.bgRed,\n",
    "        '<': colors.bgRed,\n",
    "        '>': colors.bgRed,\n",
    "        'E': colors.bgGreen,\n",
    "        'S': colors.bgGreen,\n",
    "        '#': colors.bgBlack,\n",
    "    }\n",
    "});\n",
    "\n",
    "minCost"
   ]
  },
  {
   "cell_type": "code",
   "execution_count": 5,
   "metadata": {},
   "outputs": [
    {
     "data": {
      "text/plain": [
       "\u001b[33m45\u001b[39m"
      ]
     },
     "execution_count": 5,
     "metadata": {},
     "output_type": "execute_result"
    }
   ],
   "source": [
    "// Part - 2 How many tiles are part of at least one of the best paths through the maze?\n",
    "\n",
    "const uniqueTilesOnMinPaths = new Set();\n",
    "minPaths.forEach((path) => {\n",
    "    [...path].forEach((pathKey) => {\n",
    "        const [i, j, _] = pathKey.split('-');\n",
    "        uniqueTilesOnMinPaths.add(`${i}-${j}`);\n",
    "    });\n",
    "});\n",
    "// console.log(uniqueTilesOnMinPaths);\n",
    "uniqueTilesOnMinPaths.size"
   ]
  }
 ],
 "metadata": {
  "kernelspec": {
   "display_name": "Deno",
   "language": "typescript",
   "name": "deno"
  },
  "language_info": {
   "codemirror_mode": "typescript",
   "file_extension": ".ts",
   "mimetype": "text/x.typescript",
   "name": "typescript",
   "nbconvert_exporter": "script",
   "pygments_lexer": "typescript",
   "version": "5.6.2"
  }
 },
 "nbformat": 4,
 "nbformat_minor": 2
}
