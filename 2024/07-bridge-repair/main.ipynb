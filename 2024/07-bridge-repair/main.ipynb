{
 "cells": [
  {
   "cell_type": "markdown",
   "metadata": {},
   "source": [
    "# 07 - Bridge Repair\n",
    "\n",
    "https://adventofcode.com/2024/day/7\n"
   ]
  },
  {
   "cell_type": "code",
   "execution_count": 27,
   "metadata": {},
   "outputs": [
    {
     "data": {
      "text/plain": [
       "[\n",
       "  { testValue: \u001b[33m190\u001b[39m, elements: [ \u001b[33m10\u001b[39m, \u001b[33m19\u001b[39m ] },\n",
       "  { testValue: \u001b[33m3267\u001b[39m, elements: [ \u001b[33m81\u001b[39m, \u001b[33m40\u001b[39m, \u001b[33m27\u001b[39m ] },\n",
       "  { testValue: \u001b[33m83\u001b[39m, elements: [ \u001b[33m17\u001b[39m, \u001b[33m5\u001b[39m ] },\n",
       "  { testValue: \u001b[33m156\u001b[39m, elements: [ \u001b[33m15\u001b[39m, \u001b[33m6\u001b[39m ] },\n",
       "  { testValue: \u001b[33m7290\u001b[39m, elements: [ \u001b[33m6\u001b[39m, \u001b[33m8\u001b[39m, \u001b[33m6\u001b[39m, \u001b[33m15\u001b[39m ] },\n",
       "  { testValue: \u001b[33m161011\u001b[39m, elements: [ \u001b[33m16\u001b[39m, \u001b[33m10\u001b[39m, \u001b[33m13\u001b[39m ] },\n",
       "  { testValue: \u001b[33m192\u001b[39m, elements: [ \u001b[33m17\u001b[39m, \u001b[33m8\u001b[39m, \u001b[33m14\u001b[39m ] },\n",
       "  { testValue: \u001b[33m21037\u001b[39m, elements: [ \u001b[33m9\u001b[39m, \u001b[33m7\u001b[39m, \u001b[33m18\u001b[39m, \u001b[33m13\u001b[39m ] },\n",
       "  { testValue: \u001b[33m292\u001b[39m, elements: [ \u001b[33m11\u001b[39m, \u001b[33m6\u001b[39m, \u001b[33m16\u001b[39m, \u001b[33m20\u001b[39m ] }\n",
       "]"
      ]
     },
     "execution_count": 27,
     "metadata": {},
     "output_type": "execute_result"
    }
   ],
   "source": [
    "// Read Input\n",
    "const file = await Deno.readTextFile(\"input-base.txt\");\n",
    "const equations = file.split(\"\\n\").map(line => {\n",
    "    const [testValue, op] = line.split(/:\\s+/);\n",
    "    return {\n",
    "        testValue: parseInt(testValue),\n",
    "        elements: op.split(/\\s+/).map(Number)\n",
    "    }\n",
    "});\n",
    "equations;"
   ]
  },
  {
   "cell_type": "code",
   "execution_count": 28,
   "metadata": {},
   "outputs": [
    {
     "data": {
      "text/plain": [
       "\u001b[33m3749\u001b[39m"
      ]
     },
     "execution_count": 28,
     "metadata": {},
     "output_type": "execute_result"
    }
   ],
   "source": [
    "// part 1\n",
    "const isTrueEquation = (equation) => {\n",
    "    const { testValue, elements } = equation;\n",
    "\n",
    "    if (elements.length === 1) {\n",
    "        return testValue === elements[0];\n",
    "    }\n",
    "    const subTestValueS = testValue - elements[0];\n",
    "    if (subTestValueS >= 0 && isTrueEquation({ testValue: subTestValueS, elements: elements.slice(1) })) {\n",
    "        return true;\n",
    "    }\n",
    "    const subTestValueD = testValue / elements[0];\n",
    "    if (Number.isInteger(subTestValueD) && isTrueEquation({ testValue: subTestValueD, elements: elements.slice(1) })) {\n",
    "        return true;\n",
    "    }\n",
    "    return false;\n",
    "}\n",
    "\n",
    "equations.reduce((acc, equation) => {\n",
    "    return acc + (isTrueEquation({\n",
    "        testValue: equation.testValue,\n",
    "        elements: [...equation.elements].reverse()\n",
    "    }) ? equation.testValue : 0);\n",
    "}, 0);"
   ]
  },
  {
   "cell_type": "code",
   "execution_count": 29,
   "metadata": {},
   "outputs": [
    {
     "data": {
      "text/plain": [
       "\u001b[33m11387\u001b[39m"
      ]
     },
     "execution_count": 29,
     "metadata": {},
     "output_type": "execute_result"
    }
   ],
   "source": [
    "// part 2, format from part-1 won't work here so rewrite the function, less optimized\n",
    "\n",
    "const isTrueEquationV2 = (elements, testValue, currentValue, currentIndex) => {\n",
    "\n",
    "    if (currentIndex === elements.length - 1) {\n",
    "        return currentValue === testValue;\n",
    "    }\n",
    "\n",
    "    return isTrueEquationV2(\n",
    "        elements,\n",
    "        testValue,\n",
    "        currentValue + elements[currentIndex + 1],\n",
    "        currentIndex + 1\n",
    "    ) || isTrueEquationV2(\n",
    "        elements,\n",
    "        testValue,\n",
    "        currentValue * elements[currentIndex + 1],\n",
    "        currentIndex + 1\n",
    "    ) || isTrueEquationV2(\n",
    "        elements,\n",
    "        testValue,\n",
    "        parseInt(`${currentValue}${elements[currentIndex + 1]}`),\n",
    "        currentIndex + 1\n",
    "    );\n",
    "}\n",
    "\n",
    "equations.reduce((acc, equation) => {\n",
    "    return acc + (\n",
    "        isTrueEquationV2(\n",
    "            [...equation.elements],\n",
    "            equation.testValue,\n",
    "            equation.elements[0],\n",
    "            0\n",
    "        )\n",
    "            ? equation.testValue : 0);\n",
    "}, 0);"
   ]
  }
 ],
 "metadata": {
  "kernelspec": {
   "display_name": "Deno",
   "language": "typescript",
   "name": "deno"
  },
  "language_info": {
   "codemirror_mode": "typescript",
   "file_extension": ".ts",
   "mimetype": "text/x.typescript",
   "name": "typescript",
   "nbconvert_exporter": "script",
   "pygments_lexer": "typescript",
   "version": "5.6.2"
  }
 },
 "nbformat": 4,
 "nbformat_minor": 2
}
