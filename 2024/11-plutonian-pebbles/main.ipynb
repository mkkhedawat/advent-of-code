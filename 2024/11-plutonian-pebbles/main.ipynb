{
 "cells": [
  {
   "cell_type": "markdown",
   "metadata": {},
   "source": [
    "# 11 - Plutonian Pebbles\n",
    "\n",
    "https://adventofcode.com/2024/day/11\n"
   ]
  },
  {
   "cell_type": "code",
   "execution_count": 1,
   "metadata": {},
   "outputs": [],
   "source": [
    "// Imports\n",
    "\n",
    "import colors from \"../../utils/colors.ts\"\n",
    "import objects from \"../../utils/objects.ts\"\n",
    "import strings from \"../../utils/strings.ts\"\n",
    "import numbers from \"../../utils/numbers.ts\"\n",
    "import plots from \"../../utils/plots.ts\";"
   ]
  },
  {
   "cell_type": "code",
   "execution_count": 2,
   "metadata": {},
   "outputs": [
    {
     "data": {
      "text/plain": [
       "[ \u001b[33m125\u001b[39m, \u001b[33m17\u001b[39m ]"
      ]
     },
     "execution_count": 2,
     "metadata": {},
     "output_type": "execute_result"
    }
   ],
   "source": [
    "// Read Input\n",
    "const file = await Deno.readTextFile(\"input-base.txt\");\n",
    "const stones = file.split(/\\s+/).map(Number);\n",
    "stones"
   ]
  },
  {
   "cell_type": "code",
   "execution_count": 3,
   "metadata": {},
   "outputs": [
    {
     "name": "stdout",
     "output_type": "stream",
     "text": [
      "125->17, size - 2\n"
     ]
    }
   ],
   "source": [
    "// Prepare Data\n",
    "\n",
    "const linkedStones = {\n",
    "    head: {\n",
    "        value: stones[0],\n",
    "        next: null\n",
    "    },\n",
    "    size: 1,\n",
    "    blinks: 0\n",
    "}\n",
    "\n",
    "let current = linkedStones.head;\n",
    "for (let i = 1; i < stones.length; i++) {\n",
    "    current.next = {\n",
    "        value: stones[i],\n",
    "        next: null\n",
    "    }\n",
    "    current = current.next;\n",
    "    linkedStones.size += 1;\n",
    "}\n",
    "\n",
    "const printLinkedEls = (head) => {\n",
    "    let current = head;\n",
    "    const values = [];\n",
    "    while (current) {\n",
    "        values.push(current.value);\n",
    "        current = current.next;\n",
    "    }\n",
    "    console.log(`${values.join(\"->\")}, size - ${values.length}`);\n",
    "}\n",
    "\n",
    "printLinkedEls(linkedStones.head);"
   ]
  },
  {
   "cell_type": "code",
   "execution_count": 4,
   "metadata": {},
   "outputs": [
    {
     "data": {
      "text/plain": [
       "\u001b[33m55312\u001b[39m"
      ]
     },
     "execution_count": 4,
     "metadata": {},
     "output_type": "execute_result"
    }
   ],
   "source": [
    "// part 1 - How many stones will you have after blinking 25 times?, Brute-force\n",
    "\n",
    "import objects from \"../../utils/objects.ts\";\n",
    "\n",
    "const updateStonesOnBlink = (linkedStones) => {\n",
    "    let current = linkedStones.head;\n",
    "    while (current !== null) {\n",
    "        const value = current.value;\n",
    "        // apply rules \n",
    "        // 1. If the stone is engraved with the number 0, it is replaced by a stone engraved with the number 1.\n",
    "        if (value === 0) {\n",
    "            current.value = 1;\n",
    "            current = current.next;\n",
    "            continue;\n",
    "        }\n",
    "        const valueStr = String(value);\n",
    "        // 2. If the stone is engraved with a number that has an even number of digits, it is replaced by two stones. The left half of the digits are engraved on the new left stone, and the right half of the digits are engraved on the new right stone. (The new numbers don't keep extra leading zeroes: 1000 would become stones 10 and 0.)\n",
    "        const valueStrLength = valueStr.length;\n",
    "        if (valueStrLength % 2 === 0) {\n",
    "            const left = Number(valueStr.slice(0, valueStrLength / 2));\n",
    "            const right = Number(valueStr.slice(valueStrLength / 2));\n",
    "            current.value = left;\n",
    "            current.next = {\n",
    "                value: right,\n",
    "                next: current.next\n",
    "            }\n",
    "            linkedStones.size += 1;\n",
    "            current = current.next.next;\n",
    "            continue;\n",
    "        }\n",
    "        // 3. If none of the other rules apply, the stone is replaced by a new stone; the old stone's number multiplied by 2024 is engraved on the new stone.\n",
    "        current.value = value * 2024;\n",
    "        current = current.next;\n",
    "    }\n",
    "    return linkedStones;\n",
    "}\n",
    "\n",
    "const localLinkedStones = objects.deepCopy(linkedStones);\n",
    "while (localLinkedStones.blinks < 25) {\n",
    "    updateStonesOnBlink(localLinkedStones);\n",
    "    localLinkedStones.blinks += 1;\n",
    "    // printLinkedEls(localLinkedStones.head);\n",
    "};\n",
    "localLinkedStones.size;"
   ]
  },
  {
   "cell_type": "code",
   "execution_count": 5,
   "metadata": {},
   "outputs": [
    {
     "data": {
      "text/plain": [
       "\u001b[33m65601038650482\u001b[39m"
      ]
     },
     "execution_count": 5,
     "metadata": {},
     "output_type": "execute_result"
    }
   ],
   "source": [
    "// part 2 - How many stones will you have after blinking 75 times? Brute-force won't work\n",
    "\n",
    "const cache = {};\n",
    "const fetchKey = (i, j) => `${i}-${j}`;\n",
    "const fetchFutureStonesOnBlink = (value) => {\n",
    "    if (value === 0) return [1];\n",
    "    const valueStr = String(value);\n",
    "    const valueStrLength = valueStr.length;\n",
    "    if (valueStrLength % 2 === 0) {\n",
    "        const left = Number(valueStr.slice(0, valueStrLength / 2));\n",
    "        const right = Number(valueStr.slice(valueStrLength / 2));\n",
    "        return [left, right];;\n",
    "    }\n",
    "    return [value * 2024];\n",
    "}\n",
    "const findBlinkSize = (el, blink) => {\n",
    "    if (blink === 0) {\n",
    "        return 1;\n",
    "    }\n",
    "    const key = fetchKey(el, blink);\n",
    "    if (cache[key]) {\n",
    "        return cache[key];\n",
    "    };\n",
    "    const nextStones = fetchFutureStonesOnBlink(el);\n",
    "    const size = findBlinkSize(nextStones[0], blink - 1) + (Number.isInteger(nextStones[1]) ? findBlinkSize(nextStones[1], blink - 1) : 0);\n",
    "    cache[key] = size;\n",
    "    return size;\n",
    "};\n",
    "\n",
    "stones.reduce((acc, el) => acc + findBlinkSize(el, 75), 0);"
   ]
  },
  {
   "cell_type": "code",
   "execution_count": 6,
   "metadata": {},
   "outputs": [
    {
     "data": {
      "image/svg+xml": [
       "<svg viewBox=\"0 0 640 400\" height=\"400\" width=\"640\" text-anchor=\"middle\" font-size=\"10\" font-family=\"system-ui, sans-serif\" fill=\"currentColor\" class=\"plot-d6a7b5\"><style>:where(.plot-d6a7b5) {\n",
       "  --plot-background: white;\n",
       "  display: block;\n",
       "  height: auto;\n",
       "  height: intrinsic;\n",
       "  max-width: 100%;\n",
       "}\n",
       ":where(.plot-d6a7b5 text),\n",
       ":where(.plot-d6a7b5 tspan) {\n",
       "  white-space: pre;\n",
       "}</style><g stroke-opacity=\"0.1\" stroke=\"currentColor\" aria-hidden=\"true\" aria-label=\"y-grid\"><line y2=\"319.77059369446465\" y1=\"319.77059369446465\" x2=\"620\" x1=\"40\" /><line y2=\"269.54118738891924\" y1=\"269.54118738891924\" x2=\"620\" x1=\"40\" /><line y2=\"219.31178108337383\" y1=\"219.31178108337383\" x2=\"620\" x1=\"40\" /><line y2=\"169.08237477782842\" y1=\"169.08237477782842\" x2=\"620\" x1=\"40\" /><line y2=\"118.85296847228302\" y1=\"118.85296847228302\" x2=\"620\" x1=\"40\" /><line y2=\"68.62356216673761\" y1=\"68.62356216673761\" x2=\"620\" x1=\"40\" /></g><g stroke=\"currentColor\" fill=\"none\" aria-hidden=\"true\" aria-label=\"y-axis tick\"><path d=\"M0,0L-6,0\" transform=\"translate(40,319.77059369446465)\" /><path d=\"M0,0L-6,0\" transform=\"translate(40,269.54118738891924)\" /><path d=\"M0,0L-6,0\" transform=\"translate(40,219.31178108337383)\" /><path d=\"M0,0L-6,0\" transform=\"translate(40,169.08237477782842)\" /><path d=\"M0,0L-6,0\" transform=\"translate(40,118.85296847228302)\" /><path d=\"M0,0L-6,0\" transform=\"translate(40,68.62356216673761)\" /></g><g transform=\"translate(-9,0)\" font-variant=\"tabular-nums\" text-anchor=\"end\" aria-label=\"y-axis tick label\"><text transform=\"translate(40,319.77059369446465)\" y=\"0.32em\">5,000,000,000,000</text><text transform=\"translate(40,269.54118738891924)\" y=\"0.32em\">10,000,000,000,000</text><text transform=\"translate(40,219.31178108337383)\" y=\"0.32em\">15,000,000,000,000</text><text transform=\"translate(40,169.08237477782842)\" y=\"0.32em\">20,000,000,000,000</text><text transform=\"translate(40,118.85296847228302)\" y=\"0.32em\">25,000,000,000,000</text><text transform=\"translate(40,68.62356216673761)\" y=\"0.32em\">30,000,000,000,000</text></g><g transform=\"translate(-37,-17)\" text-anchor=\"start\" aria-label=\"y-axis label\"><text transform=\"translate(40,20)\" y=\"0.71em\">↑ stones</text></g><g stroke=\"currentColor\" fill=\"none\" aria-hidden=\"true\" aria-label=\"x-axis tick\"><path d=\"M0,0L0,6\" transform=\"translate(40,370)\" /><path d=\"M0,0L0,6\" transform=\"translate(118.37837837837839,370)\" /><path d=\"M0,0L0,6\" transform=\"translate(196.75675675675677,370)\" /><path d=\"M0,0L0,6\" transform=\"translate(275.13513513513516,370)\" /><path d=\"M0,0L0,6\" transform=\"translate(353.51351351351354,370)\" /><path d=\"M0,0L0,6\" transform=\"translate(431.8918918918919,370)\" /><path d=\"M0,0L0,6\" transform=\"translate(510.27027027027026,370)\" /><path d=\"M0,0L0,6\" transform=\"translate(588.6486486486486,370)\" /></g><g transform=\"translate(0,9)\" font-variant=\"tabular-nums\" aria-label=\"x-axis tick label\"><text transform=\"translate(40,370)\" y=\"0.71em\">0</text><text transform=\"translate(118.37837837837839,370)\" y=\"0.71em\">10</text><text transform=\"translate(196.75675675675677,370)\" y=\"0.71em\">20</text><text transform=\"translate(275.13513513513516,370)\" y=\"0.71em\">30</text><text transform=\"translate(353.51351351351354,370)\" y=\"0.71em\">40</text><text transform=\"translate(431.8918918918919,370)\" y=\"0.71em\">50</text><text transform=\"translate(510.27027027027026,370)\" y=\"0.71em\">60</text><text transform=\"translate(588.6486486486486,370)\" y=\"0.71em\">70</text></g><g transform=\"translate(17,27)\" text-anchor=\"end\" aria-label=\"x-axis label\"><text transform=\"translate(620,370)\">blinks →</text></g><g stroke-linecap=\"round\" stroke-linejoin=\"round\" stroke-width=\"1.5\" stroke=\"currentColor\" fill=\"none\" aria-label=\"line\"><path d=\"M40,370L47.838,370L55.676,370L63.514,370L71.351,370L79.189,370L87.027,370L94.865,370L102.703,370L110.541,370L118.378,370L126.216,370L134.054,370L141.892,370L149.73,370L157.568,370L165.405,370L173.243,370L181.081,370L188.919,370L196.757,370L204.595,370L212.432,370L220.27,370L228.108,370L235.946,370L243.784,370L251.622,370L259.459,370L267.297,370L275.135,370L282.973,370L290.811,370L298.649,370L306.486,370L314.324,370L322.162,370L330,370L337.838,370L345.676,370L353.514,370L361.351,370L369.189,369.999L377.027,369.999L384.865,369.999L392.703,369.998L400.541,369.997L408.378,369.996L416.216,369.993L424.054,369.99L431.892,369.985L439.73,369.977L447.568,369.964L455.405,369.946L463.243,369.918L471.081,369.876L478.919,369.811L486.757,369.713L494.595,369.564L502.432,369.337L510.27,368.994L518.108,368.473L525.946,367.678L533.784,366.476L541.622,364.644L549.459,361.865L557.297,357.65L565.135,351.228L572.973,341.503L580.811,326.708L588.649,304.227L596.486,270.14L604.324,218.257L612.162,139.564L620,20\" /></g></svg>"
      ]
     },
     "execution_count": 6,
     "metadata": {},
     "output_type": "execute_result"
    }
   ],
   "source": [
    "// visualization\n",
    "\n",
    "const x = new Array(75).fill(0).map((_, i) => i);\n",
    "const y = x.map(i => findBlinkSize(2024, i));\n",
    "const show = plots.lineGraph(x, y, { x: \"blinks\", y: \"stones\" })\n",
    "await show()"
   ]
  }
 ],
 "metadata": {
  "kernelspec": {
   "display_name": "Deno",
   "language": "typescript",
   "name": "deno"
  },
  "language_info": {
   "codemirror_mode": "typescript",
   "file_extension": ".ts",
   "mimetype": "text/x.typescript",
   "name": "typescript",
   "nbconvert_exporter": "script",
   "pygments_lexer": "typescript",
   "version": "5.6.2"
  }
 },
 "nbformat": 4,
 "nbformat_minor": 2
}
