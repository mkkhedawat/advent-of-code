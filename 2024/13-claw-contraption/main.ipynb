{
 "cells": [
  {
   "cell_type": "markdown",
   "metadata": {},
   "source": [
    "# 13 - Claw Contraption\n",
    "\n",
    "https://adventofcode.com/2024/day/13\n"
   ]
  },
  {
   "cell_type": "code",
   "execution_count": 87,
   "metadata": {},
   "outputs": [],
   "source": [
    "// Imports\n",
    "\n",
    "import colors from \"../../utils/colors.ts\"\n",
    "import objects from \"../../utils/objects.ts\"\n",
    "import strings from \"../../utils/strings.ts\"\n",
    "import numbers from \"../../utils/numbers.ts\"\n",
    "import plots from \"../../utils/plots.ts\";"
   ]
  },
  {
   "cell_type": "code",
   "execution_count": 88,
   "metadata": {},
   "outputs": [
    {
     "data": {
      "text/plain": [
       "[\n",
       "  ClawMachine {\n",
       "    prize: CoOrds { x: \u001b[33m8400\u001b[39m, y: \u001b[33m5400\u001b[39m },\n",
       "    a: CoOrds { x: \u001b[33m94\u001b[39m, y: \u001b[33m34\u001b[39m },\n",
       "    b: CoOrds { x: \u001b[33m22\u001b[39m, y: \u001b[33m67\u001b[39m }\n",
       "  },\n",
       "  ClawMachine {\n",
       "    prize: CoOrds { x: \u001b[33m12748\u001b[39m, y: \u001b[33m12176\u001b[39m },\n",
       "    a: CoOrds { x: \u001b[33m26\u001b[39m, y: \u001b[33m66\u001b[39m },\n",
       "    b: CoOrds { x: \u001b[33m67\u001b[39m, y: \u001b[33m21\u001b[39m }\n",
       "  },\n",
       "  ClawMachine {\n",
       "    prize: CoOrds { x: \u001b[33m7870\u001b[39m, y: \u001b[33m6450\u001b[39m },\n",
       "    a: CoOrds { x: \u001b[33m17\u001b[39m, y: \u001b[33m86\u001b[39m },\n",
       "    b: CoOrds { x: \u001b[33m84\u001b[39m, y: \u001b[33m37\u001b[39m }\n",
       "  },\n",
       "  ClawMachine {\n",
       "    prize: CoOrds { x: \u001b[33m18641\u001b[39m, y: \u001b[33m10279\u001b[39m },\n",
       "    a: CoOrds { x: \u001b[33m69\u001b[39m, y: \u001b[33m23\u001b[39m },\n",
       "    b: CoOrds { x: \u001b[33m27\u001b[39m, y: \u001b[33m71\u001b[39m }\n",
       "  }\n",
       "]"
      ]
     },
     "execution_count": 88,
     "metadata": {},
     "output_type": "execute_result"
    }
   ],
   "source": [
    "// Read Input\n",
    "\n",
    "const file = await Deno.readTextFile(\"input-base.txt\");\n",
    "class CoOrds {\n",
    "    x: number;\n",
    "    y: number;\n",
    "\n",
    "    constructor(x: string, y: string) {\n",
    "        this.x = parseInt(x);\n",
    "        this.y = parseInt(y);\n",
    "    }\n",
    "\n",
    "    equals(other: CoOrds): boolean {\n",
    "        return this.x === other.x && this.y === other.y;\n",
    "    }\n",
    "}\n",
    "\n",
    "class ClawMachine {\n",
    "    prize: CoOrds;\n",
    "    a: CoOrds;\n",
    "    b: CoOrds;\n",
    "\n",
    "    constructor(prize: CoOrds, a: CoOrds, b: CoOrds) {\n",
    "        this.prize = prize;\n",
    "        this.a = a;\n",
    "        this.b = b;\n",
    "    }\n",
    "}\n",
    "\n",
    "const machines = [];\n",
    "const lines = file.split(\"\\n\");\n",
    "for (let i = 0; i < lines.length; i += 4) {\n",
    "    const [, ax, ay] = lines[i].match(/Button A: X\\+(\\d+), Y\\+(\\d+)/);\n",
    "    const [, bx, by] = lines[i + 1].match(/Button B: X\\+(\\d+), Y\\+(\\d+)/);\n",
    "    const [, px, py] = lines[i + 2].match(/Prize: X=(\\d+), Y=(\\d+)/);\n",
    "    machines.push(new ClawMachine(new CoOrds(px, py), new CoOrds(ax, ay), new CoOrds(bx, by)));\n",
    "}\n",
    "machines"
   ]
  },
  {
   "cell_type": "code",
   "execution_count": 89,
   "metadata": {},
   "outputs": [
    {
     "data": {
      "text/plain": [
       "{ wins: \u001b[33m2\u001b[39m, cost: \u001b[33m480\u001b[39m }"
      ]
     },
     "execution_count": 89,
     "metadata": {},
     "output_type": "execute_result"
    }
   ],
   "source": [
    "// Part 1 - What is the fewest tokens you would have to spend to win all possible prizes? \n",
    "\n",
    "const MAX_ATTEMPTS = 100; // Brute-force is fine for this small number of attempts\n",
    "const calculateCost = (a, b) => 3 * a + b;\n",
    "\n",
    "const findMinCostToWinPrize = (machine) => {\n",
    "    const maxStepsForA = Math.min(Math.ceil(machine.prize.x / machine.a.x), MAX_ATTEMPTS);\n",
    "    const maxStepsForB = Math.min(Math.ceil(machine.prize.x / machine.b.x), MAX_ATTEMPTS);\n",
    "    let minCost = Infinity;\n",
    "    for (let i = 0; i <= maxStepsForA; i++) {\n",
    "        for (let j = 0; j <= maxStepsForB; j++) {\n",
    "            const x = i * machine.a.x + j * machine.b.x;\n",
    "            const y = i * machine.a.y + j * machine.b.y;\n",
    "            if (machine.prize.equals(new CoOrds(x, y))) {\n",
    "                const cost = calculateCost(i, j);\n",
    "                if (cost < minCost) {\n",
    "                    minCost = cost;\n",
    "                }\n",
    "            }\n",
    "        }\n",
    "    }\n",
    "    return minCost\n",
    "}\n",
    "machines.reduce((acc, machine) => {\n",
    "    const cost = findMinCostToWinPrize(machine);\n",
    "    if (!Number.isFinite(cost)) return acc;\n",
    "    return {\n",
    "        wins: acc.wins + 1,\n",
    "        cost: acc.cost + cost\n",
    "    }\n",
    "\n",
    "}, { wins: 0, cost: 0 })"
   ]
  },
  {
   "cell_type": "code",
   "execution_count": 90,
   "metadata": {},
   "outputs": [
    {
     "data": {
      "text/plain": [
       "{ wins: \u001b[33m2\u001b[39m, cost: \u001b[33m875318608908\u001b[39m }"
      ]
     },
     "execution_count": 90,
     "metadata": {},
     "output_type": "execute_result"
    }
   ],
   "source": [
    "// Part 2 - What is the fewest tokens you would have to spend to win all possible prizes with no attempts limit ?\n",
    "\n",
    "const THRESHOLD_ADD = 10000000000000;\n",
    "\n",
    "const findMinCostToWinPrizeV2 = (machine) => {\n",
    "    // ax + by = c, There is only one intersection or none for two lines\n",
    "    const [a1, a2] = [machine.a.x, machine.a.y];\n",
    "    const [b1, b2] = [machine.b.x, machine.b.y];\n",
    "    const [c1, c2] = [machine.prize.x, machine.prize.y];\n",
    "\n",
    "    const denominator = a1 * b2 - a2 * b1;\n",
    "    if (denominator === 0) {\n",
    "        // No intersection\n",
    "        return Infinity;\n",
    "    }\n",
    "    const x = (c1 * b2 - c2 * b1) / denominator;\n",
    "    const y = (a1 * c2 - a2 * c1) / denominator;\n",
    "\n",
    "    if (x > 0 && y > 0 && Number.isInteger(x) && Number.isInteger(y)) {\n",
    "        return calculateCost(x, y);\n",
    "    }\n",
    "    return Infinity;\n",
    "};\n",
    "\n",
    "machines.reduce((acc, machine) => {\n",
    "    const modifiedMachine = objects.deepCopy(machine);\n",
    "    modifiedMachine.prize.x += THRESHOLD_ADD;\n",
    "    modifiedMachine.prize.y += THRESHOLD_ADD;\n",
    "    const cost = findMinCostToWinPrizeV2(modifiedMachine);\n",
    "    if (!Number.isFinite(cost)) return acc;\n",
    "    return {\n",
    "        wins: acc.wins + 1,\n",
    "        cost: acc.cost + cost\n",
    "    }\n",
    "\n",
    "}, { wins: 0, cost: 0 });"
   ]
  }
 ],
 "metadata": {
  "kernelspec": {
   "display_name": "Deno",
   "language": "typescript",
   "name": "deno"
  },
  "language_info": {
   "codemirror_mode": "typescript",
   "file_extension": ".ts",
   "mimetype": "text/x.typescript",
   "name": "typescript",
   "nbconvert_exporter": "script",
   "pygments_lexer": "typescript",
   "version": "5.6.2"
  }
 },
 "nbformat": 4,
 "nbformat_minor": 2
}
