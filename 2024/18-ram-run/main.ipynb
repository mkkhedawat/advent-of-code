{
 "cells": [
  {
   "cell_type": "markdown",
   "metadata": {},
   "source": [
    "# 18 - RAM Run\n",
    "\n",
    "https://adventofcode.com/2024/day/18\n"
   ]
  },
  {
   "cell_type": "code",
   "execution_count": 6,
   "metadata": {},
   "outputs": [],
   "source": [
    "// Imports\n",
    "\n",
    "import colors from \"../../utils/colors.ts\"\n",
    "import objects from \"../../utils/objects.ts\"\n",
    "import strings from \"../../utils/strings.ts\"\n",
    "import numbers from \"../../utils/numbers.ts\"\n",
    "import plots from \"../../utils/plots.ts\";\n",
    "import images from \"../../utils/images.ts\";\n",
    "import arrays from \"../../utils/arrays.ts\";"
   ]
  },
  {
   "cell_type": "code",
   "execution_count": 7,
   "metadata": {},
   "outputs": [
    {
     "data": {
      "text/plain": [
       "[\n",
       "  [ \u001b[32m\"5\"\u001b[39m, \u001b[32m\"4\"\u001b[39m ], [ \u001b[32m\"4\"\u001b[39m, \u001b[32m\"2\"\u001b[39m ],\n",
       "  [ \u001b[32m\"4\"\u001b[39m, \u001b[32m\"5\"\u001b[39m ], [ \u001b[32m\"3\"\u001b[39m, \u001b[32m\"0\"\u001b[39m ],\n",
       "  [ \u001b[32m\"2\"\u001b[39m, \u001b[32m\"1\"\u001b[39m ], [ \u001b[32m\"6\"\u001b[39m, \u001b[32m\"3\"\u001b[39m ],\n",
       "  [ \u001b[32m\"2\"\u001b[39m, \u001b[32m\"4\"\u001b[39m ], [ \u001b[32m\"1\"\u001b[39m, \u001b[32m\"5\"\u001b[39m ],\n",
       "  [ \u001b[32m\"0\"\u001b[39m, \u001b[32m\"6\"\u001b[39m ], [ \u001b[32m\"3\"\u001b[39m, \u001b[32m\"3\"\u001b[39m ],\n",
       "  [ \u001b[32m\"2\"\u001b[39m, \u001b[32m\"6\"\u001b[39m ], [ \u001b[32m\"5\"\u001b[39m, \u001b[32m\"1\"\u001b[39m ],\n",
       "  [ \u001b[32m\"1\"\u001b[39m, \u001b[32m\"2\"\u001b[39m ], [ \u001b[32m\"5\"\u001b[39m, \u001b[32m\"5\"\u001b[39m ],\n",
       "  [ \u001b[32m\"2\"\u001b[39m, \u001b[32m\"5\"\u001b[39m ], [ \u001b[32m\"6\"\u001b[39m, \u001b[32m\"5\"\u001b[39m ],\n",
       "  [ \u001b[32m\"1\"\u001b[39m, \u001b[32m\"4\"\u001b[39m ], [ \u001b[32m\"0\"\u001b[39m, \u001b[32m\"4\"\u001b[39m ],\n",
       "  [ \u001b[32m\"6\"\u001b[39m, \u001b[32m\"4\"\u001b[39m ], [ \u001b[32m\"1\"\u001b[39m, \u001b[32m\"1\"\u001b[39m ],\n",
       "  [ \u001b[32m\"6\"\u001b[39m, \u001b[32m\"1\"\u001b[39m ], [ \u001b[32m\"1\"\u001b[39m, \u001b[32m\"0\"\u001b[39m ],\n",
       "  [ \u001b[32m\"0\"\u001b[39m, \u001b[32m\"5\"\u001b[39m ], [ \u001b[32m\"1\"\u001b[39m, \u001b[32m\"6\"\u001b[39m ],\n",
       "  [ \u001b[32m\"2\"\u001b[39m, \u001b[32m\"0\"\u001b[39m ]\n",
       "]"
      ]
     },
     "execution_count": 7,
     "metadata": {},
     "output_type": "execute_result"
    }
   ],
   "source": [
    "// Read Input\n",
    "\n",
    "const file = await Deno.readTextFile(\"input-base.txt\");\n",
    "const fallingBytes = file.split(\"\\n\").map((line) => line.split(\",\"));\n",
    "fallingBytes"
   ]
  },
  {
   "cell_type": "code",
   "execution_count": 8,
   "metadata": {},
   "outputs": [],
   "source": [
    "// Prepare Data\n",
    "\n",
    "const DIMENSIONS = [7, 7];"
   ]
  },
  {
   "cell_type": "code",
   "execution_count": 9,
   "metadata": {},
   "outputs": [
    {
     "name": "stdout",
     "output_type": "stream",
     "text": [
      "\u001b[47m  \u001b[49m\u001b[42m  \u001b[49m\u001b[42m  \u001b[49m\u001b[47m  \u001b[49m\u001b[47m  \u001b[49m\u001b[47m  \u001b[49m\u001b[40m  \u001b[49m\n",
      "\u001b[47m  \u001b[49m\u001b[47m  \u001b[49m\u001b[42m  \u001b[49m\u001b[47m  \u001b[49m\u001b[47m  \u001b[49m\u001b[40m  \u001b[49m\u001b[47m  \u001b[49m\n",
      "\u001b[47m  \u001b[49m\u001b[40m  \u001b[49m\u001b[42m  \u001b[49m\u001b[47m  \u001b[49m\u001b[40m  \u001b[49m\u001b[47m  \u001b[49m\u001b[40m  \u001b[49m\n",
      "\u001b[40m  \u001b[49m\u001b[42m  \u001b[49m\u001b[42m  \u001b[49m\u001b[40m  \u001b[49m\u001b[42m  \u001b[49m\u001b[42m  \u001b[49m\u001b[42m  \u001b[49m\n",
      "\u001b[42m  \u001b[49m\u001b[42m  \u001b[49m\u001b[40m  \u001b[49m\u001b[42m  \u001b[49m\u001b[42m  \u001b[49m\u001b[40m  \u001b[49m\u001b[42m  \u001b[49m\n",
      "\u001b[42m  \u001b[49m\u001b[40m  \u001b[49m\u001b[42m  \u001b[49m\u001b[42m  \u001b[49m\u001b[40m  \u001b[49m\u001b[47m  \u001b[49m\u001b[42m  \u001b[49m\n",
      "\u001b[42m  \u001b[49m\u001b[42m  \u001b[49m\u001b[42m  \u001b[49m\u001b[40m  \u001b[49m\u001b[47m  \u001b[49m\u001b[47m  \u001b[49m\u001b[42m  \u001b[49m\n"
     ]
    },
    {
     "data": {
      "text/plain": [
       "[ \u001b[33m22\u001b[39m ]"
      ]
     },
     "execution_count": 9,
     "metadata": {},
     "output_type": "execute_result"
    }
   ],
   "source": [
    "// Part 1 - what is the minimum number of steps needed to reach the exit?\n",
    "\n",
    "const isCorrupted = el => el === '#';\n",
    "const visitedKey = (i, j) => `${i}-${j}`;\n",
    "const directions = [[0, 1], [1, 0], [0, -1], [-1, 0]];\n",
    "\n",
    "const findMinSteps = (area: string[][], startPosition: [], maxIterations = 1000000) => {\n",
    "    const stack = [{ position: startPosition, path: new Set<string>(), steps: 0 }];\n",
    "\n",
    "    let minSteps = Number.MAX_SAFE_INTEGER;\n",
    "    let minPath = null;\n",
    "    const visited = {}\n",
    "\n",
    "    while (stack.length > 0) {\n",
    "        const { position, path, steps } = stack.shift();\n",
    "        const [i, j] = position;\n",
    "\n",
    "        if (i < 0 || i >= area.length || j < 0 || j >= area[0].length) {\n",
    "            continue;\n",
    "        }\n",
    "\n",
    "        if (maxIterations-- < 0) break;\n",
    "\n",
    "        const currentPathKey = visitedKey(i, j);\n",
    "        if (visited[currentPathKey]) continue;\n",
    "        visited[currentPathKey] = true;\n",
    "\n",
    "        path.add(currentPathKey);\n",
    "        if (i === area.length - 1 && j === area[0].length - 1) {\n",
    "            // since path is not weighted, first reach will be shortest of all\n",
    "            minPath = path;\n",
    "            minSteps = steps;\n",
    "            break;\n",
    "        }\n",
    "\n",
    "        directions.forEach((d) => {\n",
    "            const next = area[i + d[0]] ? area[i + d[0]][j + d[1]] : null;\n",
    "            if (next && !isCorrupted(next)) {\n",
    "                stack.push({ position: [i + d[0], j + d[1]], path: new Set([...path]), steps: steps + 1 });\n",
    "            }\n",
    "        });\n",
    "    }\n",
    "    return [minSteps, minPath];\n",
    "}\n",
    "\n",
    "const currentArea = new Array(DIMENSIONS[0]).fill(0).map(() => new Array(DIMENSIONS[1]).fill('.'));\n",
    "fallingBytes.slice(0, 12).forEach(([i, j]) => {\n",
    "    currentArea[i][j] = '#';\n",
    "});\n",
    "const [minSteps, minPath] = findMinSteps(currentArea, [0, 0]);\n",
    "[...minPath].forEach((pathKey, index) => {\n",
    "    if (index === 0) return;\n",
    "    const [i, j] = pathKey.split('-');\n",
    "    currentArea[i][j] = '0';\n",
    "});\n",
    "colors.visualize2DArray(currentArea, {\n",
    "    colors: {\n",
    "        '.': colors.bgWhite,\n",
    "        '0': colors.bgGreen,\n",
    "        '#': colors.bgBlack,\n",
    "    }\n",
    "});\n",
    "\n",
    "[minSteps]"
   ]
  },
  {
   "cell_type": "code",
   "execution_count": 10,
   "metadata": {},
   "outputs": [
    {
     "name": "stdout",
     "output_type": "stream",
     "text": [
      "[ \"6\", \"1\" ]\n"
     ]
    }
   ],
   "source": [
    "// Part 2 - What are the coordinates of the first byte that will prevent the exit from being reachable from your starting position\n",
    "\n",
    "const part2Area = new Array(DIMENSIONS[0]).fill(0).map(() => new Array(DIMENSIONS[1]).fill('.'));\n",
    "fallingBytes.slice(0, 12).forEach(([i, j]) => {\n",
    "    currentArea[i][j] = '#';\n",
    "});\n",
    "let lastPath = null\n",
    "for (let i = 12; i < fallingBytes.length; i++) {\n",
    "    currentArea[fallingBytes[i][0]][fallingBytes[i][1]] = '#';\n",
    "    if (lastPath && !lastPath.has(visitedKey(fallingBytes[i][0], fallingBytes[i][1]))) continue;\n",
    "    const [_, minPath] = findMinSteps(currentArea, [0, 0]);\n",
    "    if (!minPath) {\n",
    "        console.log(fallingBytes[i]);\n",
    "        break;\n",
    "    }\n",
    "    else {\n",
    "        lastPath = minPath;\n",
    "    }\n",
    "}"
   ]
  }
 ],
 "metadata": {
  "kernelspec": {
   "display_name": "Deno",
   "language": "typescript",
   "name": "deno"
  },
  "language_info": {
   "codemirror_mode": "typescript",
   "file_extension": ".ts",
   "mimetype": "text/x.typescript",
   "name": "typescript",
   "nbconvert_exporter": "script",
   "pygments_lexer": "typescript",
   "version": "5.6.2"
  }
 },
 "nbformat": 4,
 "nbformat_minor": 2
}
