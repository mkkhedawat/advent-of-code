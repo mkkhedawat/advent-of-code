{
 "cells": [
  {
   "cell_type": "markdown",
   "metadata": {},
   "source": [
    "# 17 - Chronospatial Computer\n",
    "\n",
    "https://adventofcode.com/2024/day/17\n"
   ]
  },
  {
   "cell_type": "code",
   "execution_count": 1,
   "metadata": {},
   "outputs": [],
   "source": [
    "// Imports\n",
    "\n",
    "import colors from \"../../utils/colors.ts\"\n",
    "import objects from \"../../utils/objects.ts\"\n",
    "import strings from \"../../utils/strings.ts\"\n",
    "import numbers from \"../../utils/numbers.ts\"\n",
    "import plots from \"../../utils/plots.ts\";\n",
    "import images from \"../../utils/images.ts\";\n",
    "import arrays from \"../../utils/arrays.ts\";"
   ]
  },
  {
   "cell_type": "code",
   "execution_count": 2,
   "metadata": {},
   "outputs": [
    {
     "data": {
      "text/plain": [
       "[\n",
       "  \u001b[33m47006051\u001b[39m,\n",
       "  \u001b[33m0\u001b[39m,\n",
       "  \u001b[33m0\u001b[39m,\n",
       "  [\n",
       "    \u001b[33m2\u001b[39m, \u001b[33m4\u001b[39m, \u001b[33m1\u001b[39m, \u001b[33m3\u001b[39m, \u001b[33m7\u001b[39m, \u001b[33m5\u001b[39m,\n",
       "    \u001b[33m1\u001b[39m, \u001b[33m5\u001b[39m, \u001b[33m0\u001b[39m, \u001b[33m3\u001b[39m, \u001b[33m4\u001b[39m, \u001b[33m3\u001b[39m,\n",
       "    \u001b[33m5\u001b[39m, \u001b[33m5\u001b[39m, \u001b[33m3\u001b[39m, \u001b[33m0\u001b[39m\n",
       "  ]\n",
       "]"
      ]
     },
     "execution_count": 2,
     "metadata": {},
     "output_type": "execute_result"
    }
   ],
   "source": [
    "// Read Input\n",
    "\n",
    "const file = await Deno.readTextFile(\"input.txt\");\n",
    "\n",
    "const [rAStr, rBStr, rCStr, _, programStr] = file.split(\"\\n\");\n",
    "\n",
    "const registerA = parseInt(rAStr.split(':')![1].trim());\n",
    "const registerB = parseInt(rBStr.split(':')![1].trim());\n",
    "const registerC = parseInt(rCStr.split(':')![1].trim());\n",
    "const program = programStr.split(':')![1].split(\",\").map(Number);\n",
    "\n",
    "[registerA, registerB, registerC, program]"
   ]
  },
  {
   "cell_type": "code",
   "execution_count": 3,
   "metadata": {},
   "outputs": [
    {
     "data": {
      "text/plain": [
       "\u001b[32m\"6,2,7,2,3,1,6,0,5\"\u001b[39m"
      ]
     },
     "execution_count": 3,
     "metadata": {},
     "output_type": "execute_result"
    }
   ],
   "source": [
    "// Part 1 - What do you get if you use commas to join the values it output into a single string?\n",
    "\n",
    "const powersOf2 = (n: number) => {\n",
    "    return 2 ** n;\n",
    "}\n",
    "\n",
    "const runProgram = (registerA: number, registerB: number, registerC: number, program: number[]) => {\n",
    "    let [rA, rB, rC] = [registerA, registerB, registerC];\n",
    "    let output = [];\n",
    "\n",
    "    for (let i = 0; ; i += 2) {\n",
    "        if (i >= program.length - 1) break;\n",
    "\n",
    "        const opcode = program[i];\n",
    "        const operand = program[i + 1];\n",
    "\n",
    "        const literalOperandValue = operand;\n",
    "        const comboOperandValue = ((operand) => {\n",
    "            switch (operand) {\n",
    "                case 4:\n",
    "                    return rA;\n",
    "                case 5:\n",
    "                    return rB;\n",
    "                case 6:\n",
    "                    return rC;\n",
    "                default:\n",
    "                    return operand;\n",
    "            }\n",
    "        })(operand);\n",
    "\n",
    "        switch (opcode) {\n",
    "            case 0:\n",
    "                //adv\n",
    "                rA = Math.floor(rA / powersOf2(comboOperandValue));;\n",
    "                break;\n",
    "            case 1:\n",
    "                //bxl\n",
    "                rB = rB ^ literalOperandValue;;\n",
    "                break;\n",
    "            case 2:\n",
    "                //bst\n",
    "                rB = comboOperandValue % 8;\n",
    "                break;\n",
    "            case 3:\n",
    "                //jnz\n",
    "                if (rA !== 0) {\n",
    "                    i = literalOperandValue - 2;\n",
    "                }\n",
    "                break;\n",
    "            case 4:\n",
    "                // bxc\n",
    "                rB = rB ^ rC;\n",
    "                break;\n",
    "            case 5:\n",
    "                output.push(comboOperandValue % 8);\n",
    "                break;\n",
    "            case 6:\n",
    "                //bdv\n",
    "                rB = Math.floor(rA / powersOf2(comboOperandValue));;\n",
    "                break;\n",
    "            case 7:\n",
    "                //cdv\n",
    "                rC = Math.floor(rA / powersOf2(comboOperandValue));;\n",
    "                break;\n",
    "        }\n",
    "    }\n",
    "    return output.join(\",\");\n",
    "}\n",
    "\n",
    "runProgram(registerA, registerB, registerC, program);"
   ]
  }
 ],
 "metadata": {
  "kernelspec": {
   "display_name": "Deno",
   "language": "typescript",
   "name": "deno"
  },
  "language_info": {
   "codemirror_mode": "typescript",
   "file_extension": ".ts",
   "mimetype": "text/x.typescript",
   "name": "typescript",
   "nbconvert_exporter": "script",
   "pygments_lexer": "typescript",
   "version": "5.6.2"
  }
 },
 "nbformat": 4,
 "nbformat_minor": 2
}
