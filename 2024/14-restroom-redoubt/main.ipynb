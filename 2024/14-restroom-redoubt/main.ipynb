{
 "cells": [
  {
   "cell_type": "markdown",
   "metadata": {},
   "source": [
    "# 14 - Restroom Redoubt\n",
    "\n",
    "https://adventofcode.com/2024/day/14\n"
   ]
  },
  {
   "cell_type": "code",
   "execution_count": 56,
   "metadata": {},
   "outputs": [],
   "source": [
    "// Imports\n",
    "\n",
    "import colors from \"../../utils/colors.ts\"\n",
    "import objects from \"../../utils/objects.ts\"\n",
    "import strings from \"../../utils/strings.ts\"\n",
    "import numbers from \"../../utils/numbers.ts\"\n",
    "import plots from \"../../utils/plots.ts\";"
   ]
  },
  {
   "cell_type": "code",
   "execution_count": 57,
   "metadata": {},
   "outputs": [
    {
     "data": {
      "text/plain": [
       "[\n",
       "  Robot {\n",
       "    position: CoOrds { x: \u001b[33m0\u001b[39m, y: \u001b[33m4\u001b[39m },\n",
       "    velocity: CoOrds { x: \u001b[33m3\u001b[39m, y: \u001b[33m-3\u001b[39m }\n",
       "  },\n",
       "  Robot {\n",
       "    position: CoOrds { x: \u001b[33m6\u001b[39m, y: \u001b[33m3\u001b[39m },\n",
       "    velocity: CoOrds { x: \u001b[33m-1\u001b[39m, y: \u001b[33m-3\u001b[39m }\n",
       "  },\n",
       "  Robot {\n",
       "    position: CoOrds { x: \u001b[33m10\u001b[39m, y: \u001b[33m3\u001b[39m },\n",
       "    velocity: CoOrds { x: \u001b[33m-1\u001b[39m, y: \u001b[33m2\u001b[39m }\n",
       "  },\n",
       "  Robot {\n",
       "    position: CoOrds { x: \u001b[33m2\u001b[39m, y: \u001b[33m0\u001b[39m },\n",
       "    velocity: CoOrds { x: \u001b[33m2\u001b[39m, y: \u001b[33m-1\u001b[39m }\n",
       "  },\n",
       "  Robot {\n",
       "    position: CoOrds { x: \u001b[33m0\u001b[39m, y: \u001b[33m0\u001b[39m },\n",
       "    velocity: CoOrds { x: \u001b[33m1\u001b[39m, y: \u001b[33m3\u001b[39m }\n",
       "  },\n",
       "  Robot {\n",
       "    position: CoOrds { x: \u001b[33m3\u001b[39m, y: \u001b[33m0\u001b[39m },\n",
       "    velocity: CoOrds { x: \u001b[33m-2\u001b[39m, y: \u001b[33m-2\u001b[39m }\n",
       "  },\n",
       "  Robot {\n",
       "    position: CoOrds { x: \u001b[33m7\u001b[39m, y: \u001b[33m6\u001b[39m },\n",
       "    velocity: CoOrds { x: \u001b[33m-1\u001b[39m, y: \u001b[33m-3\u001b[39m }\n",
       "  },\n",
       "  Robot {\n",
       "    position: CoOrds { x: \u001b[33m3\u001b[39m, y: \u001b[33m0\u001b[39m },\n",
       "    velocity: CoOrds { x: \u001b[33m-1\u001b[39m, y: \u001b[33m-2\u001b[39m }\n",
       "  },\n",
       "  Robot {\n",
       "    position: CoOrds { x: \u001b[33m9\u001b[39m, y: \u001b[33m3\u001b[39m },\n",
       "    velocity: CoOrds { x: \u001b[33m2\u001b[39m, y: \u001b[33m3\u001b[39m }\n",
       "  },\n",
       "  Robot {\n",
       "    position: CoOrds { x: \u001b[33m7\u001b[39m, y: \u001b[33m3\u001b[39m },\n",
       "    velocity: CoOrds { x: \u001b[33m-1\u001b[39m, y: \u001b[33m2\u001b[39m }\n",
       "  },\n",
       "  Robot {\n",
       "    position: CoOrds { x: \u001b[33m2\u001b[39m, y: \u001b[33m4\u001b[39m },\n",
       "    velocity: CoOrds { x: \u001b[33m2\u001b[39m, y: \u001b[33m-3\u001b[39m }\n",
       "  },\n",
       "  Robot {\n",
       "    position: CoOrds { x: \u001b[33m9\u001b[39m, y: \u001b[33m5\u001b[39m },\n",
       "    velocity: CoOrds { x: \u001b[33m-3\u001b[39m, y: \u001b[33m-3\u001b[39m }\n",
       "  }\n",
       "]"
      ]
     },
     "execution_count": 57,
     "metadata": {},
     "output_type": "execute_result"
    }
   ],
   "source": [
    "// Read Input\n",
    "\n",
    "const file = await Deno.readTextFile(\"input-base.txt\");\n",
    "class CoOrds {\n",
    "    x: number;\n",
    "    y: number;\n",
    "\n",
    "    constructor(x: string, y: string) {\n",
    "        this.x = parseInt(x);\n",
    "        this.y = parseInt(y);\n",
    "    }\n",
    "\n",
    "    equals(other: CoOrds): boolean {\n",
    "        return this.x === other.x && this.y === other.y;\n",
    "    }\n",
    "}\n",
    "\n",
    "class Robot {\n",
    "    position: CoOrds;\n",
    "    velocity: CoOrds;\n",
    "\n",
    "    constructor(position: CoOrds, velocity: CoOrds) {\n",
    "        this.position = position;\n",
    "        this.velocity = velocity;\n",
    "    }\n",
    "\n",
    "    move() {\n",
    "        this.position.x += this.velocity.x;\n",
    "        this.position.y += this.velocity.y;\n",
    "    }\n",
    "}\n",
    "\n",
    "const robots = file.split(\"\\n\").map((line) => {\n",
    "    const [_, x, y, vx, vy] = line.match(/p=(\\d+),(-?\\d+) v=(-?\\d+),(-?\\d+)/);\n",
    "    return new Robot(new CoOrds(x, y), new CoOrds(vx, vy));\n",
    "});\n",
    "robots"
   ]
  },
  {
   "cell_type": "code",
   "execution_count": 58,
   "metadata": {},
   "outputs": [
    {
     "name": "stdout",
     "output_type": "stream",
     "text": [
      "1 7\n",
      "2 1\n",
      "3 3\n",
      "4 1\n"
     ]
    },
    {
     "data": {
      "text/plain": [
       "\u001b[33m21\u001b[39m"
      ]
     },
     "execution_count": 58,
     "metadata": {},
     "output_type": "execute_result"
    }
   ],
   "source": [
    "// Part 1 - What will the safety factor be after exactly 100 seconds have elapsed?\n",
    "const DIMENSIONS = { x: 101, y: 103 };\n",
    "\n",
    "const findPositionPostXSeconds = (robot: Robot, seconds) => {\n",
    "    const position = new CoOrds(\n",
    "        (((robot.position.x + (robot.velocity.x * seconds)) % DIMENSIONS.x) + DIMENSIONS.x) % DIMENSIONS.x,\n",
    "        (((robot.position.y + (robot.velocity.y * seconds)) % DIMENSIONS.y) + DIMENSIONS.y) % DIMENSIONS.y\n",
    "    )\n",
    "    return position;\n",
    "}\n",
    "\n",
    "const calculateSafetyFactor = (robots: Robot[], seconds: number) => {\n",
    "    const quarters = { 1: [], 2: [], 3: [], 4: [] };\n",
    "    const midX = Math.floor(DIMENSIONS.x / 2); // as it starts from 0\n",
    "    const midY = Math.floor(DIMENSIONS.y / 2);\n",
    "    robots.forEach((robot) => {\n",
    "        const position = findPositionPostXSeconds(robot, seconds);\n",
    "        if (position.x < midX && position.y < midY) {\n",
    "            quarters[1].push(position);\n",
    "        }\n",
    "        if (position.x > midX && position.y < midY) {\n",
    "            quarters[2].push(position);\n",
    "        }\n",
    "        if (position.x < midX && position.y > midY) {\n",
    "            quarters[3].push(position);\n",
    "        }\n",
    "        if (position.x > midX && position.y > midY) {\n",
    "            quarters[4].push(position);\n",
    "        }\n",
    "    });\n",
    "    return Object.keys(quarters).reduce((acc, key) => {\n",
    "        console.log(key, quarters[key].length)\n",
    "        if (quarters[key].length === 0) return acc;\n",
    "        return acc * quarters[key].length;\n",
    "    }, 1);\n",
    "}\n",
    "calculateSafetyFactor(robots, 100);"
   ]
  },
  {
   "cell_type": "code",
   "execution_count": 59,
   "metadata": {},
   "outputs": [
    {
     "name": "stdout",
     "output_type": "stream",
     "text": [
      "maxOfIterations - 4\n"
     ]
    }
   ],
   "source": [
    "// Part 2 - What is the fewest number of seconds that must elapse for the robots to display the Easter egg?\n",
    "\n",
    "const MAX_ITERATIONS = 10000;\n",
    "const maxOfIterations = []\n",
    "const allPlots = [];\n",
    "\n",
    "for (let i = 0; i < MAX_ITERATIONS; i++) {\n",
    "    const Ys = new Array(DIMENSIONS.y).fill(0);\n",
    "    const Xs = new Array(DIMENSIONS.x).fill(0);\n",
    "    const positions = [];\n",
    "    robots.forEach((robot) => {\n",
    "        const position = findPositionPostXSeconds(robot, i);\n",
    "        positions.push(position);\n",
    "        Ys[position.y]++;\n",
    "        Xs[position.x]++;\n",
    "    });\n",
    "\n",
    "    const maxOfYs = Math.max(...Ys);\n",
    "    const maxOfXs = Math.max(...Xs);\n",
    "    const max = Math.max(maxOfYs, maxOfXs);\n",
    "    maxOfIterations.push(max);\n",
    "\n",
    "    if (max >= 35) { // Start with maxOfIterations below and keep reducing it to get the right answer\n",
    "        const plot = plots.scatterGraph(positions, { x: \"x\", y: \"y\" }, { render: false })\n",
    "        allPlots.push({\n",
    "            iteration: i,\n",
    "            plot\n",
    "        });\n",
    "    }\n",
    "}\n",
    "console.log(`maxOfIterations - ${Math.max(...maxOfIterations)}`)\n",
    "const htmlContent = `\n",
    "<!DOCTYPE html>\n",
    "<html>\n",
    "<head>\n",
    "  <style>\n",
    "    body {\n",
    "      display: flex;\n",
    "      flex-wrap: wrap;\n",
    "    }\n",
    "  </style>\n",
    "</head>\n",
    "<body>\n",
    "  ${allPlots.map(p => p.plot.outerHTML).join(\"\")}\n",
    "</body>\n",
    "</html>\n",
    "`;\n",
    "\n",
    "await Deno.writeTextFileSync(\"output.html\", htmlContent);"
   ]
  },
  {
   "cell_type": "code",
   "execution_count": 60,
   "metadata": {},
   "outputs": [
    {
     "ename": "TypeError",
     "evalue": "Cannot read properties of undefined (reading 'iteration')",
     "output_type": "error",
     "traceback": [
      "Stack trace:",
      "TypeError: Cannot read properties of undefined (reading 'iteration')",
      "    at <anonymous>:3:24"
     ]
    }
   ],
   "source": [
    "const answerPlot = allPlots[65] // Manual observation of the output.html\n",
    "console.log(answerPlot.iteration);\n",
    "const answerHtmlContent = `\n",
    "<!DOCTYPE html>\n",
    "<html>\n",
    "<head>\n",
    "  <style>\n",
    "    body {\n",
    "      display: flex;\n",
    "      flex-wrap: wrap;\n",
    "    }\n",
    "  </style>\n",
    "</head>\n",
    "<body>\n",
    "  ${answerPlot.plot.outerHTML}\n",
    "</body>\n",
    "</html>\n",
    "`;\n",
    "await Deno.writeTextFileSync(\"answer.html\", answerHtmlContent);\n",
    "\n"
   ]
  }
 ],
 "metadata": {
  "kernelspec": {
   "display_name": "Deno",
   "language": "typescript",
   "name": "deno"
  },
  "language_info": {
   "codemirror_mode": "typescript",
   "file_extension": ".ts",
   "mimetype": "text/x.typescript",
   "name": "typescript",
   "nbconvert_exporter": "script",
   "pygments_lexer": "typescript",
   "version": "5.6.2"
  }
 },
 "nbformat": 4,
 "nbformat_minor": 2
}
