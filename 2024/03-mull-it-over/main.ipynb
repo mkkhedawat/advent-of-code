{
 "cells": [
  {
   "cell_type": "markdown",
   "metadata": {},
   "source": [
    "# 03 - Mull It Over\n",
    "\n",
    "https://adventofcode.com/2024/day/3\n"
   ]
  },
  {
   "cell_type": "code",
   "execution_count": 6,
   "metadata": {},
   "outputs": [
    {
     "data": {
      "text/plain": [
       "\u001b[32m\"xmul(2,4)%&mul[3,7]!@^do_not_mul(5,5)+mul(32,64]then(mul(11,8)mul(8,5))\"\u001b[39m"
      ]
     },
     "execution_count": 6,
     "metadata": {},
     "output_type": "execute_result"
    }
   ],
   "source": [
    "const input = await Deno.readTextFile(\"input-base.txt\");\n",
    "input"
   ]
  },
  {
   "cell_type": "code",
   "execution_count": 7,
   "metadata": {},
   "outputs": [
    {
     "data": {
      "text/plain": [
       "[ \u001b[32m\"mul(2,4)\"\u001b[39m, \u001b[32m\"mul(5,5)\"\u001b[39m, \u001b[32m\"mul(11,8)\"\u001b[39m, \u001b[32m\"mul(8,5)\"\u001b[39m ]"
      ]
     },
     "execution_count": 7,
     "metadata": {},
     "output_type": "execute_result"
    }
   ],
   "source": [
    "// The Regex\n",
    "const regex = /mul\\(\\d+,\\d+\\)/g;\n",
    "const multiplications = input.match(regex);\n",
    "multiplications"
   ]
  },
  {
   "cell_type": "code",
   "execution_count": 8,
   "metadata": {},
   "outputs": [
    {
     "data": {
      "text/plain": [
       "\u001b[33m161\u001b[39m"
      ]
     },
     "execution_count": 8,
     "metadata": {},
     "output_type": "execute_result"
    }
   ],
   "source": [
    "// sum of all multiplications\n",
    "let sum = 0;\n",
    "multiplications.forEach((mul) => {\n",
    "    const [a, b] = mul.match(/\\d+/g).map(Number);\n",
    "    sum += a * b;\n",
    "});\n",
    "sum"
   ]
  },
  {
   "cell_type": "code",
   "execution_count": 9,
   "metadata": {},
   "outputs": [
    {
     "data": {
      "text/plain": [
       "[ \u001b[32m\"mul(2,4)\"\u001b[39m, \u001b[32m\"mul(5,5)\"\u001b[39m, \u001b[32m\"mul(11,8)\"\u001b[39m, \u001b[32m\"mul(8,5)\"\u001b[39m ]"
      ]
     },
     "execution_count": 9,
     "metadata": {},
     "output_type": "execute_result"
    }
   ],
   "source": [
    "// The Regex\n",
    "const regex = /mul\\(\\d+,\\d+\\)|don't\\(\\)|do\\(\\)/g;\n",
    "const multiplications = input.match(regex);\n",
    "multiplications"
   ]
  },
  {
   "cell_type": "code",
   "execution_count": 10,
   "metadata": {},
   "outputs": [
    {
     "data": {
      "text/plain": [
       "\u001b[33m161\u001b[39m"
      ]
     },
     "execution_count": 10,
     "metadata": {},
     "output_type": "execute_result"
    }
   ],
   "source": [
    "// sum of all multiplications with instruction filter\n",
    "let sum = 0;\n",
    "let mulEnabled = true\n",
    "multiplications.forEach((mul) => {\n",
    "    if (mul === \"do()\") {\n",
    "        mulEnabled = true;\n",
    "        return;\n",
    "    }\n",
    "    if (mul === \"don't()\") {\n",
    "        mulEnabled = false;\n",
    "        return;\n",
    "    }\n",
    "    if (!mulEnabled) return;\n",
    "    const [a, b] = mul.match(/\\d+/g).map(Number);\n",
    "    sum += a * b;\n",
    "});\n",
    "sum"
   ]
  }
 ],
 "metadata": {
  "kernelspec": {
   "display_name": "Deno",
   "language": "typescript",
   "name": "deno"
  },
  "language_info": {
   "codemirror_mode": "typescript",
   "file_extension": ".ts",
   "mimetype": "text/x.typescript",
   "name": "typescript",
   "nbconvert_exporter": "script",
   "pygments_lexer": "typescript",
   "version": "5.6.2"
  }
 },
 "nbformat": 4,
 "nbformat_minor": 2
}
