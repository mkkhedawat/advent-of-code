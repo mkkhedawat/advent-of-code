{
 "cells": [
  {
   "cell_type": "markdown",
   "metadata": {},
   "source": [
    "# 19 - Linen Layout\n",
    "\n",
    "https://adventofcode.com/2024/day/19\n"
   ]
  },
  {
   "cell_type": "code",
   "execution_count": 16,
   "metadata": {},
   "outputs": [],
   "source": [
    "// Imports\n",
    "\n",
    "import colors from \"../../utils/colors.ts\"\n",
    "import objects from \"../../utils/objects.ts\"\n",
    "import strings from \"../../utils/strings.ts\"\n",
    "import numbers from \"../../utils/numbers.ts\"\n",
    "import plots from \"../../utils/plots.ts\";\n",
    "import images from \"../../utils/images.ts\";\n",
    "import arrays from \"../../utils/arrays.ts\";"
   ]
  },
  {
   "cell_type": "code",
   "execution_count": 17,
   "metadata": {},
   "outputs": [
    {
     "data": {
      "text/plain": [
       "[\n",
       "  [\n",
       "    \u001b[32m\"r\"\u001b[39m,  \u001b[32m\"wr\"\u001b[39m,  \u001b[32m\"b\"\u001b[39m,\n",
       "    \u001b[32m\"g\"\u001b[39m,  \u001b[32m\"bwu\"\u001b[39m, \u001b[32m\"rb\"\u001b[39m,\n",
       "    \u001b[32m\"gb\"\u001b[39m, \u001b[32m\"br\"\u001b[39m\n",
       "  ],\n",
       "  [\n",
       "    \u001b[32m\"brwrr\"\u001b[39m, \u001b[32m\"bggr\"\u001b[39m,\n",
       "    \u001b[32m\"gbbr\"\u001b[39m,  \u001b[32m\"rrbgbr\"\u001b[39m,\n",
       "    \u001b[32m\"ubwu\"\u001b[39m,  \u001b[32m\"bwurrg\"\u001b[39m,\n",
       "    \u001b[32m\"brgr\"\u001b[39m,  \u001b[32m\"bbrgwb\"\u001b[39m\n",
       "  ]\n",
       "]"
      ]
     },
     "execution_count": 17,
     "metadata": {},
     "output_type": "execute_result"
    }
   ],
   "source": [
    "// Read Input\n",
    "\n",
    "const file = await Deno.readTextFile(\"input-base.txt\");\n",
    "\n",
    "const [patternsAvailableStr, designStr] = file.split(\"\\n\\n\");\n",
    "const patternsAvailable = patternsAvailableStr.split(/,\\s{0,}/);\n",
    "const designs = designStr.split(\"\\n\");\n",
    "\n",
    "[patternsAvailable, designs];"
   ]
  },
  {
   "cell_type": "code",
   "execution_count": 18,
   "metadata": {},
   "outputs": [
    {
     "data": {
      "text/plain": [
       "[\n",
       "  {\n",
       "    r: [ \u001b[32m\"r\"\u001b[39m, \u001b[32m\"rb\"\u001b[39m ],\n",
       "    w: [ \u001b[32m\"wr\"\u001b[39m ],\n",
       "    b: [ \u001b[32m\"b\"\u001b[39m, \u001b[32m\"bwu\"\u001b[39m, \u001b[32m\"br\"\u001b[39m ],\n",
       "    g: [ \u001b[32m\"g\"\u001b[39m, \u001b[32m\"gb\"\u001b[39m ]\n",
       "  }\n",
       "]"
      ]
     },
     "execution_count": 18,
     "metadata": {},
     "output_type": "execute_result"
    }
   ],
   "source": [
    "// Prepare Data\n",
    "\n",
    "const patternFirstCharMap = {};\n",
    "patternsAvailable.forEach(pattern => {\n",
    "    const firstChar = pattern[0];\n",
    "    if (!patternFirstCharMap[firstChar]) patternFirstCharMap[firstChar] = [];\n",
    "    patternFirstCharMap[firstChar].push(pattern);\n",
    "});\n",
    "\n",
    "[patternFirstCharMap]"
   ]
  },
  {
   "cell_type": "code",
   "execution_count": 19,
   "metadata": {},
   "outputs": [
    {
     "data": {
      "text/plain": [
       "\u001b[33m6\u001b[39m"
      ]
     },
     "execution_count": 19,
     "metadata": {},
     "output_type": "execute_result"
    }
   ],
   "source": [
    "// Part 1 - How many designs are possible?\n",
    "\n",
    "const findPossibleDesignPattern = (design, patternFirstCharMap) => {\n",
    "    const firstChar = design[0];\n",
    "    const stack = (patternFirstCharMap[firstChar] || []).filter(pattern => design.startsWith(pattern)).map(pattern => ({ current: pattern, collection: [pattern] }));\n",
    "\n",
    "    const visited = {};\n",
    "\n",
    "    while (stack.length > 0) {\n",
    "        const { current, collection } = stack.shift();\n",
    "        if (current === design) {\n",
    "            return collection\n",
    "        }\n",
    "\n",
    "        if (visited[current]) continue;\n",
    "        visited[current] = true;\n",
    "\n",
    "        const nextChar = design[current.length];\n",
    "        const nextPatterns = patternFirstCharMap[nextChar] || [];\n",
    "        nextPatterns.forEach(nextPattern => {\n",
    "            if (design.startsWith(current + nextPattern)) {\n",
    "                stack.push({ current: current + nextPattern, collection: [...collection, nextPattern] });\n",
    "            }\n",
    "        });\n",
    "    }\n",
    "    return null;\n",
    "}\n",
    "\n",
    "designs.reduce((acc, design) => {\n",
    "    const collection = findPossibleDesignPattern(design, patternFirstCharMap);\n",
    "    if (!collection) return acc;\n",
    "    else return acc + 1;\n",
    "}, 0);"
   ]
  },
  {
   "cell_type": "code",
   "execution_count": 20,
   "metadata": {},
   "outputs": [
    {
     "data": {
      "text/plain": [
       "\u001b[33m16\u001b[39m"
      ]
     },
     "execution_count": 20,
     "metadata": {},
     "output_type": "execute_result"
    }
   ],
   "source": [
    "// Part 2 - What do you get if you add up the number of different ways you could make each design?\n",
    "\n",
    "const cache = {}\n",
    "const findAllPossibleDesignPatterns = (design, patternFirstCharMap) => {\n",
    "    if (design.length === 0) return 1;\n",
    "    if(cache[design]) return cache[design];\n",
    "\n",
    "    const firstChar = design[0];\n",
    "    const stack = (patternFirstCharMap[firstChar] || []).filter(pattern => design.startsWith(pattern));\n",
    "\n",
    "    return stack.reduce((sum, s) => {\n",
    "        const count =  findAllPossibleDesignPatterns(design.slice(s.length), patternFirstCharMap);\n",
    "        cache[design.slice(s.length)] = count;\n",
    "        return sum + count;\n",
    "    }, 0);\n",
    "}\n",
    "\n",
    "designs.reduce((acc, design) => {\n",
    "    const count = findAllPossibleDesignPatterns(design, patternFirstCharMap);\n",
    "    return acc + count;\n",
    "}, 0);"
   ]
  }
 ],
 "metadata": {
  "kernelspec": {
   "display_name": "Deno",
   "language": "typescript",
   "name": "deno"
  },
  "language_info": {
   "codemirror_mode": "typescript",
   "file_extension": ".ts",
   "mimetype": "text/x.typescript",
   "name": "typescript",
   "nbconvert_exporter": "script",
   "pygments_lexer": "typescript",
   "version": "5.6.2"
  }
 },
 "nbformat": 4,
 "nbformat_minor": 2
}
