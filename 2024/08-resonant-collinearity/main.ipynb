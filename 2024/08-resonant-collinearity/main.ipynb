{
 "cells": [
  {
   "cell_type": "markdown",
   "metadata": {},
   "source": [
    "# 08 - Resonant Collinearity\n",
    "\n",
    "https://adventofcode.com/2024/day/8\n"
   ]
  },
  {
   "cell_type": "code",
   "execution_count": 6,
   "metadata": {},
   "outputs": [
    {
     "data": {
      "text/plain": [
       "[\n",
       "  [\n",
       "    [ \u001b[33m1\u001b[39m, \u001b[33m8\u001b[39m ], [ \u001b[33m2\u001b[39m, \u001b[33m5\u001b[39m ],\n",
       "    [ \u001b[33m3\u001b[39m, \u001b[33m7\u001b[39m ], [ \u001b[33m4\u001b[39m, \u001b[33m4\u001b[39m ],\n",
       "    [ \u001b[33m5\u001b[39m, \u001b[33m6\u001b[39m ], [ \u001b[33m8\u001b[39m, \u001b[33m8\u001b[39m ],\n",
       "    [ \u001b[33m9\u001b[39m, \u001b[33m9\u001b[39m ]\n",
       "  ],\n",
       "  [\n",
       "    [\n",
       "      \u001b[32m\".\"\u001b[39m, \u001b[32m\".\"\u001b[39m, \u001b[32m\".\"\u001b[39m, \u001b[32m\".\"\u001b[39m,\n",
       "      \u001b[32m\".\"\u001b[39m, \u001b[32m\".\"\u001b[39m, \u001b[32m\".\"\u001b[39m, \u001b[32m\".\"\u001b[39m,\n",
       "      \u001b[32m\".\"\u001b[39m, \u001b[32m\".\"\u001b[39m, \u001b[32m\".\"\u001b[39m, \u001b[32m\".\"\u001b[39m\n",
       "    ],\n",
       "    [\n",
       "      \u001b[32m\".\"\u001b[39m, \u001b[32m\".\"\u001b[39m, \u001b[32m\".\"\u001b[39m, \u001b[32m\".\"\u001b[39m,\n",
       "      \u001b[32m\".\"\u001b[39m, \u001b[32m\".\"\u001b[39m, \u001b[32m\".\"\u001b[39m, \u001b[32m\".\"\u001b[39m,\n",
       "      \u001b[32m\"0\"\u001b[39m, \u001b[32m\".\"\u001b[39m, \u001b[32m\".\"\u001b[39m, \u001b[32m\".\"\u001b[39m\n",
       "    ],\n",
       "    [\n",
       "      \u001b[32m\".\"\u001b[39m, \u001b[32m\".\"\u001b[39m, \u001b[32m\".\"\u001b[39m, \u001b[32m\".\"\u001b[39m,\n",
       "      \u001b[32m\".\"\u001b[39m, \u001b[32m\"0\"\u001b[39m, \u001b[32m\".\"\u001b[39m, \u001b[32m\".\"\u001b[39m,\n",
       "      \u001b[32m\".\"\u001b[39m, \u001b[32m\".\"\u001b[39m, \u001b[32m\".\"\u001b[39m, \u001b[32m\".\"\u001b[39m\n",
       "    ],\n",
       "    [\n",
       "      \u001b[32m\".\"\u001b[39m, \u001b[32m\".\"\u001b[39m, \u001b[32m\".\"\u001b[39m, \u001b[32m\".\"\u001b[39m,\n",
       "      \u001b[32m\".\"\u001b[39m, \u001b[32m\".\"\u001b[39m, \u001b[32m\".\"\u001b[39m, \u001b[32m\"0\"\u001b[39m,\n",
       "      \u001b[32m\".\"\u001b[39m, \u001b[32m\".\"\u001b[39m, \u001b[32m\".\"\u001b[39m, \u001b[32m\".\"\u001b[39m\n",
       "    ],\n",
       "    [\n",
       "      \u001b[32m\".\"\u001b[39m, \u001b[32m\".\"\u001b[39m, \u001b[32m\".\"\u001b[39m, \u001b[32m\".\"\u001b[39m,\n",
       "      \u001b[32m\"0\"\u001b[39m, \u001b[32m\".\"\u001b[39m, \u001b[32m\".\"\u001b[39m, \u001b[32m\".\"\u001b[39m,\n",
       "      \u001b[32m\".\"\u001b[39m, \u001b[32m\".\"\u001b[39m, \u001b[32m\".\"\u001b[39m, \u001b[32m\".\"\u001b[39m\n",
       "    ],\n",
       "    [\n",
       "      \u001b[32m\".\"\u001b[39m, \u001b[32m\".\"\u001b[39m, \u001b[32m\".\"\u001b[39m, \u001b[32m\".\"\u001b[39m,\n",
       "      \u001b[32m\".\"\u001b[39m, \u001b[32m\".\"\u001b[39m, \u001b[32m\"A\"\u001b[39m, \u001b[32m\".\"\u001b[39m,\n",
       "      \u001b[32m\".\"\u001b[39m, \u001b[32m\".\"\u001b[39m, \u001b[32m\".\"\u001b[39m, \u001b[32m\".\"\u001b[39m\n",
       "    ],\n",
       "    [\n",
       "      \u001b[32m\".\"\u001b[39m, \u001b[32m\".\"\u001b[39m, \u001b[32m\".\"\u001b[39m, \u001b[32m\".\"\u001b[39m,\n",
       "      \u001b[32m\".\"\u001b[39m, \u001b[32m\".\"\u001b[39m, \u001b[32m\".\"\u001b[39m, \u001b[32m\".\"\u001b[39m,\n",
       "      \u001b[32m\".\"\u001b[39m, \u001b[32m\".\"\u001b[39m, \u001b[32m\".\"\u001b[39m, \u001b[32m\".\"\u001b[39m\n",
       "    ],\n",
       "    [\n",
       "      \u001b[32m\".\"\u001b[39m, \u001b[32m\".\"\u001b[39m, \u001b[32m\".\"\u001b[39m, \u001b[32m\".\"\u001b[39m,\n",
       "      \u001b[32m\".\"\u001b[39m, \u001b[32m\".\"\u001b[39m, \u001b[32m\".\"\u001b[39m, \u001b[32m\".\"\u001b[39m,\n",
       "      \u001b[32m\".\"\u001b[39m, \u001b[32m\".\"\u001b[39m, \u001b[32m\".\"\u001b[39m, \u001b[32m\".\"\u001b[39m\n",
       "    ],\n",
       "    [\n",
       "      \u001b[32m\".\"\u001b[39m, \u001b[32m\".\"\u001b[39m, \u001b[32m\".\"\u001b[39m, \u001b[32m\".\"\u001b[39m,\n",
       "      \u001b[32m\".\"\u001b[39m, \u001b[32m\".\"\u001b[39m, \u001b[32m\".\"\u001b[39m, \u001b[32m\".\"\u001b[39m,\n",
       "      \u001b[32m\"A\"\u001b[39m, \u001b[32m\".\"\u001b[39m, \u001b[32m\".\"\u001b[39m, \u001b[32m\".\"\u001b[39m\n",
       "    ],\n",
       "    [\n",
       "      \u001b[32m\".\"\u001b[39m, \u001b[32m\".\"\u001b[39m, \u001b[32m\".\"\u001b[39m, \u001b[32m\".\"\u001b[39m,\n",
       "      \u001b[32m\".\"\u001b[39m, \u001b[32m\".\"\u001b[39m, \u001b[32m\".\"\u001b[39m, \u001b[32m\".\"\u001b[39m,\n",
       "      \u001b[32m\".\"\u001b[39m, \u001b[32m\"A\"\u001b[39m, \u001b[32m\".\"\u001b[39m, \u001b[32m\".\"\u001b[39m\n",
       "    ],\n",
       "    [\n",
       "      \u001b[32m\".\"\u001b[39m, \u001b[32m\".\"\u001b[39m, \u001b[32m\".\"\u001b[39m, \u001b[32m\".\"\u001b[39m,\n",
       "      \u001b[32m\".\"\u001b[39m, \u001b[32m\".\"\u001b[39m, \u001b[32m\".\"\u001b[39m, \u001b[32m\".\"\u001b[39m,\n",
       "      \u001b[32m\".\"\u001b[39m, \u001b[32m\".\"\u001b[39m, \u001b[32m\".\"\u001b[39m, \u001b[32m\".\"\u001b[39m\n",
       "    ],\n",
       "    [\n",
       "      \u001b[32m\".\"\u001b[39m, \u001b[32m\".\"\u001b[39m, \u001b[32m\".\"\u001b[39m, \u001b[32m\".\"\u001b[39m,\n",
       "      \u001b[32m\".\"\u001b[39m, \u001b[32m\".\"\u001b[39m, \u001b[32m\".\"\u001b[39m, \u001b[32m\".\"\u001b[39m,\n",
       "      \u001b[32m\".\"\u001b[39m, \u001b[32m\".\"\u001b[39m, \u001b[32m\".\"\u001b[39m, \u001b[32m\".\"\u001b[39m\n",
       "    ]\n",
       "  ]\n",
       "]"
      ]
     },
     "execution_count": 6,
     "metadata": {},
     "output_type": "execute_result"
    }
   ],
   "source": [
    "// Read Input\n",
    "const file = await Deno.readTextFile(\"input-base.txt\");\n",
    "\n",
    "const antennas = []\n",
    "const area = file.split(\"\\n\").map((line, i) => line.split('').map((element, j) => {\n",
    "    if (/[a-zA-Z0-9]/.test(element)) antennas.push([i, j])\n",
    "    return element;\n",
    "}));\n",
    "[antennas, area]"
   ]
  },
  {
   "cell_type": "code",
   "execution_count": 7,
   "metadata": {},
   "outputs": [
    {
     "data": {
      "text/plain": [
       "[\n",
       "  \u001b[33m11\u001b[39m,\n",
       "  \u001b[33m11\u001b[39m,\n",
       "  {\n",
       "    \u001b[32m\"0\"\u001b[39m: [ [ \u001b[33m1\u001b[39m, \u001b[33m8\u001b[39m ], [ \u001b[33m2\u001b[39m, \u001b[33m5\u001b[39m ], [ \u001b[33m3\u001b[39m, \u001b[33m7\u001b[39m ], [ \u001b[33m4\u001b[39m, \u001b[33m4\u001b[39m ] ],\n",
       "    A: [ [ \u001b[33m5\u001b[39m, \u001b[33m6\u001b[39m ], [ \u001b[33m8\u001b[39m, \u001b[33m8\u001b[39m ], [ \u001b[33m9\u001b[39m, \u001b[33m9\u001b[39m ] ]\n",
       "  }\n",
       "]"
      ]
     },
     "execution_count": 7,
     "metadata": {},
     "output_type": "execute_result"
    }
   ],
   "source": [
    "// Prepare Data\n",
    "\n",
    "const maxI = area.length - 1;\n",
    "const maxJ = area[0].length - 1;\n",
    "\n",
    "const antennaGroups = antennas.reduce((acc, [i, j]) => {\n",
    "    const key = area[i][j];\n",
    "    if (!acc[key]) {\n",
    "        acc[key] = [];\n",
    "    }\n",
    "    acc[key].push([i, j]);\n",
    "    return acc;\n",
    "\n",
    "}, {});\n",
    "\n",
    "[maxI, maxJ, antennaGroups]\n"
   ]
  },
  {
   "cell_type": "code",
   "execution_count": 8,
   "metadata": {},
   "outputs": [
    {
     "name": "stdout",
     "output_type": "stream",
     "text": [
      "┌───────┬───────┬───────┬───────┬───────┬───────┬───────┬───────┬───────┬───────┬───────┬───────┬───────┐\n",
      "│ (idx) │ 0     │ 1     │ 2     │ 3     │ 4     │ 5     │ 6     │ 7     │ 8     │ 9     │ 10    │ 11    │\n",
      "├───────┼───────┼───────┼───────┼───────┼───────┼───────┼───────┼───────┼───────┼───────┼───────┼───────┤\n",
      "│     0 │ false │ false │ false │ false │ false │ false │ true  │ false │ false │ false │ false │ true  │\n",
      "│     1 │ false │ false │ false │ true  │ false │ false │ false │ false │ false │ false │ false │ false │\n",
      "│     2 │ false │ false │ false │ false │ true  │ false │ false │ false │ false │ false │ true  │ false │\n",
      "│     3 │ false │ false │ true  │ false │ false │ false │ false │ false │ false │ false │ false │ false │\n",
      "│     4 │ false │ false │ false │ false │ false │ false │ false │ false │ false │ true  │ false │ false │\n",
      "│     5 │ false │ true  │ false │ false │ false │ false │ true  │ false │ false │ false │ false │ false │\n",
      "│     6 │ false │ false │ false │ true  │ false │ false │ false │ false │ false │ false │ false │ false │\n",
      "│     7 │ true  │ false │ false │ false │ false │ false │ false │ true  │ false │ false │ false │ false │\n",
      "│     8 │ false │ false │ false │ false │ false │ false │ false │ false │ false │ false │ false │ false │\n",
      "│     9 │ false │ false │ false │ false │ false │ false │ false │ false │ false │ false │ false │ false │\n",
      "│    10 │ false │ false │ false │ false │ false │ false │ false │ false │ false │ false │ true  │ false │\n",
      "│    11 │ false │ false │ false │ false │ false │ false │ false │ false │ false │ false │ true  │ false │\n",
      "└───────┴───────┴───────┴───────┴───────┴───────┴───────┴───────┴───────┴───────┴───────┴───────┴───────┘\n"
     ]
    },
    {
     "data": {
      "text/plain": [
       "\u001b[33m14\u001b[39m"
      ]
     },
     "execution_count": 8,
     "metadata": {},
     "output_type": "execute_result"
    }
   ],
   "source": [
    "// Part 1 - How many unique locations within the bounds of the map contain an antinode?\n",
    "\n",
    "const antiNodes = new Array(area.length).fill(false).map(() => new Array(area[0].length).fill(false));\n",
    "const findEquidistantExtendedPointOnLine = (pointA, pointB) => {\n",
    "    const dx = pointB[0] - pointA[0];\n",
    "    const dy = pointB[1] - pointA[1];\n",
    "    return [pointB[0] + dx, pointB[1] + dy];\n",
    "}\n",
    "\n",
    "const findExtendedCollinearPoints = (pointA, pointB) => {\n",
    "    const prePoint = findEquidistantExtendedPointOnLine(pointA, pointB);\n",
    "    const postPoint = findEquidistantExtendedPointOnLine(pointB, pointA);\n",
    "    return [prePoint, postPoint];\n",
    "}\n",
    "\n",
    "Object.keys(antennaGroups).forEach((group) => {\n",
    "    const pairs = antennaGroups[group];\n",
    "    if (pairs.length === 1) return;\n",
    "    for (let i = 0; i < pairs.length; i += 1) {\n",
    "        for (let j = i + 1; j < pairs.length; j += 1) {\n",
    "            const extendedPoints = findExtendedCollinearPoints(pairs[i], pairs[j]);\n",
    "            extendedPoints.forEach(point => {\n",
    "                if (point[0] >= 0 && point[0] <= maxI && point[1] >= 0 && point[1] <= maxJ) {\n",
    "                    antiNodes[point[0]][point[1]] = true;\n",
    "                }\n",
    "            });\n",
    "\n",
    "        }\n",
    "    }\n",
    "});\n",
    "console.table(antiNodes)\n",
    "antiNodes.reduce((acc, row) => { return acc += row.filter(el => el).length }, 0);"
   ]
  },
  {
   "cell_type": "code",
   "execution_count": 9,
   "metadata": {},
   "outputs": [
    {
     "name": "stdout",
     "output_type": "stream",
     "text": [
      "┌───────┬───────┬───────┬───────┬───────┬───────┬───────┬───────┬───────┬───────┬───────┬───────┬───────┐\n",
      "│ (idx) │ 0     │ 1     │ 2     │ 3     │ 4     │ 5     │ 6     │ 7     │ 8     │ 9     │ 10    │ 11    │\n",
      "├───────┼───────┼───────┼───────┼───────┼───────┼───────┼───────┼───────┼───────┼───────┼───────┼───────┤\n",
      "│     0 │ true  │ true  │ false │ false │ false │ false │ true  │ false │ false │ false │ false │ true  │\n",
      "│     1 │ false │ true  │ false │ true  │ false │ false │ false │ false │ true  │ false │ false │ false │\n",
      "│     2 │ false │ false │ true  │ false │ true  │ true  │ false │ false │ false │ false │ true  │ false │\n",
      "│     3 │ false │ false │ true  │ true  │ false │ false │ false │ true  │ false │ false │ false │ false │\n",
      "│     4 │ false │ false │ false │ false │ true  │ false │ false │ false │ false │ true  │ false │ false │\n",
      "│     5 │ false │ true  │ false │ false │ false │ true  │ true  │ false │ false │ false │ false │ true  │\n",
      "│     6 │ false │ false │ false │ true  │ false │ false │ true  │ false │ false │ false │ false │ false │\n",
      "│     7 │ true  │ false │ false │ false │ false │ true  │ false │ true  │ false │ false │ false │ false │\n",
      "│     8 │ false │ false │ true  │ false │ false │ false │ false │ false │ true  │ false │ false │ false │\n",
      "│     9 │ false │ false │ false │ false │ true  │ false │ false │ false │ false │ true  │ false │ false │\n",
      "│    10 │ false │ true  │ false │ false │ false │ false │ false │ false │ false │ false │ true  │ false │\n",
      "│    11 │ false │ false │ false │ true  │ false │ false │ false │ false │ false │ false │ true  │ true  │\n",
      "└───────┴───────┴───────┴───────┴───────┴───────┴───────┴───────┴───────┴───────┴───────┴───────┴───────┘\n"
     ]
    },
    {
     "data": {
      "text/plain": [
       "\u001b[33m34\u001b[39m"
      ]
     },
     "execution_count": 9,
     "metadata": {},
     "output_type": "execute_result"
    }
   ],
   "source": [
    "// part 2 - How many unique locations within the bounds of the map contain an antinode resonant harmonics?\n",
    "\n",
    "const antiNodesV2 = new Array(area.length).fill(false).map(() => new Array(area[0].length).fill(false));\n",
    "\n",
    "const findAllExtendedCollinearPointsWithBounds = (pointA, pointB, maxI, maxJ) => {\n",
    "    const points = [];\n",
    "\n",
    "    const dx = pointB[0] - pointA[0];\n",
    "    const dy = pointB[1] - pointA[1];\n",
    "\n",
    "    for (let multiplier = 1; ; multiplier += 1) {\n",
    "        const point = [pointB[0] + multiplier * dx, pointB[1] + multiplier * dy];\n",
    "        if (point[0] < 0 || point[0] > maxI || point[1] < 0 || point[1] > maxJ) {\n",
    "            break;\n",
    "        }\n",
    "        points.push(point);\n",
    "    }\n",
    "    return points;\n",
    "}\n",
    "\n",
    "Object.keys(antennaGroups).forEach((group) => {\n",
    "    const pairs = antennaGroups[group];\n",
    "    if (pairs.length === 1) return;\n",
    "    for (let i = 0; i < pairs.length; i += 1) {\n",
    "        for (let j = i + 1; j < pairs.length; j += 1) {\n",
    "            const extendedPrePoints = findAllExtendedCollinearPointsWithBounds(pairs[i], pairs[j], maxI, maxJ);\n",
    "            const extendedPostPoints = findAllExtendedCollinearPointsWithBounds(pairs[j], pairs[i], maxI, maxJ);\n",
    "            [...extendedPrePoints, ...extendedPostPoints, pairs[i], pairs[j]].forEach(point => {\n",
    "                if(!antiNodesV2[point[0]]) console.log(`point`, point)\n",
    "                antiNodesV2[point[0]][point[1]] = true;\n",
    "            });\n",
    "        }\n",
    "    }\n",
    "});\n",
    "console.table(antiNodesV2)\n",
    "antiNodesV2.reduce((acc, row) => { return acc += row.filter(el => el).length }, 0);"
   ]
  },
  {
   "cell_type": "code",
   "execution_count": 10,
   "metadata": {},
   "outputs": [
    {
     "name": "stdout",
     "output_type": "stream",
     "text": [
      "\u001b[40m  \u001b[49m\u001b[40m  \u001b[49m\u001b[40m  \u001b[49m\u001b[40m  \u001b[49m\u001b[40m  \u001b[49m\u001b[40m  \u001b[49m\u001b[40m  \u001b[49m\u001b[40m  \u001b[49m\u001b[40m  \u001b[49m\u001b[40m  \u001b[49m\u001b[40m  \u001b[49m\u001b[40m  \u001b[49m\n"
     ]
    },
    {
     "name": "stdout",
     "output_type": "stream",
     "text": [
      "\u001b[40m  \u001b[49m\u001b[40m  \u001b[49m\u001b[40m  \u001b[49m\u001b[40m  \u001b[49m\u001b[40m  \u001b[49m\u001b[40m  \u001b[49m\u001b[40m  \u001b[49m\u001b[40m  \u001b[49m\u001b[41m  \u001b[49m\u001b[40m  \u001b[49m\u001b[40m  \u001b[49m\u001b[40m  \u001b[49m\n",
      "\u001b[40m  \u001b[49m\u001b[40m  \u001b[49m\u001b[40m  \u001b[49m\u001b[40m  \u001b[49m\u001b[40m  \u001b[49m\u001b[41m  \u001b[49m\u001b[40m  \u001b[49m\u001b[40m  \u001b[49m\u001b[40m  \u001b[49m\u001b[40m  \u001b[49m\u001b[40m  \u001b[49m\u001b[40m  \u001b[49m\n",
      "\u001b[40m  \u001b[49m\u001b[40m  \u001b[49m\u001b[40m  \u001b[49m\u001b[40m  \u001b[49m\u001b[40m  \u001b[49m\u001b[40m  \u001b[49m\u001b[40m  \u001b[49m\u001b[41m  \u001b[49m\u001b[40m  \u001b[49m\u001b[40m  \u001b[49m\u001b[40m  \u001b[49m\u001b[40m  \u001b[49m\n",
      "\u001b[40m  \u001b[49m\u001b[40m  \u001b[49m\u001b[40m  \u001b[49m\u001b[40m  \u001b[49m\u001b[41m  \u001b[49m\u001b[40m  \u001b[49m\u001b[40m  \u001b[49m\u001b[40m  \u001b[49m\u001b[40m  \u001b[49m\u001b[40m  \u001b[49m\u001b[40m  \u001b[49m\u001b[40m  \u001b[49m\n",
      "\u001b[40m  \u001b[49m\u001b[40m  \u001b[49m\u001b[40m  \u001b[49m\u001b[40m  \u001b[49m\u001b[40m  \u001b[49m\u001b[40m  \u001b[49m\u001b[42m  \u001b[49m\u001b[40m  \u001b[49m\u001b[40m  \u001b[49m\u001b[40m  \u001b[49m\u001b[40m  \u001b[49m\u001b[40m  \u001b[49m\n",
      "\u001b[40m  \u001b[49m\u001b[40m  \u001b[49m\u001b[40m  \u001b[49m\u001b[40m  \u001b[49m\u001b[40m  \u001b[49m\u001b[40m  \u001b[49m\u001b[40m  \u001b[49m\u001b[40m  \u001b[49m\u001b[40m  \u001b[49m\u001b[40m  \u001b[49m\u001b[40m  \u001b[49m\u001b[40m  \u001b[49m\n",
      "\u001b[40m  \u001b[49m\u001b[40m  \u001b[49m\u001b[40m  \u001b[49m\u001b[40m  \u001b[49m\u001b[40m  \u001b[49m\u001b[40m  \u001b[49m\u001b[40m  \u001b[49m\u001b[40m  \u001b[49m\u001b[40m  \u001b[49m\u001b[40m  \u001b[49m\u001b[40m  \u001b[49m\u001b[40m  \u001b[49m\n",
      "\u001b[40m  \u001b[49m\u001b[40m  \u001b[49m\u001b[40m  \u001b[49m\u001b[40m  \u001b[49m\u001b[40m  \u001b[49m\u001b[40m  \u001b[49m\u001b[40m  \u001b[49m\u001b[40m  \u001b[49m\u001b[42m  \u001b[49m\u001b[40m  \u001b[49m\u001b[40m  \u001b[49m\u001b[40m  \u001b[49m\n",
      "\u001b[40m  \u001b[49m\u001b[40m  \u001b[49m\u001b[40m  \u001b[49m\u001b[40m  \u001b[49m\u001b[40m  \u001b[49m\u001b[40m  \u001b[49m\u001b[40m  \u001b[49m\u001b[40m  \u001b[49m\u001b[40m  \u001b[49m\u001b[42m  \u001b[49m\u001b[40m  \u001b[49m\u001b[40m  \u001b[49m\n",
      "\u001b[40m  \u001b[49m\u001b[40m  \u001b[49m\u001b[40m  \u001b[49m\u001b[40m  \u001b[49m\u001b[40m  \u001b[49m\u001b[40m  \u001b[49m\u001b[40m  \u001b[49m\u001b[40m  \u001b[49m\u001b[40m  \u001b[49m\u001b[40m  \u001b[49m\u001b[40m  \u001b[49m\u001b[40m  \u001b[49m\n",
      "\u001b[40m  \u001b[49m\u001b[40m  \u001b[49m\u001b[40m  \u001b[49m\u001b[40m  \u001b[49m\u001b[40m  \u001b[49m\u001b[40m  \u001b[49m\u001b[40m  \u001b[49m\u001b[40m  \u001b[49m\u001b[40m  \u001b[49m\u001b[40m  \u001b[49m\u001b[40m  \u001b[49m\u001b[40m  \u001b[49m\n",
      "\u001b[41m  \u001b[49m\u001b[41m  \u001b[49m\u001b[40m  \u001b[49m\u001b[40m  \u001b[49m\u001b[40m  \u001b[49m\u001b[40m  \u001b[49m\u001b[41m  \u001b[49m\u001b[40m  \u001b[49m\u001b[40m  \u001b[49m\u001b[40m  \u001b[49m\u001b[40m  \u001b[49m\u001b[41m  \u001b[49m\n",
      "\u001b[40m  \u001b[49m\u001b[41m  \u001b[49m\u001b[40m  \u001b[49m\u001b[41m  \u001b[49m\u001b[40m  \u001b[49m\u001b[40m  \u001b[49m\u001b[40m  \u001b[49m\u001b[40m  \u001b[49m\u001b[41m  \u001b[49m\u001b[40m  \u001b[49m\u001b[40m  \u001b[49m\u001b[40m  \u001b[49m\n",
      "\u001b[40m  \u001b[49m\u001b[40m  \u001b[49m\u001b[41m  \u001b[49m\u001b[40m  \u001b[49m\u001b[41m  \u001b[49m\u001b[41m  \u001b[49m\u001b[40m  \u001b[49m\u001b[40m  \u001b[49m\u001b[40m  \u001b[49m\u001b[40m  \u001b[49m\u001b[41m  \u001b[49m\u001b[40m  \u001b[49m\n",
      "\u001b[40m  \u001b[49m\u001b[40m  \u001b[49m\u001b[41m  \u001b[49m\u001b[41m  \u001b[49m\u001b[40m  \u001b[49m\u001b[40m  \u001b[49m\u001b[40m  \u001b[49m\u001b[41m  \u001b[49m\u001b[40m  \u001b[49m\u001b[40m  \u001b[49m\u001b[40m  \u001b[49m\u001b[40m  \u001b[49m\n",
      "\u001b[40m  \u001b[49m\u001b[40m  \u001b[49m\u001b[40m  \u001b[49m\u001b[40m  \u001b[49m\u001b[41m  \u001b[49m\u001b[40m  \u001b[49m\u001b[40m  \u001b[49m\u001b[40m  \u001b[49m\u001b[40m  \u001b[49m\u001b[41m  \u001b[49m\u001b[40m  \u001b[49m\u001b[40m  \u001b[49m\n",
      "\u001b[40m  \u001b[49m\u001b[41m  \u001b[49m\u001b[40m  \u001b[49m\u001b[40m  \u001b[49m\u001b[40m  \u001b[49m\u001b[41m  \u001b[49m\u001b[41m  \u001b[49m\u001b[40m  \u001b[49m\u001b[40m  \u001b[49m\u001b[40m  \u001b[49m\u001b[40m  \u001b[49m\u001b[41m  \u001b[49m\n",
      "\u001b[40m  \u001b[49m\u001b[40m  \u001b[49m\u001b[40m  \u001b[49m\u001b[41m  \u001b[49m\u001b[40m  \u001b[49m\u001b[40m  \u001b[49m\u001b[41m  \u001b[49m\u001b[40m  \u001b[49m\u001b[40m  \u001b[49m\u001b[40m  \u001b[49m\u001b[40m  \u001b[49m\u001b[40m  \u001b[49m\n",
      "\u001b[41m  \u001b[49m\u001b[40m  \u001b[49m\u001b[40m  \u001b[49m\u001b[40m  \u001b[49m\u001b[40m  \u001b[49m\u001b[41m  \u001b[49m\u001b[40m  \u001b[49m\u001b[41m  \u001b[49m\u001b[40m  \u001b[49m\u001b[40m  \u001b[49m\u001b[40m  \u001b[49m\u001b[40m  \u001b[49m\n",
      "\u001b[40m  \u001b[49m\u001b[40m  \u001b[49m\u001b[41m  \u001b[49m\u001b[40m  \u001b[49m\u001b[40m  \u001b[49m\u001b[40m  \u001b[49m\u001b[40m  \u001b[49m\u001b[40m  \u001b[49m\u001b[41m  \u001b[49m\u001b[40m  \u001b[49m\u001b[40m  \u001b[49m\u001b[40m  \u001b[49m\n",
      "\u001b[40m  \u001b[49m\u001b[40m  \u001b[49m\u001b[40m  \u001b[49m\u001b[40m  \u001b[49m\u001b[41m  \u001b[49m\u001b[40m  \u001b[49m\u001b[40m  \u001b[49m\u001b[40m  \u001b[49m\u001b[40m  \u001b[49m\u001b[41m  \u001b[49m\u001b[40m  \u001b[49m\u001b[40m  \u001b[49m\n",
      "\u001b[40m  \u001b[49m\u001b[41m  \u001b[49m\u001b[40m  \u001b[49m\u001b[40m  \u001b[49m\u001b[40m  \u001b[49m\u001b[40m  \u001b[49m\u001b[40m  \u001b[49m\u001b[40m  \u001b[49m\u001b[40m  \u001b[49m\u001b[40m  \u001b[49m\u001b[41m  \u001b[49m\u001b[40m  \u001b[49m\n",
      "\u001b[40m  \u001b[49m\u001b[40m  \u001b[49m\u001b[40m  \u001b[49m\u001b[41m  \u001b[49m\u001b[40m  \u001b[49m\u001b[40m  \u001b[49m\u001b[40m  \u001b[49m\u001b[40m  \u001b[49m\u001b[40m  \u001b[49m\u001b[40m  \u001b[49m\u001b[41m  \u001b[49m\u001b[41m  \u001b[49m\n"
     ]
    }
   ],
   "source": [
    "import colors from \"../../utils/colors.ts\";\n",
    "colors.visualize2DArray(area, {})\n",
    "colors.visualize2DArray(antiNodesV2, { colors : { false : colors.bgBlack, true: colors.bgRed }})"
   ]
  }
 ],
 "metadata": {
  "kernelspec": {
   "display_name": "Deno",
   "language": "typescript",
   "name": "deno"
  },
  "language_info": {
   "codemirror_mode": "typescript",
   "file_extension": ".ts",
   "mimetype": "text/x.typescript",
   "name": "typescript",
   "nbconvert_exporter": "script",
   "pygments_lexer": "typescript",
   "version": "5.6.2"
  }
 },
 "nbformat": 4,
 "nbformat_minor": 2
}
