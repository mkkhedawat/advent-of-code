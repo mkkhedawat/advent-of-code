{
 "cells": [
  {
   "cell_type": "markdown",
   "metadata": {},
   "source": [
    "# 05 - Print Queue\n",
    "\n",
    "https://adventofcode.com/2024/day/5\n"
   ]
  },
  {
   "cell_type": "code",
   "execution_count": 49,
   "metadata": {},
   "outputs": [
    {
     "data": {
      "text/plain": [
       "[\n",
       "  {\n",
       "    \u001b[32m\"13\"\u001b[39m: [ \u001b[33m97\u001b[39m, \u001b[33m61\u001b[39m, \u001b[33m29\u001b[39m, \u001b[33m47\u001b[39m, \u001b[33m75\u001b[39m, \u001b[33m53\u001b[39m ],\n",
       "    \u001b[32m\"29\"\u001b[39m: [ \u001b[33m75\u001b[39m, \u001b[33m97\u001b[39m, \u001b[33m53\u001b[39m, \u001b[33m61\u001b[39m, \u001b[33m47\u001b[39m ],\n",
       "    \u001b[32m\"47\"\u001b[39m: [ \u001b[33m97\u001b[39m, \u001b[33m75\u001b[39m ],\n",
       "    \u001b[32m\"53\"\u001b[39m: [ \u001b[33m47\u001b[39m, \u001b[33m75\u001b[39m, \u001b[33m61\u001b[39m, \u001b[33m97\u001b[39m ],\n",
       "    \u001b[32m\"61\"\u001b[39m: [ \u001b[33m97\u001b[39m, \u001b[33m47\u001b[39m, \u001b[33m75\u001b[39m ],\n",
       "    \u001b[32m\"75\"\u001b[39m: [ \u001b[33m97\u001b[39m ]\n",
       "  },\n",
       "  [\n",
       "    [ \u001b[33m75\u001b[39m, \u001b[33m47\u001b[39m, \u001b[33m61\u001b[39m, \u001b[33m53\u001b[39m, \u001b[33m29\u001b[39m ],\n",
       "    [ \u001b[33m97\u001b[39m, \u001b[33m61\u001b[39m, \u001b[33m53\u001b[39m, \u001b[33m29\u001b[39m, \u001b[33m13\u001b[39m ],\n",
       "    [ \u001b[33m75\u001b[39m, \u001b[33m29\u001b[39m, \u001b[33m13\u001b[39m ],\n",
       "    [ \u001b[33m75\u001b[39m, \u001b[33m97\u001b[39m, \u001b[33m47\u001b[39m, \u001b[33m61\u001b[39m, \u001b[33m53\u001b[39m ],\n",
       "    [ \u001b[33m61\u001b[39m, \u001b[33m13\u001b[39m, \u001b[33m29\u001b[39m ],\n",
       "    [ \u001b[33m97\u001b[39m, \u001b[33m13\u001b[39m, \u001b[33m75\u001b[39m, \u001b[33m29\u001b[39m, \u001b[33m47\u001b[39m ]\n",
       "  ]\n",
       "]"
      ]
     },
     "execution_count": 49,
     "metadata": {},
     "output_type": "execute_result"
    }
   ],
   "source": [
    "// Read Input\n",
    "const file = await Deno.readTextFile(\"input-base.txt\");\n",
    "\n",
    "const dependencies = {};\n",
    "const inputOrders = [];\n",
    "\n",
    "file.split(\"\\n\").forEach(line => {\n",
    "    if (line.includes('|')) {\n",
    "        const [on, base] = line.split('|').map(Number);\n",
    "        if (!dependencies[base]) {\n",
    "            dependencies[base] = [];\n",
    "        }\n",
    "        dependencies[base].push(on);\n",
    "    }\n",
    "    else if (line) {\n",
    "        inputOrders.push(line.split(',').map(Number));\n",
    "    }\n",
    "});\n",
    "[dependencies, inputOrders]"
   ]
  },
  {
   "cell_type": "code",
   "execution_count": 50,
   "metadata": {},
   "outputs": [
    {
     "data": {
      "text/plain": [
       "\u001b[33m143\u001b[39m"
      ]
     },
     "execution_count": 50,
     "metadata": {},
     "output_type": "execute_result"
    }
   ],
   "source": [
    "// Sum of middle page numbers \n",
    "const getMiddleIndex = (array) => Math.floor((array.length) / 2);\n",
    "\n",
    "const isValidOrderPair = (i, j) => !dependencies[i] || !dependencies[i].includes(j);\n",
    "\n",
    "const isValidOrder = (order: Number[]) => {\n",
    "    for (let i = 0; i < order.length - 1; i++) {\n",
    "        if (!isValidOrderPair(order[i], order[i + 1])) return false;\n",
    "    }\n",
    "    return true;\n",
    "}\n",
    "\n",
    "let sum = 0;\n",
    "inputOrders.forEach(order => {\n",
    "    if (!isValidOrder(order)) return;\n",
    "    sum += order[getMiddleIndex(order)];\n",
    "});\n",
    "sum"
   ]
  },
  {
   "cell_type": "code",
   "execution_count": 51,
   "metadata": {},
   "outputs": [
    {
     "data": {
      "text/plain": [
       "\u001b[33m123\u001b[39m"
      ]
     },
     "execution_count": 51,
     "metadata": {},
     "output_type": "execute_result"
    }
   ],
   "source": [
    "// Part 2 - Sum of middle page numbers from fixed orders\n",
    "\n",
    "import numbers from '../../utils/numbers.ts';\n",
    "\n",
    "const fixIncorrectOrder = (order: number[]) => {\n",
    "\n",
    "    const depCountArray = order.map(element => ({\n",
    "        element,\n",
    "        depCount: numbers.intersectionBetweenArray(order, (dependencies[element] || [])).length\n",
    "    }));\n",
    "    depCountArray.sort((a, b) => a.depCount - b.depCount);\n",
    "\n",
    "\n",
    "    const depWiseElements = {}\n",
    "    depCountArray.forEach(element => {\n",
    "        const depCount = element.depCount;\n",
    "        if (!depWiseElements[depCount]) depWiseElements[depCount] = [];\n",
    "        depWiseElements[depCount].push(element.element);\n",
    "    })\n",
    "\n",
    "    const fixedOrder = [];\n",
    "    for (let i = 0; i < order.length; i += 1) {\n",
    "        const elements = depWiseElements[i];\n",
    "        if (!elements || !elements.length) continue;\n",
    "        else if (elements.length === 1) fixedOrder.push(elements[0]);\n",
    "        else if (isValidOrder(elements)) fixedOrder.push(...elements);\n",
    "        else fixedOrder.push(...fixIncorrectOrder(elements));\n",
    "    }\n",
    "    return fixedOrder;\n",
    "}\n",
    "\n",
    "let sum = 0;\n",
    "inputOrders.forEach(order => {\n",
    "    if (isValidOrder(order)) return true;\n",
    "    const fixedOrder = fixIncorrectOrder(order);\n",
    "    sum += fixedOrder[getMiddleIndex(fixedOrder)];\n",
    "});\n",
    "sum"
   ]
  }
 ],
 "metadata": {
  "kernelspec": {
   "display_name": "Deno",
   "language": "typescript",
   "name": "deno"
  },
  "language_info": {
   "codemirror_mode": "typescript",
   "file_extension": ".ts",
   "mimetype": "text/x.typescript",
   "name": "typescript",
   "nbconvert_exporter": "script",
   "pygments_lexer": "typescript",
   "version": "5.6.2"
  }
 },
 "nbformat": 4,
 "nbformat_minor": 2
}
