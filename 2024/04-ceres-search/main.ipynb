{
 "cells": [
  {
   "cell_type": "markdown",
   "metadata": {},
   "source": [
    "# 04 - Ceres Search\n",
    "\n",
    "https://adventofcode.com/2024/day/4\n"
   ]
  },
  {
   "cell_type": "code",
   "execution_count": 17,
   "metadata": {},
   "outputs": [
    {
     "data": {
      "text/plain": [
       "[ \u001b[33m10\u001b[39m, \u001b[33m10\u001b[39m ]"
      ]
     },
     "execution_count": 17,
     "metadata": {},
     "output_type": "execute_result"
    }
   ],
   "source": [
    "const file = await Deno.readTextFile(\"input-base.txt\");\n",
    "const array2D = file.split(\"\\n\").map(line => line.split(''));\n",
    "[array2D.length, array2D[0].length]"
   ]
  },
  {
   "cell_type": "code",
   "execution_count": 18,
   "metadata": {},
   "outputs": [
    {
     "data": {
      "text/plain": [
       "[\n",
       "  [\n",
       "    \u001b[32m\"M\"\u001b[39m, \u001b[32m\"M\"\u001b[39m, \u001b[32m\"M\"\u001b[39m, \u001b[32m\"S\"\u001b[39m,\n",
       "    \u001b[32m\"X\"\u001b[39m, \u001b[32m\"X\"\u001b[39m, \u001b[32m\"M\"\u001b[39m, \u001b[32m\"A\"\u001b[39m,\n",
       "    \u001b[32m\"S\"\u001b[39m, \u001b[32m\"M\"\u001b[39m\n",
       "  ],\n",
       "  [\n",
       "    \u001b[32m\"M\"\u001b[39m, \u001b[32m\"S\"\u001b[39m, \u001b[32m\"A\"\u001b[39m, \u001b[32m\"M\"\u001b[39m,\n",
       "    \u001b[32m\"X\"\u001b[39m, \u001b[32m\"M\"\u001b[39m, \u001b[32m\"S\"\u001b[39m, \u001b[32m\"M\"\u001b[39m,\n",
       "    \u001b[32m\"S\"\u001b[39m, \u001b[32m\"A\"\u001b[39m\n",
       "  ],\n",
       "  [\n",
       "    \u001b[32m\"A\"\u001b[39m, \u001b[32m\"M\"\u001b[39m, \u001b[32m\"X\"\u001b[39m, \u001b[32m\"S\"\u001b[39m,\n",
       "    \u001b[32m\"X\"\u001b[39m, \u001b[32m\"M\"\u001b[39m, \u001b[32m\"A\"\u001b[39m, \u001b[32m\"A\"\u001b[39m,\n",
       "    \u001b[32m\"M\"\u001b[39m, \u001b[32m\"M\"\u001b[39m\n",
       "  ],\n",
       "  [\n",
       "    \u001b[32m\"M\"\u001b[39m, \u001b[32m\"S\"\u001b[39m, \u001b[32m\"A\"\u001b[39m, \u001b[32m\"M\"\u001b[39m,\n",
       "    \u001b[32m\"A\"\u001b[39m, \u001b[32m\"S\"\u001b[39m, \u001b[32m\"M\"\u001b[39m, \u001b[32m\"S\"\u001b[39m,\n",
       "    \u001b[32m\"M\"\u001b[39m, \u001b[32m\"X\"\u001b[39m\n",
       "  ],\n",
       "  [\n",
       "    \u001b[32m\"X\"\u001b[39m, \u001b[32m\"M\"\u001b[39m, \u001b[32m\"A\"\u001b[39m, \u001b[32m\"S\"\u001b[39m,\n",
       "    \u001b[32m\"A\"\u001b[39m, \u001b[32m\"M\"\u001b[39m, \u001b[32m\"X\"\u001b[39m, \u001b[32m\"A\"\u001b[39m,\n",
       "    \u001b[32m\"M\"\u001b[39m, \u001b[32m\"M\"\u001b[39m\n",
       "  ],\n",
       "  [\n",
       "    \u001b[32m\"X\"\u001b[39m, \u001b[32m\"X\"\u001b[39m, \u001b[32m\"A\"\u001b[39m, \u001b[32m\"M\"\u001b[39m,\n",
       "    \u001b[32m\"M\"\u001b[39m, \u001b[32m\"X\"\u001b[39m, \u001b[32m\"X\"\u001b[39m, \u001b[32m\"A\"\u001b[39m,\n",
       "    \u001b[32m\"M\"\u001b[39m, \u001b[32m\"A\"\u001b[39m\n",
       "  ],\n",
       "  [\n",
       "    \u001b[32m\"S\"\u001b[39m, \u001b[32m\"M\"\u001b[39m, \u001b[32m\"S\"\u001b[39m, \u001b[32m\"M\"\u001b[39m,\n",
       "    \u001b[32m\"S\"\u001b[39m, \u001b[32m\"A\"\u001b[39m, \u001b[32m\"S\"\u001b[39m, \u001b[32m\"X\"\u001b[39m,\n",
       "    \u001b[32m\"S\"\u001b[39m, \u001b[32m\"S\"\u001b[39m\n",
       "  ],\n",
       "  [\n",
       "    \u001b[32m\"S\"\u001b[39m, \u001b[32m\"A\"\u001b[39m, \u001b[32m\"X\"\u001b[39m, \u001b[32m\"A\"\u001b[39m,\n",
       "    \u001b[32m\"M\"\u001b[39m, \u001b[32m\"A\"\u001b[39m, \u001b[32m\"S\"\u001b[39m, \u001b[32m\"A\"\u001b[39m,\n",
       "    \u001b[32m\"A\"\u001b[39m, \u001b[32m\"A\"\u001b[39m\n",
       "  ],\n",
       "  [\n",
       "    \u001b[32m\"M\"\u001b[39m, \u001b[32m\"A\"\u001b[39m, \u001b[32m\"M\"\u001b[39m, \u001b[32m\"M\"\u001b[39m,\n",
       "    \u001b[32m\"M\"\u001b[39m, \u001b[32m\"X\"\u001b[39m, \u001b[32m\"M\"\u001b[39m, \u001b[32m\"M\"\u001b[39m,\n",
       "    \u001b[32m\"M\"\u001b[39m, \u001b[32m\"M\"\u001b[39m\n",
       "  ],\n",
       "  [\n",
       "    \u001b[32m\"M\"\u001b[39m, \u001b[32m\"X\"\u001b[39m, \u001b[32m\"M\"\u001b[39m, \u001b[32m\"X\"\u001b[39m,\n",
       "    \u001b[32m\"A\"\u001b[39m, \u001b[32m\"X\"\u001b[39m, \u001b[32m\"M\"\u001b[39m, \u001b[32m\"A\"\u001b[39m,\n",
       "    \u001b[32m\"S\"\u001b[39m, \u001b[32m\"X\"\u001b[39m\n",
       "  ]\n",
       "]"
      ]
     },
     "execution_count": 18,
     "metadata": {},
     "output_type": "execute_result"
    }
   ],
   "source": [
    "array2D"
   ]
  },
  {
   "cell_type": "code",
   "execution_count": 19,
   "metadata": {},
   "outputs": [
    {
     "data": {
      "text/plain": [
       "\u001b[33m18\u001b[39m"
      ]
     },
     "execution_count": 19,
     "metadata": {},
     "output_type": "execute_result"
    }
   ],
   "source": [
    "const maxI = array2D.length - 1;\n",
    "const maxJ = array2D[0].length - 1;\n",
    "\n",
    "const isXMAS = (chars) => {\n",
    "    return chars.join('') === 'XMAS';\n",
    "}\n",
    "\n",
    "const countXMASPatterns = () => {\n",
    "    let count = 0;\n",
    "    for (let i = 0; i <= maxI; i += 1) {\n",
    "        for (let j = 0; j <= maxJ; j += 1) {\n",
    "            const directions = [\n",
    "                [0, 1], [0, -1], [-1, 0], [1, 0],\n",
    "                [1, 1], [1, -1], [-1, 1], [-1, -1]\n",
    "            ];\n",
    "\n",
    "            for (const [di, dj] of directions) {\n",
    "                if (\n",
    "                    i + 3 * di >= 0 && i + 3 * di <= maxI &&\n",
    "                    j + 3 * dj >= 0 && j + 3 * dj <= maxJ &&\n",
    "                    isXMAS([\n",
    "                        array2D[i][j],\n",
    "                        array2D[i + di][j + dj],\n",
    "                        array2D[i + 2 * di][j + 2 * dj],\n",
    "                        array2D[i + 3 * di][j + 3 * dj]\n",
    "                    ])\n",
    "                ) {\n",
    "                    count += 1;\n",
    "                }\n",
    "            }\n",
    "        }\n",
    "    }\n",
    "    return count;\n",
    "}\n",
    "countXMASPatterns();"
   ]
  },
  {
   "cell_type": "code",
   "execution_count": 20,
   "metadata": {},
   "outputs": [
    {
     "data": {
      "text/plain": [
       "\u001b[33m9\u001b[39m"
      ]
     },
     "execution_count": 20,
     "metadata": {},
     "output_type": "execute_result"
    }
   ],
   "source": [
    "const knownCrossEdges = ['SM', 'MS'];\n",
    "const countXMAS2Patterns = () => {\n",
    "    let count = 0;\n",
    "    for (let i = 1; i < maxI; i += 1) {\n",
    "        for (let j = 1; j < maxJ; j += 1) {\n",
    "            if (\n",
    "                array2D[i][j] === 'A' &&\n",
    "                knownCrossEdges.includes(array2D[i - 1][j - 1] + array2D[i + 1][j + 1]) &&\n",
    "                knownCrossEdges.includes(array2D[i - 1][j + 1] + array2D[i + 1][j - 1])\n",
    "            ) {\n",
    "                count += 1;\n",
    "            }\n",
    "\n",
    "        }\n",
    "    }\n",
    "    return count;\n",
    "}\n",
    "countXMAS2Patterns();"
   ]
  }
 ],
 "metadata": {
  "kernelspec": {
   "display_name": "Deno",
   "language": "typescript",
   "name": "deno"
  },
  "language_info": {
   "codemirror_mode": "typescript",
   "file_extension": ".ts",
   "mimetype": "text/x.typescript",
   "name": "typescript",
   "nbconvert_exporter": "script",
   "pygments_lexer": "typescript",
   "version": "5.6.2"
  }
 },
 "nbformat": 4,
 "nbformat_minor": 2
}
