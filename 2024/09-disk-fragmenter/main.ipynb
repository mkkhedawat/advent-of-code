{
 "cells": [
  {
   "cell_type": "markdown",
   "metadata": {},
   "source": [
    "# 09 - Disk Fragmenter\n",
    "\n",
    "https://adventofcode.com/2024/day/9\n"
   ]
  },
  {
   "cell_type": "code",
   "execution_count": 42,
   "metadata": {},
   "outputs": [
    {
     "data": {
      "text/plain": [
       "[\n",
       "  \u001b[33m10\u001b[39m,\n",
       "  [\n",
       "    { blocks: \u001b[33m2\u001b[39m, freeSpace: \u001b[33m3\u001b[39m, id: \u001b[33m0\u001b[39m },\n",
       "    { blocks: \u001b[33m3\u001b[39m, freeSpace: \u001b[33m3\u001b[39m, id: \u001b[33m1\u001b[39m },\n",
       "    { blocks: \u001b[33m1\u001b[39m, freeSpace: \u001b[33m3\u001b[39m, id: \u001b[33m2\u001b[39m },\n",
       "    { blocks: \u001b[33m3\u001b[39m, freeSpace: \u001b[33m1\u001b[39m, id: \u001b[33m3\u001b[39m },\n",
       "    { blocks: \u001b[33m2\u001b[39m, freeSpace: \u001b[33m1\u001b[39m, id: \u001b[33m4\u001b[39m },\n",
       "    { blocks: \u001b[33m4\u001b[39m, freeSpace: \u001b[33m1\u001b[39m, id: \u001b[33m5\u001b[39m },\n",
       "    { blocks: \u001b[33m4\u001b[39m, freeSpace: \u001b[33m1\u001b[39m, id: \u001b[33m6\u001b[39m },\n",
       "    { blocks: \u001b[33m3\u001b[39m, freeSpace: \u001b[33m1\u001b[39m, id: \u001b[33m7\u001b[39m },\n",
       "    { blocks: \u001b[33m4\u001b[39m, freeSpace: \u001b[33m0\u001b[39m, id: \u001b[33m8\u001b[39m },\n",
       "    { blocks: \u001b[33m2\u001b[39m, freeSpace: \u001b[33m0\u001b[39m, id: \u001b[33m9\u001b[39m }\n",
       "  ]\n",
       "]"
      ]
     },
     "execution_count": 42,
     "metadata": {},
     "output_type": "execute_result"
    }
   ],
   "source": [
    "// Read Input\n",
    "const file = await Deno.readTextFile(\"input-base.txt\");\n",
    "\n",
    "const diskMap = []\n",
    "for (let i = 0, id = 0; i < file.length; i += 2) {\n",
    "    diskMap.push(\n",
    "        {\n",
    "            blocks: parseInt(file[i]),\n",
    "            freeSpace: parseInt(file[i + 1]) || 0,\n",
    "            id: id++\n",
    "        }\n",
    "    )\n",
    "}\n",
    "[diskMap.length, diskMap]"
   ]
  },
  {
   "cell_type": "code",
   "execution_count": 43,
   "metadata": {},
   "outputs": [
    {
     "data": {
      "text/plain": [
       "\u001b[33m1928\u001b[39m"
      ]
     },
     "execution_count": 43,
     "metadata": {},
     "output_type": "execute_result"
    }
   ],
   "source": [
    "// Part 1 - What is the resulting filesystem checksum ?\n",
    "const compactIt = (diskMap) => {\n",
    "    const compactDisk = diskMap.reduce((acc, { blocks, freeSpace }, i) => {\n",
    "        return acc.concat(Array(blocks).fill(i), Array(freeSpace).fill('.'));\n",
    "    }, []);\n",
    "\n",
    "    for (let i = 0, j = compactDisk.length - 1; i <= j; i += 1) {\n",
    "        while (compactDisk[j] === '.' && j > i) j -= 1;\n",
    "        if (compactDisk[i] === '.') {\n",
    "            compactDisk[i] = compactDisk[j];\n",
    "            compactDisk[j] = '.';\n",
    "            j -= 1;\n",
    "        }\n",
    "    }\n",
    "    return compactDisk;\n",
    "}\n",
    "const checkSum = (disk) => {\n",
    "    let sum = 0;\n",
    "    for (let i = 0; i < disk.length; i += 1) {\n",
    "        if (disk[i] === '.') break;\n",
    "        sum += disk[i] * i;\n",
    "    }\n",
    "    return sum;\n",
    "}\n",
    "checkSum(compactIt(diskMap));"
   ]
  },
  {
   "cell_type": "code",
   "execution_count": 44,
   "metadata": {},
   "outputs": [
    {
     "data": {
      "text/plain": [
       "\u001b[33m2858\u001b[39m"
      ]
     },
     "execution_count": 44,
     "metadata": {},
     "output_type": "execute_result"
    }
   ],
   "source": [
    "// Part 2 - What is the resulting filesystem checksum with new method ?\n",
    "\n",
    "import objects from \"../../utils/objects.ts\";\n",
    "\n",
    "const compactItV2 = (disk: [{ blocks: number, id: number, freeSpace: number }]) => {\n",
    "    const modifiedDisk = objects.deepCopy(disk);\n",
    "    for (let i = modifiedDisk.length - 1; i > 0; i -= 1) {\n",
    "        const rightMostBlockLength = modifiedDisk[i].blocks;\n",
    "        for (let j = 0; j < i; j += 1) {\n",
    "            if (modifiedDisk[j].freeSpace >= rightMostBlockLength) {\n",
    "                modifiedDisk[j].freeSpace -= rightMostBlockLength;\n",
    "                if (!modifiedDisk[j].welcomedBlocks) {\n",
    "                    modifiedDisk[j].welcomedBlocks = []\n",
    "                }\n",
    "                modifiedDisk[j].welcomedBlocks.push(modifiedDisk[i]);\n",
    "                modifiedDisk[i].moved = true\n",
    "                break;\n",
    "            }\n",
    "        }\n",
    "    }\n",
    "    const compactDisk = modifiedDisk.reduce((acc, { blocks, freeSpace, welcomedBlocks, moved, id }) => {\n",
    "        if (moved && !welcomedBlocks) acc.concat(Array(blocks + freeSpace).fill('.'));\n",
    "        return acc.concat([\n",
    "            ...Array(blocks).fill(moved ? '.' : id),\n",
    "            ...((welcomedBlocks|| []).reduce((acc, { blocks, id }) => acc.concat(Array(blocks).fill(id)), [])),\n",
    "            ...Array(freeSpace).fill('.')\n",
    "        ])\n",
    "    }, [])\n",
    "    return compactDisk;\n",
    "}\n",
    "\n",
    "compactItV2(diskMap).reduce((sum, val, i) => val === '.' ? sum : sum + val * i, 0);"
   ]
  },
  {
   "cell_type": "code",
   "execution_count": 45,
   "metadata": {},
   "outputs": [
    {
     "name": "stdout",
     "output_type": "stream",
     "text": [
      "\u001b[41m  \u001b[49m\u001b[41m  \u001b[49m\u001b[42m  \u001b[49m\u001b[42m  \u001b[49m\u001b[43m  \u001b[49m\u001b[44m  \u001b[49m\u001b[44m  \u001b[49m\u001b[44m  \u001b[49m\u001b[43m  \u001b[49m\u001b[43m  \u001b[49m\u001b[43m  \u001b[49m\u001b[45m  \u001b[49m\u001b[46m  \u001b[49m\u001b[46m  \u001b[49m\u001b[46m  \u001b[49m\u001b[47m  \u001b[49m\u001b[47m  \u001b[49m\u001b[47m  \u001b[49m\u001b[41m  \u001b[49m\u001b[42m  \u001b[49m\u001b[42m  \u001b[49m\u001b[41m  \u001b[49m\u001b[43m  \u001b[49m\u001b[43m  \u001b[49m\u001b[43m  \u001b[49m\u001b[43m  \u001b[49m\u001b[41m  \u001b[49m\u001b[41m  \u001b[49m\u001b[40m  \u001b[49m\u001b[40m  \u001b[49m\u001b[40m  \u001b[49m\u001b[40m  \u001b[49m\u001b[40m  \u001b[49m\u001b[40m  \u001b[49m\u001b[40m  \u001b[49m\u001b[40m  \u001b[49m\u001b[40m  \u001b[49m\u001b[40m  \u001b[49m\u001b[40m  \u001b[49m\u001b[40m  \u001b[49m\u001b[40m  \u001b[49m\u001b[40m  \u001b[49m\n",
      "\u001b[41m  \u001b[49m\u001b[41m  \u001b[49m\u001b[42m  \u001b[49m\u001b[42m  \u001b[49m\u001b[43m  \u001b[49m\u001b[44m  \u001b[49m\u001b[44m  \u001b[49m\u001b[44m  \u001b[49m\u001b[45m  \u001b[49m\u001b[45m  \u001b[49m\u001b[45m  \u001b[49m\u001b[40m  \u001b[49m\u001b[46m  \u001b[49m\u001b[46m  \u001b[49m\u001b[40m  \u001b[49m\u001b[47m  \u001b[49m\u001b[47m  \u001b[49m\u001b[47m  \u001b[49m\u001b[40m  \u001b[49m\u001b[40m  \u001b[49m\u001b[40m  \u001b[49m\u001b[40m  \u001b[49m\u001b[41m  \u001b[49m\u001b[41m  \u001b[49m\u001b[41m  \u001b[49m\u001b[41m  \u001b[49m\u001b[40m  \u001b[49m\u001b[42m  \u001b[49m\u001b[42m  \u001b[49m\u001b[42m  \u001b[49m\u001b[42m  \u001b[49m\u001b[40m  \u001b[49m\u001b[40m  \u001b[49m\u001b[40m  \u001b[49m\u001b[40m  \u001b[49m\u001b[40m  \u001b[49m\u001b[43m  \u001b[49m\u001b[43m  \u001b[49m\u001b[43m  \u001b[49m\u001b[43m  \u001b[49m\u001b[40m  \u001b[49m\u001b[40m  \u001b[49m\n"
     ]
    }
   ],
   "source": [
    "import colors from \"../../utils/colors.ts\";\n",
    "\n",
    "const split1DArrayTo2DAtN = (arr, n) => {\n",
    "    const res = []\n",
    "    for (let i = 0; i < arr.length; i += n) {\n",
    "        res.push(arr.slice(i, i + n))\n",
    "    }\n",
    "    return res;\n",
    "}\n",
    "\n",
    "const part1CompactDisk = compactIt(diskMap);\n",
    "const part2CompactDisk = compactItV2(diskMap);\n",
    "\n",
    "colors.visualize2DArray(split1DArrayTo2DAtN(part1CompactDisk,100), {colors : {\".\" : colors.bgBlack}})\n",
    "colors.visualize2DArray(split1DArrayTo2DAtN(part2CompactDisk, 100), {colors : {\".\" : colors.bgBlack}})\n"
   ]
  }
 ],
 "metadata": {
  "kernelspec": {
   "display_name": "Deno",
   "language": "typescript",
   "name": "deno"
  },
  "language_info": {
   "codemirror_mode": "typescript",
   "file_extension": ".ts",
   "mimetype": "text/x.typescript",
   "name": "typescript",
   "nbconvert_exporter": "script",
   "pygments_lexer": "typescript",
   "version": "5.6.2"
  }
 },
 "nbformat": 4,
 "nbformat_minor": 2
}
