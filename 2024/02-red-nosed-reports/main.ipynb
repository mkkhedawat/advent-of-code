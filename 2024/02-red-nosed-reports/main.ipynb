{
 "cells": [
  {
   "cell_type": "markdown",
   "metadata": {},
   "source": [
    "# 02 - Red-Nosed Reports\n",
    "\n",
    "https://adventofcode.com/2024/day/2\n"
   ]
  },
  {
   "cell_type": "code",
   "execution_count": 1,
   "metadata": {},
   "outputs": [
    {
     "data": {
      "text/plain": [
       "[\n",
       "  [ \u001b[33m7\u001b[39m, \u001b[33m6\u001b[39m, \u001b[33m4\u001b[39m, \u001b[33m2\u001b[39m, \u001b[33m1\u001b[39m ],\n",
       "  [ \u001b[33m1\u001b[39m, \u001b[33m2\u001b[39m, \u001b[33m7\u001b[39m, \u001b[33m8\u001b[39m, \u001b[33m9\u001b[39m ],\n",
       "  [ \u001b[33m9\u001b[39m, \u001b[33m7\u001b[39m, \u001b[33m6\u001b[39m, \u001b[33m2\u001b[39m, \u001b[33m1\u001b[39m ],\n",
       "  [ \u001b[33m1\u001b[39m, \u001b[33m3\u001b[39m, \u001b[33m2\u001b[39m, \u001b[33m4\u001b[39m, \u001b[33m5\u001b[39m ],\n",
       "  [ \u001b[33m8\u001b[39m, \u001b[33m6\u001b[39m, \u001b[33m4\u001b[39m, \u001b[33m4\u001b[39m, \u001b[33m1\u001b[39m ],\n",
       "  [ \u001b[33m1\u001b[39m, \u001b[33m3\u001b[39m, \u001b[33m6\u001b[39m, \u001b[33m7\u001b[39m, \u001b[33m9\u001b[39m ]\n",
       "]"
      ]
     },
     "execution_count": 1,
     "metadata": {},
     "output_type": "execute_result"
    }
   ],
   "source": [
    "const file = await Deno.readTextFile(\"input-base.txt\");\n",
    "const inputs = file.split(\"\\n\").map(line => line.split(/\\s+/).map(Number));\n",
    "inputs"
   ]
  },
  {
   "cell_type": "code",
   "execution_count": 2,
   "metadata": {},
   "outputs": [
    {
     "data": {
      "text/plain": [
       "\u001b[33m2\u001b[39m"
      ]
     },
     "execution_count": 2,
     "metadata": {},
     "output_type": "execute_result"
    }
   ],
   "source": [
    "// part - 1 check safe levels\n",
    "const flows = {\n",
    "    INC: 'INC',\n",
    "    DEC: 'DEC'\n",
    "}\n",
    "\n",
    "const isFlowConsistent = (a, b, flow) => {\n",
    "    const diff = b - a;\n",
    "    if (diff === 0 || Math.abs(diff) > 3) return false\n",
    "    if (flow === flows.INC && diff < 0) return false;\n",
    "    if (flow === flows.DEC && diff > 0) return false;\n",
    "    return true;\n",
    "}\n",
    "\n",
    "const areSafeLevels = (levels: []) => {\n",
    "    const flow = levels[1] - levels[0] > 0 ? flows.INC : flows.DEC;\n",
    "    for (let i = 0; i <= levels.length - 2; i += 1) {\n",
    "        if (!isFlowConsistent(levels[i], levels[i + 1], flow))\n",
    "            return false;\n",
    "    }\n",
    "    return true;\n",
    "}\n",
    "\n",
    "let countOfSafeLevels = 0;\n",
    "inputs.forEach((input) => {\n",
    "    if (areSafeLevels(input)) {\n",
    "        countOfSafeLevels += 1;\n",
    "    }\n",
    "});\n",
    "countOfSafeLevels"
   ]
  },
  {
   "cell_type": "code",
   "execution_count": 3,
   "metadata": {},
   "outputs": [
    {
     "data": {
      "text/plain": [
       "\u001b[33m4\u001b[39m"
      ]
     },
     "execution_count": 3,
     "metadata": {},
     "output_type": "execute_result"
    }
   ],
   "source": [
    "// part - 2 problem dampener\n",
    "let countOfSafeLevelsWithProblemDampener = 0;\n",
    "\n",
    "inputs.forEach((input) => {\n",
    "    for (let i = 0; i <= input.length - 1; i += 1) {\n",
    "        const filteredInput = input.filter((_, index) => index !== i);\n",
    "        if (areSafeLevels(filteredInput)) {\n",
    "            countOfSafeLevelsWithProblemDampener += 1;\n",
    "            break;\n",
    "        }\n",
    "    }\n",
    "});\n",
    "countOfSafeLevelsWithProblemDampener"
   ]
  },
  {
   "cell_type": "code",
   "execution_count": null,
   "metadata": {},
   "outputs": [
    {
     "data": {
      "text/plain": [
       "\u001b[33m4\u001b[39m"
      ]
     },
     "execution_count": 4,
     "metadata": {},
     "output_type": "execute_result"
    }
   ],
   "source": [
    "// part - 2 problem dampener O(n)\n",
    "let countOfSafeLevelsWithProblemDampener = 0;\n",
    "\n",
    "const isValidIncFlowPair = (a, b) => { const diff = b - a; return diff > 0 && diff <= 3; };\n",
    "\n",
    "const areSafeLevelsWithProblemDampener = (levels: []) => {\n",
    "    let violations = 0;\n",
    "    for (let i = 0; i <= levels.length - 2 && violations < 2; i += 1) {\n",
    "        const a = levels[i];\n",
    "        const b = levels[i + 1];\n",
    "        if (isValidIncFlowPair(a, b)) continue;\n",
    "        if (i === levels.length - 2) {\n",
    "            // second last element\n",
    "            violations += 1;\n",
    "            continue;\n",
    "        }\n",
    "        const c = levels[i + 2];\n",
    "        if (isValidIncFlowPair(a, c)) {\n",
    "            // problem is with next element\n",
    "            violations += 1;\n",
    "            i += 1;\n",
    "            continue;\n",
    "        }\n",
    "        if (isValidIncFlowPair(b, c)) {\n",
    "            // problem is with self\n",
    "            if (i === 0) {\n",
    "                //first element\n",
    "                violations += 1;\n",
    "                continue;\n",
    "            }\n",
    "            const z = levels[i - 1]\n",
    "            if (isValidIncFlowPair(z, b)) {\n",
    "                violations += 1;\n",
    "                continue;\n",
    "            }\n",
    "            return false;\n",
    "        }\n",
    "        return false\n",
    "    }\n",
    "    return violations < 2;\n",
    "}\n",
    "\n",
    "inputs.forEach((input) => {\n",
    "    const reversedInput = input.toReversed();\n",
    "    if (areSafeLevelsWithProblemDampener(input) || areSafeLevelsWithProblemDampener(reversedInput)) {\n",
    "        countOfSafeLevelsWithProblemDampener += 1;\n",
    "    }\n",
    "});\n",
    "countOfSafeLevelsWithProblemDampener\n"
   ]
  }
 ],
 "metadata": {
  "kernelspec": {
   "display_name": "Deno",
   "language": "typescript",
   "name": "deno"
  },
  "language_info": {
   "codemirror_mode": "typescript",
   "file_extension": ".ts",
   "mimetype": "text/x.typescript",
   "name": "typescript",
   "nbconvert_exporter": "script",
   "pygments_lexer": "typescript",
   "version": "5.6.2"
  }
 },
 "nbformat": 4,
 "nbformat_minor": 2
}
