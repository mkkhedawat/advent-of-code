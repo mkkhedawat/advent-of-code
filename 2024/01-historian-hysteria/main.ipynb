{
 "cells": [
  {
   "cell_type": "markdown",
   "metadata": {},
   "source": [
    "# 01 - Historian Hysteria\n",
    "\n",
    "https://adventofcode.com/2024/day/1\n"
   ]
  },
  {
   "cell_type": "code",
   "execution_count": 36,
   "metadata": {},
   "outputs": [
    {
     "data": {
      "text/plain": [
       "[ \u001b[32m\"3   4\"\u001b[39m, \u001b[32m\"4   3\"\u001b[39m, \u001b[32m\"2   5\"\u001b[39m, \u001b[32m\"1   3\"\u001b[39m, \u001b[32m\"3   9\"\u001b[39m, \u001b[32m\"3   3\"\u001b[39m ]"
      ]
     },
     "execution_count": 36,
     "metadata": {},
     "output_type": "execute_result"
    }
   ],
   "source": [
    "const file = await Deno.readTextFile(\"input-base.txt\");\n",
    "const inputs = file.split(\"\\n\");\n",
    "inputs"
   ]
  },
  {
   "cell_type": "code",
   "execution_count": 37,
   "metadata": {},
   "outputs": [
    {
     "data": {
      "text/plain": [
       "[ [ \u001b[33m1\u001b[39m, \u001b[33m2\u001b[39m, \u001b[33m3\u001b[39m, \u001b[33m3\u001b[39m, \u001b[33m3\u001b[39m, \u001b[33m4\u001b[39m ], [ \u001b[33m3\u001b[39m, \u001b[33m3\u001b[39m, \u001b[33m3\u001b[39m, \u001b[33m4\u001b[39m, \u001b[33m5\u001b[39m, \u001b[33m9\u001b[39m ] ]"
      ]
     },
     "execution_count": 37,
     "metadata": {},
     "output_type": "execute_result"
    }
   ],
   "source": [
    "// Prepare the lists\n",
    "const leftList = [];\n",
    "const rightList = [];\n",
    "\n",
    "inputs.forEach((input) => {\n",
    "    const [left, right] = input.split(/\\s+/);\n",
    "    leftList.push(parseInt(left));\n",
    "    rightList.push(parseInt(right));\n",
    "});\n",
    "leftList.sort((a, b) => a - b);\n",
    "rightList.sort((a, b) => a - b);\n",
    "[leftList, rightList]"
   ]
  },
  {
   "cell_type": "code",
   "execution_count": null,
   "metadata": {},
   "outputs": [
    {
     "data": {
      "text/plain": [
       "\u001b[33m11\u001b[39m"
      ]
     },
     "execution_count": 38,
     "metadata": {},
     "output_type": "execute_result"
    }
   ],
   "source": [
    "// Calculate the sum of the distances between left and right\n",
    "const distance = (a, b) => Math.abs(a - b);\n",
    "\n",
    "let sum = 0;\n",
    "for (let i = 0; i < leftList.length; i += 1) {\n",
    "    sum += distance(leftList[i], rightList[i]);\n",
    "}\n",
    "sum"
   ]
  },
  {
   "cell_type": "code",
   "execution_count": 39,
   "metadata": {},
   "outputs": [
    {
     "data": {
      "text/plain": [
       "{ \u001b[32m\"3\"\u001b[39m: \u001b[33m3\u001b[39m, \u001b[32m\"4\"\u001b[39m: \u001b[33m1\u001b[39m, \u001b[32m\"5\"\u001b[39m: \u001b[33m1\u001b[39m, \u001b[32m\"9\"\u001b[39m: \u001b[33m1\u001b[39m }"
      ]
     },
     "execution_count": 39,
     "metadata": {},
     "output_type": "execute_result"
    }
   ],
   "source": [
    "// Number Frequency Count\n",
    "const rightListFrequency = {};\n",
    "rightList.forEach((right) => {\n",
    "    if (!rightListFrequency[right]) {\n",
    "        rightListFrequency[right] = 1;\n",
    "    } else {\n",
    "        rightListFrequency[right] += 1;\n",
    "    }\n",
    "});\n",
    "rightListFrequency"
   ]
  },
  {
   "cell_type": "code",
   "execution_count": 40,
   "metadata": {},
   "outputs": [
    {
     "data": {
      "text/plain": [
       "\u001b[33m31\u001b[39m"
      ]
     },
     "execution_count": 40,
     "metadata": {},
     "output_type": "execute_result"
    }
   ],
   "source": [
    "// calculate the similarity score\n",
    "let similarityScore = 0;\n",
    "leftList.forEach((left) => {\n",
    "    similarityScore += left * (rightListFrequency[left] || 0);\n",
    "});\n",
    "similarityScore"
   ]
  }
 ],
 "metadata": {
  "kernelspec": {
   "display_name": "Deno",
   "language": "typescript",
   "name": "deno"
  },
  "language_info": {
   "codemirror_mode": "typescript",
   "file_extension": ".ts",
   "mimetype": "text/x.typescript",
   "name": "typescript",
   "nbconvert_exporter": "script",
   "pygments_lexer": "typescript",
   "version": "5.6.2"
  }
 },
 "nbformat": 4,
 "nbformat_minor": 2
}
