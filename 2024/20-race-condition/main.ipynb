{
 "cells": [
  {
   "cell_type": "markdown",
   "metadata": {},
   "source": [
    "# 20 - Race Condition\n",
    "\n",
    "https://adventofcode.com/2024/day/20\n"
   ]
  },
  {
   "cell_type": "code",
   "execution_count": 1,
   "metadata": {},
   "outputs": [],
   "source": [
    "// Imports\n",
    "\n",
    "import colors from \"../../utils/colors.ts\"\n",
    "import objects from \"../../utils/objects.ts\"\n",
    "import strings from \"../../utils/strings.ts\"\n",
    "import numbers from \"../../utils/numbers.ts\"\n",
    "import plots from \"../../utils/plots.ts\";\n",
    "import images from \"../../utils/images.ts\";\n",
    "import arrays from \"../../utils/arrays.ts\";"
   ]
  },
  {
   "cell_type": "code",
   "execution_count": 2,
   "metadata": {},
   "outputs": [
    {
     "name": "stdout",
     "output_type": "stream",
     "text": [
      "###############\n",
      "#...#...#.....#\n",
      "#.#.#.#.#.###.#\n",
      "#S#...#.#.#...#\n",
      "#######.#.#.###\n",
      "#######.#.#...#\n",
      "#######.#.###.#\n",
      "###..E#...#...#\n",
      "###.#######.###\n",
      "#...###...#...#\n",
      "#.#####.#.###.#\n",
      "#.#...#.#.#...#\n",
      "#.#.#.#.#.#.###\n",
      "#...#...#...###\n",
      "###############\n"
     ]
    }
   ],
   "source": [
    "// Read Input\n",
    "\n",
    "const file = await Deno.readTextFile(\"input-base.txt\");\n",
    "const area = file.split(\"\\n\").map((row) => row.split(\"\"));\n",
    "\n",
    "arrays.print2D(area)"
   ]
  },
  {
   "cell_type": "code",
   "execution_count": 3,
   "metadata": {},
   "outputs": [
    {
     "data": {
      "text/plain": [
       "[ [ \u001b[33m3\u001b[39m, \u001b[33m1\u001b[39m ], [ \u001b[33m7\u001b[39m, \u001b[33m5\u001b[39m ] ]"
      ]
     },
     "execution_count": 3,
     "metadata": {},
     "output_type": "execute_result"
    }
   ],
   "source": [
    "// Prepare Data\n",
    "\n",
    "const findIndex = (target: string, area: string[][]) => {\n",
    "    for (let i = 0; i < area.length; i++) {\n",
    "        for (let j = 0; j < area[i].length; j++) {\n",
    "            if (area[i][j] === target) return [i, j];\n",
    "        }\n",
    "    }\n",
    "}\n",
    "\n",
    "const visitedKey = (i: number, j: number) => `${i}-${j}`;\n",
    "const isWall = el => el === \"#\";\n",
    "const directions = [[0, 1], [1, 0], [0, -1], [-1, 0]];\n",
    "\n",
    "\n",
    "[findIndex(\"S\", area), findIndex(\"E\", area)]"
   ]
  },
  {
   "cell_type": "code",
   "execution_count": 4,
   "metadata": {},
   "outputs": [
    {
     "data": {
      "text/plain": [
       "[ \u001b[33m85\u001b[39m, \u001b[33m5\u001b[39m ]"
      ]
     },
     "execution_count": 4,
     "metadata": {},
     "output_type": "execute_result"
    }
   ],
   "source": [
    "// Part 1 - How many cheats would save you at least x picoseconds?\n",
    "\n",
    "const findFastestPath = (area: string[][], maxIterations = 1000000) => {\n",
    "    const startPosition = findIndex(\"S\", area);\n",
    "    const endPosition = findIndex(\"E\", area);\n",
    "\n",
    "    const stack = [{ position: startPosition, path: new Set<string>() }];\n",
    "\n",
    "    const visited = {}\n",
    "\n",
    "    while (stack.length > 0) {\n",
    "        const { position, path } = stack.shift();\n",
    "        // console.log(stack);\n",
    "        const [i, j] = position;\n",
    "\n",
    "        if (i < 0 || i >= area.length || j < 0 || j >= area[0].length) {\n",
    "            continue;\n",
    "        }\n",
    "\n",
    "        if (maxIterations-- < 0) {\n",
    "            console.log('Max Iterations Reached');\n",
    "            break; // Just to avoid accidental infinite/long running loop\n",
    "        }\n",
    "\n",
    "        const currentPathKey = visitedKey(i, j);\n",
    "        if (visited[currentPathKey]) continue;\n",
    "        visited[currentPathKey] = true;\n",
    "\n",
    "        path.add(currentPathKey);\n",
    "        if (i === endPosition[0] && j === endPosition[1]) {\n",
    "            return path;\n",
    "        }\n",
    "\n",
    "        directions.forEach((d) => {\n",
    "            const next = area[i + d[0]] ? area[i + d[0]][j + d[1]] : null;\n",
    "            if (next && !isWall(next)) {\n",
    "                stack.push({ position: [i + d[0], j + d[1]], path: new Set([...path]) });\n",
    "            }\n",
    "        });\n",
    "    }\n",
    "    return null;\n",
    "}\n",
    "\n",
    "const validCheat = (a: number[], b: number[], area: string[][]) => {\n",
    "    const distance = Math.abs(a[0] - b[0]) + Math.abs(a[1] - b[1]);\n",
    "    if (distance !== 2) return false;\n",
    "    if (a[0] === b[0]) {\n",
    "        const mid = area[a[0]][(a[1] + b[1]) / 2];\n",
    "        return isWall(mid);\n",
    "    }\n",
    "    if (a[1] === b[1]) {\n",
    "        const mid = area[(a[0] + b[0]) / 2][a[1]];\n",
    "        return isWall(mid);\n",
    "    }\n",
    "    return false;\n",
    "}\n",
    "\n",
    "const findCheats = (area: string[][], path: Set<string>) => {\n",
    "    const cheats = [];\n",
    "\n",
    "    const pathArray = [...path].map((p) => p.split(\"-\").map(Number));\n",
    "    for (let i = 0; i < pathArray.length - 1; i++) {\n",
    "        for (let j = i + 1; j < pathArray.length; j++) {\n",
    "            if (validCheat(pathArray[i], pathArray[j], area)) {\n",
    "                cheats.push({\n",
    "                    start: pathArray[i],\n",
    "                    end: pathArray[j],\n",
    "                    diff: j - i - 2,\n",
    "                });\n",
    "            }\n",
    "        }\n",
    "    }\n",
    "    return cheats;\n",
    "}\n",
    "\n",
    "const fastestPath = findFastestPath(area);\n",
    "const cheats = findCheats(area, fastestPath);\n",
    "const cheatGroups = cheats.reduce((acc, cheat) => {\n",
    "    if (!acc[cheat.diff]) acc[cheat.diff] = [];\n",
    "    acc[cheat.diff].push(cheat);\n",
    "    return acc;\n",
    "}, {})\n",
    "const groupCounts = Object.keys(cheatGroups).reduce((acc, key) => {\n",
    "    acc[key] = cheatGroups[key].length;\n",
    "    return acc;\n",
    "}, {});\n",
    "\n",
    "const savesToBeChecked = 20;\n",
    "const cheatWithXSaves = Object.keys(groupCounts).reduce((acc, key) => {\n",
    "    const saves = parseInt(key);\n",
    "    if (saves >= savesToBeChecked) {\n",
    "        acc += groupCounts[saves];\n",
    "    }\n",
    "    return acc;\n",
    "}, 0);\n",
    "[fastestPath.size, cheatWithXSaves]"
   ]
  },
  {
   "cell_type": "code",
   "execution_count": 5,
   "metadata": {},
   "outputs": [
    {
     "data": {
      "text/plain": [
       "[ \u001b[33m85\u001b[39m, \u001b[33m285\u001b[39m ]"
      ]
     },
     "execution_count": 5,
     "metadata": {},
     "output_type": "execute_result"
    }
   ],
   "source": [
    "// Part 2 - How many cheats would save you at least 100 picoseconds with cheats last 20 steps?\n",
    "\n",
    "const findCheatsV2 = (area: string[][], path: Set<string>) => {\n",
    "    const cheats = [];\n",
    "    const pathArray = [...path].map((p) => p.split(\"-\").map(Number));\n",
    "    for (let i = 0; i < pathArray.length - 1; i++) {\n",
    "        for (let j = i + 1; j < pathArray.length; j++) {\n",
    "            const distance = Math.abs(pathArray[i][0] - pathArray[j][0]) + Math.abs(pathArray[i][1] - pathArray[j][1]);\n",
    "            if (distance <= 20 && distance < j - i) {\n",
    "                cheats.push({\n",
    "                    start: pathArray[i],\n",
    "                    end: pathArray[j],\n",
    "                    diff: j - i - distance,\n",
    "                });\n",
    "            }\n",
    "        }\n",
    "    }\n",
    "    return cheats;\n",
    "}\n",
    "\n",
    "const cheatsV2 = findCheatsV2(area, fastestPath);\n",
    "const cheatGroupsV2 = cheatsV2.reduce((acc, cheat) => {\n",
    "    if (!acc[cheat.diff]) acc[cheat.diff] = [];\n",
    "    acc[cheat.diff].push(cheat);\n",
    "    return acc;\n",
    "}, {})\n",
    "const groupCountsV2 = Object.keys(cheatGroupsV2).reduce((acc, key) => {\n",
    "    acc[key] = cheatGroupsV2[key].length;\n",
    "    return acc;\n",
    "}, {});\n",
    "\n",
    "const savesToBeCheckedV2 = 50;\n",
    "const cheatWithXSavesV2 = Object.keys(groupCountsV2).reduce((acc, key) => {\n",
    "    const saves = parseInt(key);\n",
    "    if (saves >= savesToBeCheckedV2) {\n",
    "        acc += groupCountsV2[saves];\n",
    "    }\n",
    "    return acc;\n",
    "}, 0);\n",
    "[fastestPath.size, cheatWithXSavesV2]"
   ]
  }
 ],
 "metadata": {
  "kernelspec": {
   "display_name": "Deno",
   "language": "typescript",
   "name": "deno"
  },
  "language_info": {
   "codemirror_mode": "typescript",
   "file_extension": ".ts",
   "mimetype": "text/x.typescript",
   "name": "typescript",
   "nbconvert_exporter": "script",
   "pygments_lexer": "typescript",
   "version": "5.6.2"
  }
 },
 "nbformat": 4,
 "nbformat_minor": 2
}
