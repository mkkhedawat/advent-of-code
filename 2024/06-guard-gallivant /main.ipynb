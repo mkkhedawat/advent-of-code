{
 "cells": [
  {
   "cell_type": "markdown",
   "metadata": {},
   "source": [
    "# 06 - Guard Gallivant\n",
    "\n",
    "https://adventofcode.com/2024/day/6\n"
   ]
  },
  {
   "cell_type": "code",
   "execution_count": 5,
   "metadata": {},
   "outputs": [
    {
     "data": {
      "text/plain": [
       "[\n",
       "  { position: [ \u001b[33m6\u001b[39m, \u001b[33m4\u001b[39m ], direction: \u001b[32m\"^\"\u001b[39m },\n",
       "  [\n",
       "    [\n",
       "      \u001b[33mfalse\u001b[39m, \u001b[33mfalse\u001b[39m, \u001b[33mfalse\u001b[39m,\n",
       "      \u001b[33mfalse\u001b[39m, \u001b[33mtrue\u001b[39m,  \u001b[33mfalse\u001b[39m,\n",
       "      \u001b[33mfalse\u001b[39m, \u001b[33mfalse\u001b[39m, \u001b[33mfalse\u001b[39m,\n",
       "      \u001b[33mfalse\u001b[39m\n",
       "    ],\n",
       "    [\n",
       "      \u001b[33mfalse\u001b[39m, \u001b[33mfalse\u001b[39m, \u001b[33mfalse\u001b[39m,\n",
       "      \u001b[33mfalse\u001b[39m, \u001b[33mfalse\u001b[39m, \u001b[33mfalse\u001b[39m,\n",
       "      \u001b[33mfalse\u001b[39m, \u001b[33mfalse\u001b[39m, \u001b[33mfalse\u001b[39m,\n",
       "      \u001b[33mtrue\u001b[39m\n",
       "    ],\n",
       "    [\n",
       "      \u001b[33mfalse\u001b[39m, \u001b[33mfalse\u001b[39m, \u001b[33mfalse\u001b[39m,\n",
       "      \u001b[33mfalse\u001b[39m, \u001b[33mfalse\u001b[39m, \u001b[33mfalse\u001b[39m,\n",
       "      \u001b[33mfalse\u001b[39m, \u001b[33mfalse\u001b[39m, \u001b[33mfalse\u001b[39m,\n",
       "      \u001b[33mfalse\u001b[39m\n",
       "    ],\n",
       "    [\n",
       "      \u001b[33mfalse\u001b[39m, \u001b[33mfalse\u001b[39m, \u001b[33mtrue\u001b[39m,\n",
       "      \u001b[33mfalse\u001b[39m, \u001b[33mfalse\u001b[39m, \u001b[33mfalse\u001b[39m,\n",
       "      \u001b[33mfalse\u001b[39m, \u001b[33mfalse\u001b[39m, \u001b[33mfalse\u001b[39m,\n",
       "      \u001b[33mfalse\u001b[39m\n",
       "    ],\n",
       "    [\n",
       "      \u001b[33mfalse\u001b[39m, \u001b[33mfalse\u001b[39m, \u001b[33mfalse\u001b[39m,\n",
       "      \u001b[33mfalse\u001b[39m, \u001b[33mfalse\u001b[39m, \u001b[33mfalse\u001b[39m,\n",
       "      \u001b[33mfalse\u001b[39m, \u001b[33mtrue\u001b[39m,  \u001b[33mfalse\u001b[39m,\n",
       "      \u001b[33mfalse\u001b[39m\n",
       "    ],\n",
       "    [\n",
       "      \u001b[33mfalse\u001b[39m, \u001b[33mfalse\u001b[39m, \u001b[33mfalse\u001b[39m,\n",
       "      \u001b[33mfalse\u001b[39m, \u001b[33mfalse\u001b[39m, \u001b[33mfalse\u001b[39m,\n",
       "      \u001b[33mfalse\u001b[39m, \u001b[33mfalse\u001b[39m, \u001b[33mfalse\u001b[39m,\n",
       "      \u001b[33mfalse\u001b[39m\n",
       "    ],\n",
       "    [\n",
       "      \u001b[33mfalse\u001b[39m, \u001b[33mtrue\u001b[39m,  \u001b[33mfalse\u001b[39m,\n",
       "      \u001b[33mfalse\u001b[39m, \u001b[33mfalse\u001b[39m, \u001b[33mfalse\u001b[39m,\n",
       "      \u001b[33mfalse\u001b[39m, \u001b[33mfalse\u001b[39m, \u001b[33mfalse\u001b[39m,\n",
       "      \u001b[33mfalse\u001b[39m\n",
       "    ],\n",
       "    [\n",
       "      \u001b[33mfalse\u001b[39m, \u001b[33mfalse\u001b[39m, \u001b[33mfalse\u001b[39m,\n",
       "      \u001b[33mfalse\u001b[39m, \u001b[33mfalse\u001b[39m, \u001b[33mfalse\u001b[39m,\n",
       "      \u001b[33mfalse\u001b[39m, \u001b[33mfalse\u001b[39m, \u001b[33mtrue\u001b[39m,\n",
       "      \u001b[33mfalse\u001b[39m\n",
       "    ],\n",
       "    [\n",
       "      \u001b[33mtrue\u001b[39m,  \u001b[33mfalse\u001b[39m, \u001b[33mfalse\u001b[39m,\n",
       "      \u001b[33mfalse\u001b[39m, \u001b[33mfalse\u001b[39m, \u001b[33mfalse\u001b[39m,\n",
       "      \u001b[33mfalse\u001b[39m, \u001b[33mfalse\u001b[39m, \u001b[33mfalse\u001b[39m,\n",
       "      \u001b[33mfalse\u001b[39m\n",
       "    ],\n",
       "    [\n",
       "      \u001b[33mfalse\u001b[39m, \u001b[33mfalse\u001b[39m, \u001b[33mfalse\u001b[39m,\n",
       "      \u001b[33mfalse\u001b[39m, \u001b[33mfalse\u001b[39m, \u001b[33mfalse\u001b[39m,\n",
       "      \u001b[33mtrue\u001b[39m,  \u001b[33mfalse\u001b[39m, \u001b[33mfalse\u001b[39m,\n",
       "      \u001b[33mfalse\u001b[39m\n",
       "    ]\n",
       "  ]\n",
       "]"
      ]
     },
     "execution_count": 5,
     "metadata": {},
     "output_type": "execute_result"
    }
   ],
   "source": [
    "// Read Input\n",
    "const file = await Deno.readTextFile(\"input-base.txt\");\n",
    "\n",
    "const guard = {\n",
    "    position: -1,\n",
    "    direction: [0, 0]\n",
    "};\n",
    "\n",
    "const directionMap = {\n",
    "    '>': [0, 1],\n",
    "    'v': [1, 0],\n",
    "    '<': [0, -1],\n",
    "    '^': [-1, 0]\n",
    "}\n",
    "\n",
    "\n",
    "const obstacles = file.split(\"\\n\").map((line, i) => line.split('').map((l, j) => {\n",
    "    switch (l) {\n",
    "        case \"#\":\n",
    "            return true;\n",
    "        case '.':\n",
    "            return false;\n",
    "        default:\n",
    "            guard.position = [i, j];\n",
    "            guard.direction = l;\n",
    "            return false;\n",
    "    }\n",
    "}));\n",
    "[guard, obstacles]"
   ]
  },
  {
   "cell_type": "code",
   "execution_count": 6,
   "metadata": {},
   "outputs": [
    {
     "data": {
      "text/plain": [
       "[ \u001b[32m\"<\"\u001b[39m, \u001b[32m\">\"\u001b[39m ]"
      ]
     },
     "execution_count": 6,
     "metadata": {},
     "output_type": "execute_result"
    }
   ],
   "source": [
    "const nextDirectionsArray = Object.keys(directionMap).map(k => k);\n",
    "const nextDirectionsMap = {}\n",
    "nextDirectionsArray.forEach((n, i) => {\n",
    "    nextDirectionsMap[n] = nextDirectionsArray[(i + 1) % nextDirectionsArray.length];\n",
    "});\n",
    "[nextDirectionsMap['v'], nextDirectionsMap['^']];"
   ]
  },
  {
   "cell_type": "code",
   "execution_count": 7,
   "metadata": {},
   "outputs": [
    {
     "data": {
      "text/plain": [
       "\u001b[33m41\u001b[39m"
      ]
     },
     "execution_count": 7,
     "metadata": {},
     "output_type": "execute_result"
    }
   ],
   "source": [
    "// How many distinct positions will the guard visit before leaving the mapped area?\n",
    "\n",
    "import objects from '../../utils/objects.ts'\n",
    "\n",
    "const visited = new Array(obstacles.length).fill(null).map(() => new Array(obstacles[0].length).fill(null));\n",
    "\n",
    "const maxI = visited.length - 1;\n",
    "const maxJ = visited[0].length - 1;\n",
    "\n",
    "const isGuardLeavingArea = (i, j, direction) => {\n",
    "    return (\n",
    "        (i === 0 && direction === '^') ||\n",
    "        (j === 0 && direction === '<') ||\n",
    "        (i === maxI && direction === 'v') ||\n",
    "        (j === maxJ && direction === '>')\n",
    "    );\n",
    "};\n",
    "\n",
    "const maxSteps = maxI * maxJ;\n",
    "let stepsTaken = 0;\n",
    "\n",
    "let currentPosition = objects.deepCopy(guard.position);\n",
    "let currentDirection = guard.direction;\n",
    "\n",
    "visited[currentPosition[0]][currentPosition[1]] = currentDirection;\n",
    "while (stepsTaken < maxSteps && !isGuardLeavingArea(currentPosition[0], currentPosition[1], currentDirection)) {\n",
    "    stepsTaken += 1; // just to avoid infinite loop in worst case\n",
    "\n",
    "    let nextPosition = [\n",
    "        currentPosition[0] + directionMap[currentDirection][0],\n",
    "        currentPosition[1] + directionMap[currentDirection][1]\n",
    "    ];\n",
    "\n",
    "    while (obstacles[nextPosition[0]][nextPosition[1]]) {\n",
    "        currentDirection = nextDirectionsMap[currentDirection];\n",
    "        nextPosition = [\n",
    "            currentPosition[0] + directionMap[currentDirection][0],\n",
    "            currentPosition[1] + directionMap[currentDirection][1]\n",
    "        ];\n",
    "    }\n",
    "\n",
    "    currentPosition = nextPosition;\n",
    "    visited[currentPosition[0]][currentPosition[1]] = currentDirection;\n",
    "}\n",
    "visited.flat().filter(v => v).length;"
   ]
  },
  {
   "cell_type": "code",
   "execution_count": 8,
   "metadata": {},
   "outputs": [
    {
     "data": {
      "text/plain": [
       "\u001b[33m6\u001b[39m"
      ]
     },
     "execution_count": 8,
     "metadata": {},
     "output_type": "execute_result"
    }
   ],
   "source": [
    "// How many different positions could you choose for this obstruction?\n",
    "\n",
    "const potentialObstacles = []\n",
    "for (let i = 0; i < visited.length; i += 1) {\n",
    "    for (let j = 0; j < visited[i].length; j += 1) {\n",
    "        if (!visited[i][j]) continue;\n",
    "        if (i === guard.position[0] && j === guard.position[1]) continue;\n",
    "        potentialObstacles.push([i, j]);\n",
    "    }\n",
    "}\n",
    "let loopObstacles = 0\n",
    "potentialObstacles.forEach(p => {\n",
    "    obstacles[p[0]][p[1]] = true;\n",
    "\n",
    "    let stepsTaken = 0;\n",
    "    let currentPosition = objects.deepCopy(guard.position);\n",
    "    let currentDirection = guard.direction;\n",
    "    const visited = new Array(obstacles.length).fill(null).map(() => new Array(obstacles[0].length).fill(null));\n",
    "    while (stepsTaken < maxSteps && !isGuardLeavingArea(currentPosition[0], currentPosition[1], currentDirection)) {\n",
    "        stepsTaken += 1; // just to avoid infinite loop in worst case\n",
    "\n",
    "        let nextPosition = [\n",
    "            currentPosition[0] + directionMap[currentDirection][0],\n",
    "            currentPosition[1] + directionMap[currentDirection][1]\n",
    "        ];\n",
    "\n",
    "        while (obstacles[nextPosition[0]][nextPosition[1]]) {\n",
    "            currentDirection = nextDirectionsMap[currentDirection];\n",
    "            nextPosition = [\n",
    "                currentPosition[0] + directionMap[currentDirection][0],\n",
    "                currentPosition[1] + directionMap[currentDirection][1]\n",
    "            ];\n",
    "        }\n",
    "\n",
    "\n",
    "        if (visited[nextPosition[0]][nextPosition[1]] === currentDirection) {\n",
    "            loopObstacles += 1;\n",
    "            break;\n",
    "        }\n",
    "        currentPosition = nextPosition;\n",
    "        visited[currentPosition[0]][currentPosition[1]] = currentDirection;\n",
    "    }\n",
    "\n",
    "    obstacles[p[0]][p[1]] = false; // revert the test obstacle\n",
    "})\n",
    "loopObstacles"
   ]
  }
 ],
 "metadata": {
  "kernelspec": {
   "display_name": "Deno",
   "language": "typescript",
   "name": "deno"
  },
  "language_info": {
   "codemirror_mode": "typescript",
   "file_extension": ".ts",
   "mimetype": "text/x.typescript",
   "name": "typescript",
   "nbconvert_exporter": "script",
   "pygments_lexer": "typescript",
   "version": "5.6.2"
  }
 },
 "nbformat": 4,
 "nbformat_minor": 2
}
