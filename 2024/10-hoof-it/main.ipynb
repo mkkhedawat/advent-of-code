{
 "cells": [
  {
   "cell_type": "markdown",
   "metadata": {},
   "source": [
    "# 10 - Hoof It\n",
    "\n",
    "https://adventofcode.com/2024/day/10\n"
   ]
  },
  {
   "cell_type": "code",
   "execution_count": 1,
   "metadata": {},
   "outputs": [
    {
     "data": {
      "text/plain": [
       "[\n",
       "  [\n",
       "    [ \u001b[33m0\u001b[39m, \u001b[33m1\u001b[39m ], [ \u001b[33m2\u001b[39m, \u001b[33m5\u001b[39m ],\n",
       "    [ \u001b[33m3\u001b[39m, \u001b[33m0\u001b[39m ], [ \u001b[33m3\u001b[39m, \u001b[33m4\u001b[39m ],\n",
       "    [ \u001b[33m4\u001b[39m, \u001b[33m5\u001b[39m ], [ \u001b[33m5\u001b[39m, \u001b[33m4\u001b[39m ],\n",
       "    [ \u001b[33m6\u001b[39m, \u001b[33m4\u001b[39m ]\n",
       "  ],\n",
       "  [\n",
       "    [\n",
       "      \u001b[33m8\u001b[39m, \u001b[33m9\u001b[39m, \u001b[33m0\u001b[39m, \u001b[33m1\u001b[39m,\n",
       "      \u001b[33m0\u001b[39m, \u001b[33m1\u001b[39m, \u001b[33m2\u001b[39m, \u001b[33m3\u001b[39m\n",
       "    ],\n",
       "    [\n",
       "      \u001b[33m7\u001b[39m, \u001b[33m8\u001b[39m, \u001b[33m1\u001b[39m, \u001b[33m2\u001b[39m,\n",
       "      \u001b[33m1\u001b[39m, \u001b[33m8\u001b[39m, \u001b[33m7\u001b[39m, \u001b[33m4\u001b[39m\n",
       "    ],\n",
       "    [\n",
       "      \u001b[33m8\u001b[39m, \u001b[33m7\u001b[39m, \u001b[33m4\u001b[39m, \u001b[33m3\u001b[39m,\n",
       "      \u001b[33m0\u001b[39m, \u001b[33m9\u001b[39m, \u001b[33m6\u001b[39m, \u001b[33m5\u001b[39m\n",
       "    ],\n",
       "    [\n",
       "      \u001b[33m9\u001b[39m, \u001b[33m6\u001b[39m, \u001b[33m5\u001b[39m, \u001b[33m4\u001b[39m,\n",
       "      \u001b[33m9\u001b[39m, \u001b[33m8\u001b[39m, \u001b[33m7\u001b[39m, \u001b[33m4\u001b[39m\n",
       "    ],\n",
       "    [\n",
       "      \u001b[33m4\u001b[39m, \u001b[33m5\u001b[39m, \u001b[33m6\u001b[39m, \u001b[33m7\u001b[39m,\n",
       "      \u001b[33m8\u001b[39m, \u001b[33m9\u001b[39m, \u001b[33m0\u001b[39m, \u001b[33m3\u001b[39m\n",
       "    ],\n",
       "    [\n",
       "      \u001b[33m3\u001b[39m, \u001b[33m2\u001b[39m, \u001b[33m0\u001b[39m, \u001b[33m1\u001b[39m,\n",
       "      \u001b[33m9\u001b[39m, \u001b[33m0\u001b[39m, \u001b[33m1\u001b[39m, \u001b[33m2\u001b[39m\n",
       "    ],\n",
       "    [\n",
       "      \u001b[33m0\u001b[39m, \u001b[33m1\u001b[39m, \u001b[33m3\u001b[39m, \u001b[33m2\u001b[39m,\n",
       "      \u001b[33m9\u001b[39m, \u001b[33m8\u001b[39m, \u001b[33m0\u001b[39m, \u001b[33m1\u001b[39m\n",
       "    ],\n",
       "    [\n",
       "      \u001b[33m1\u001b[39m, \u001b[33m0\u001b[39m, \u001b[33m4\u001b[39m, \u001b[33m5\u001b[39m,\n",
       "      \u001b[33m6\u001b[39m, \u001b[33m7\u001b[39m, \u001b[33m3\u001b[39m, \u001b[33m2\u001b[39m\n",
       "    ]\n",
       "  ]\n",
       "]"
      ]
     },
     "execution_count": 1,
     "metadata": {},
     "output_type": "execute_result"
    }
   ],
   "source": [
    "// Read Input\n",
    "const file = await Deno.readTextFile(\"input-base.txt\");\n",
    "const area = file.split(\"\\n\").map(line => line.split('').map(Number));\n",
    "const nines = area.map((row, i) => row.map((cell, j) => cell === 9 ? [i, j] : null).filter(cell => cell)).flat();\n",
    "[nines, area]"
   ]
  },
  {
   "cell_type": "code",
   "execution_count": 2,
   "metadata": {},
   "outputs": [
    {
     "data": {
      "text/plain": [
       "\u001b[33m81\u001b[39m"
      ]
     },
     "execution_count": 2,
     "metadata": {},
     "output_type": "execute_result"
    }
   ],
   "source": [
    "const trails = [];\n",
    "const fetchTrails = (i, j, area, trail) => {\n",
    "    const currentHeight = area[i][j];\n",
    "    if (currentHeight === 0) {\n",
    "        return trails.push(trail);\n",
    "    }\n",
    "    [[i - 1, j], [i + 1, j], [i, j - 1], [i, j + 1]].forEach(([x, y]) => {\n",
    "        if (!area[x]) return;\n",
    "        if (area[x][y] === currentHeight - 1) {\n",
    "            fetchTrails(x, y, area, [...trail, [x, y]]);\n",
    "        }\n",
    "    });\n",
    "}\n",
    "nines.forEach(n => {\n",
    "    fetchTrails(n[0], n[1], area, [n]);\n",
    "});\n",
    "trails.length"
   ]
  },
  {
   "cell_type": "code",
   "execution_count": 3,
   "metadata": {},
   "outputs": [
    {
     "data": {
      "text/plain": [
       "\u001b[33m36\u001b[39m"
      ]
     },
     "execution_count": 3,
     "metadata": {},
     "output_type": "execute_result"
    }
   ],
   "source": [
    "// part - 1, What is the sum of the scores of all trailheads on your topographic map?\n",
    "\n",
    "const scoreKey = trail => `${trail[0].join('-')}|${trail[trail.length - 1].join('-')}`;\n",
    "new Set(trails.map(scoreKey)).size;"
   ]
  },
  {
   "cell_type": "code",
   "execution_count": 4,
   "metadata": {},
   "outputs": [
    {
     "data": {
      "text/plain": [
       "\u001b[33m81\u001b[39m"
      ]
     },
     "execution_count": 4,
     "metadata": {},
     "output_type": "execute_result"
    }
   ],
   "source": [
    "// part - 2, What is the sum of the rating of all trailheads on your topographic map?\n",
    "\n",
    "const ratingKey = trail => trail.map(t => t.join('-')).join('|');\n",
    "new Set(trails.map(ratingKey)).size;"
   ]
  },
  {
   "cell_type": "code",
   "execution_count": 5,
   "metadata": {},
   "outputs": [
    {
     "data": {
      "text/plain": [
       "[ \u001b[33m36\u001b[39m, \u001b[33m81\u001b[39m ]"
      ]
     },
     "execution_count": 5,
     "metadata": {},
     "output_type": "execute_result"
    }
   ],
   "source": [
    "// non - recursive \n",
    "const getScore = (i, j, area) => {\n",
    "    let score = 0;\n",
    "    const stack = [[i, j]];\n",
    "    const visited = new Set();\n",
    "    visited.add([i,j].join('-'));\n",
    "\n",
    "    while (stack.length) {\n",
    "        const [x, y] = stack.pop();\n",
    "        const currentHeight = area[x][y];\n",
    "        if (currentHeight === 0) {\n",
    "            score++;\n",
    "            continue;\n",
    "        }\n",
    "        [[x - 1, y], [x + 1, y], [x, y - 1], [x, y + 1]].forEach(([a, b]) => {\n",
    "            if (!area[a]) return;\n",
    "            if (area[a][b] === currentHeight - 1 && !visited.has([a,b].join('-'))) {\n",
    "                stack.push([a, b]);\n",
    "                visited.add([a,b].join('-'));\n",
    "            }\n",
    "        });\n",
    "    }\n",
    "    return score;\n",
    "}\n",
    "\n",
    "const getRating = (i, j, area) => {\n",
    "    let rating = 0;\n",
    "    const stack = [[i, j]];\n",
    "\n",
    "    while (stack.length) {\n",
    "        const [x, y] = stack.pop();\n",
    "        const currentHeight = area[x][y];\n",
    "        if (currentHeight === 0) {\n",
    "            rating++;\n",
    "            continue;\n",
    "        }\n",
    "        [[x - 1, y], [x + 1, y], [x, y - 1], [x, y + 1]].forEach(([i, j]) => {\n",
    "            if (!area[i]) return;\n",
    "            if (area[i][j] === currentHeight - 1) {\n",
    "                stack.push([i, j]);\n",
    "            }\n",
    "        });\n",
    "    }\n",
    "    return rating;\n",
    "}\n",
    "[nines.reduce((acc, [i, j]) => acc + getScore(i, j, area), 0), nines.reduce((acc, [i, j]) => acc + getRating(i, j, area), 0)]"
   ]
  }
 ],
 "metadata": {
  "kernelspec": {
   "display_name": "Deno",
   "language": "typescript",
   "name": "deno"
  },
  "language_info": {
   "codemirror_mode": "typescript",
   "file_extension": ".ts",
   "mimetype": "text/x.typescript",
   "name": "typescript",
   "nbconvert_exporter": "script",
   "pygments_lexer": "typescript",
   "version": "5.6.2"
  }
 },
 "nbformat": 4,
 "nbformat_minor": 2
}
