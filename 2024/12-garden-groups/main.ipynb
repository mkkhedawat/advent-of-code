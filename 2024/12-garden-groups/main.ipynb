{
 "cells": [
  {
   "cell_type": "markdown",
   "metadata": {},
   "source": [
    "# 12 - Garden Groups\n",
    "\n",
    "https://adventofcode.com/2024/day/12\n"
   ]
  },
  {
   "cell_type": "code",
   "execution_count": 277,
   "metadata": {},
   "outputs": [],
   "source": [
    "// Imports\n",
    "\n",
    "import colors from \"../../utils/colors.ts\"\n",
    "import objects from \"../../utils/objects.ts\"\n",
    "import strings from \"../../utils/strings.ts\"\n",
    "import numbers from \"../../utils/numbers.ts\"\n",
    "import plots from \"../../utils/plots.ts\";"
   ]
  },
  {
   "cell_type": "code",
   "execution_count": 278,
   "metadata": {},
   "outputs": [
    {
     "data": {
      "text/plain": [
       "[ \u001b[33m10\u001b[39m, \u001b[33m10\u001b[39m ]"
      ]
     },
     "execution_count": 278,
     "metadata": {},
     "output_type": "execute_result"
    }
   ],
   "source": [
    "// Read Input\n",
    "\n",
    "class plot {\n",
    "    plantType: string;\n",
    "    region: string;\n",
    "    x: number;\n",
    "    y: number\n",
    "\n",
    "    constructor(plantType: string, region: string, x: number, y: number) {\n",
    "        this.plantType = plantType;\n",
    "        this.region = region;\n",
    "        this.x = x,\n",
    "            this.y = y\n",
    "    }\n",
    "}\n",
    "\n",
    "const file = await Deno.readTextFile(\"input-base.txt\");\n",
    "const area = file.split(\"\\n\").map((line, i) => line.split('').map((el, j) => new plot(el, null, i, j)));\n",
    "[area.length, area[0].length]"
   ]
  },
  {
   "cell_type": "code",
   "execution_count": 279,
   "metadata": {},
   "outputs": [
    {
     "data": {
      "text/plain": [
       "\u001b[33m11\u001b[39m"
      ]
     },
     "execution_count": 279,
     "metadata": {},
     "output_type": "execute_result"
    }
   ],
   "source": [
    "// Prepare Data\n",
    "const populateRegions = (area: plot[][]) => {\n",
    "    let currentRegion = 0;\n",
    "    const regions = {};\n",
    "    for (let i = 0; i < area.length; i++) {\n",
    "        for (let j = 0; j < area[i].length; j++) {\n",
    "            const current = area[i][j];\n",
    "            const left = j > 0 ? area[i][j - 1] : null;\n",
    "            const top = i > 0 ? area[i - 1][j] : null;\n",
    "            if (left &&\n",
    "                top &&\n",
    "                left.plantType === current.plantType &&\n",
    "                top.plantType === current.plantType &&\n",
    "                left.region !== top.region) {\n",
    "                const leftRegion = left.region;\n",
    "                const topRegion = top.region;\n",
    "\n",
    "                current.region = topRegion;\n",
    "\n",
    "                regions[leftRegion].forEach(el => {\n",
    "                    el.region = topRegion;\n",
    "                    area[el.x][el.y].region = topRegion;\n",
    "                    regions[topRegion].push(el);\n",
    "                });\n",
    "\n",
    "                delete regions[leftRegion];\n",
    "            }\n",
    "            else if (left && left.plantType === area[i][j].plantType) {\n",
    "                area[i][j].region = left.region;\n",
    "            }\n",
    "            else if (top && top.plantType === area[i][j].plantType) {\n",
    "                area[i][j].region = top.region;\n",
    "            }\n",
    "            else {\n",
    "                currentRegion += 1;\n",
    "                regions[currentRegion] = [];\n",
    "                area[i][j].region = currentRegion;\n",
    "            }\n",
    "            regions[area[i][j].region].push(area[i][j]);\n",
    "        }\n",
    "    }\n",
    "    return [area, regions];\n",
    "}\n",
    "\n",
    "const [area, regions] = populateRegions(area);\n",
    "Object.keys(regions).length"
   ]
  },
  {
   "cell_type": "code",
   "execution_count": 280,
   "metadata": {},
   "outputs": [
    {
     "data": {
      "text/plain": [
       "\u001b[33m1930\u001b[39m"
      ]
     },
     "execution_count": 280,
     "metadata": {},
     "output_type": "execute_result"
    }
   ],
   "source": [
    "// part 1 - What is the total price of fencing all regions on your map?\n",
    "\n",
    "const calculatePerimeter = (plots: plot[], area: plot[][]) => {\n",
    "    let perimeter = 0;\n",
    "    for (let i = 0; i < plots.length; i++) {\n",
    "        const plot = plots[i];\n",
    "        [[-1, 0], [1, 0], [0, -1], [0, 1]].forEach(([x, y]) => {\n",
    "            const neighbor = area[plot.x + x] ? area[plot.x + x][plot.y + y] : null;\n",
    "            if (!neighbor || neighbor.region !== plots[i].region) {\n",
    "                perimeter += 1;\n",
    "            }\n",
    "        });\n",
    "    }\n",
    "    return perimeter;\n",
    "}\n",
    "\n",
    "const calculateFencePrice = (regions: { [string]: plot[] }, area: plot[][]) => {\n",
    "    let price = 0\n",
    "    Object.keys(regions).forEach((region) => {\n",
    "        const plots = regions[region];\n",
    "        const plotArea = plots.length;\n",
    "        const perimeter = calculatePerimeter(plots, area);\n",
    "        price += plotArea * perimeter;\n",
    "    });\n",
    "    return price;\n",
    "}\n",
    "calculateFencePrice(regions, area)"
   ]
  },
  {
   "cell_type": "code",
   "execution_count": 281,
   "metadata": {},
   "outputs": [
    {
     "data": {
      "text/plain": [
       "\u001b[33m1206\u001b[39m"
      ]
     },
     "execution_count": 281,
     "metadata": {},
     "output_type": "execute_result"
    }
   ],
   "source": [
    "// Part 2 - What is the new total price of fencing all regions on your map with bulk discount ?\n",
    "\n",
    "const calculateSides = (plots: plot[], area: plot[][]) => {\n",
    "    if (plots.length === 1) return 4;\n",
    "    let sides = 0;\n",
    "    for (let i = 0; i < plots.length; i += 1) {\n",
    "        const current = plots[i];\n",
    "        const leftTopDiagonalNeighbor = area[current.x - 1] ? area[current.x - 1][current.y - 1]?.region === current.region : false;\n",
    "        const rightTopDiagonalNeighbor = area[current.x - 1] ? area[current.x - 1][current.y + 1]?.region === current.region : false;\n",
    "        const leftBottomDiagonalNeighbor = area[current.x + 1] ? area[current.x + 1][current.y - 1]?.region === current.region : false;\n",
    "        const rightBottomDiagonalNeighbor = area[current.x + 1] ? area[current.x + 1][current.y + 1]?.region === current.region : false;\n",
    "\n",
    "        const top = area[current.x - 1] ? area[current.x - 1][current.y]?.region === current.region : false;\n",
    "        const bottom = area[current.x + 1] ? area[current.x + 1][current.y]?.region === current.region : false;\n",
    "        const left = area[current.x][current.y - 1]?.region === current.region;\n",
    "        const right = area[current.x][current.y + 1]?.region === current.region;\n",
    "\n",
    "        // external corners\n",
    "        if(!top && !right) sides += 1;\n",
    "        if(!right && !bottom) sides += 1;\n",
    "        if(!bottom && !left) sides += 1;\n",
    "        if(!left && !top) sides += 1;\n",
    "\n",
    "        // internal corners\n",
    "        if(top && left && !leftTopDiagonalNeighbor) sides += 1;\n",
    "        if(top && right && !rightTopDiagonalNeighbor) sides += 1;\n",
    "        if(bottom && left && !leftBottomDiagonalNeighbor) sides += 1;\n",
    "        if(bottom && right && !rightBottomDiagonalNeighbor) sides += 1;\n",
    "    }\n",
    "    return sides;\n",
    "}\n",
    "\n",
    "const calculateFencePriceV2 = (regions: { [string]: plot[] }, area: plot[][]) => {\n",
    "    let price = 0\n",
    "    Object.keys(regions).forEach((region) => {\n",
    "        const plots = regions[region];\n",
    "        const plotArea = plots.length;\n",
    "        const sides = calculateSides(plots, area);\n",
    "        price += plotArea * sides;\n",
    "    });\n",
    "    return price;\n",
    "}\n",
    "calculateFencePriceV2(regions, area)"
   ]
  }
 ],
 "metadata": {
  "kernelspec": {
   "display_name": "Deno",
   "language": "typescript",
   "name": "deno"
  },
  "language_info": {
   "codemirror_mode": "typescript",
   "file_extension": ".ts",
   "mimetype": "text/x.typescript",
   "name": "typescript",
   "nbconvert_exporter": "script",
   "pygments_lexer": "typescript",
   "version": "5.6.2"
  }
 },
 "nbformat": 4,
 "nbformat_minor": 2
}
