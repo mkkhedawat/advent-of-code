{
 "cells": [
  {
   "cell_type": "markdown",
   "metadata": {},
   "source": [
    "# 01 - Sample Problem"
   ]
  },
  {
   "cell_type": "code",
   "execution_count": 6,
   "metadata": {},
   "outputs": [
    {
     "data": {
      "text/plain": [
       "[ \u001b[32m\"1\"\u001b[39m, \u001b[32m\"2\"\u001b[39m, \u001b[32m\"3\"\u001b[39m, \u001b[32m\"4\"\u001b[39m, \u001b[32m\"5\"\u001b[39m ]"
      ]
     },
     "execution_count": 6,
     "metadata": {},
     "output_type": "execute_result"
    }
   ],
   "source": [
    "const file = await Deno.readTextFile(\"input-base.txt\");\n",
    "const inputs = file.split(\"\\n\");\n",
    "inputs"
   ]
  },
  {
   "cell_type": "code",
   "execution_count": 7,
   "metadata": {},
   "outputs": [
    {
     "data": {
      "text/plain": [
       "\u001b[33m15\u001b[39m"
      ]
     },
     "execution_count": 7,
     "metadata": {},
     "output_type": "execute_result"
    }
   ],
   "source": [
    "let sum = 0;\n",
    "inputs.forEach((input) => {\n",
    "    sum += parseInt(input);\n",
    "});\n",
    "sum"
   ]
  },
  {
   "cell_type": "code",
   "execution_count": 8,
   "metadata": {},
   "outputs": [
    {
     "data": {
      "text/plain": [
       "\u001b[32m\"gnirts-tset\"\u001b[39m"
      ]
     },
     "execution_count": 8,
     "metadata": {},
     "output_type": "execute_result"
    }
   ],
   "source": [
    "import strings from '../../utils/strings.ts';\n",
    "const a = \"test-string\"\n",
    "strings.reverse(a);"
   ]
  },
  {
   "cell_type": "code",
   "execution_count": 9,
   "metadata": {},
   "outputs": [
    {
     "data": {
      "text/plain": [
       "{ b: { c: { d: \u001b[33m1\u001b[39m } } }"
      ]
     },
     "execution_count": 9,
     "metadata": {},
     "output_type": "execute_result"
    }
   ],
   "source": [
    "import objects from '../../utils/objects.ts';\n",
    "const a = {b: {c: {d: 1}}};\n",
    "objects.deepCopy(a);"
   ]
  },
  {
   "cell_type": "code",
   "execution_count": 10,
   "metadata": {},
   "outputs": [
    {
     "name": "stdout",
     "output_type": "stream",
     "text": [
      "\u001b[40m  \u001b[49m\u001b[41m  \u001b[49m\u001b[42m  \u001b[49m\n",
      "\u001b[43m  \u001b[49m\u001b[44m  \u001b[49m\u001b[45m  \u001b[49m\n",
      "\u001b[46m  \u001b[49m\u001b[47m  \u001b[49m\u001b[40m  \u001b[49m\n",
      "\u001b[41m  \u001b[49m\u001b[40m  \u001b[49m\u001b[41m  \u001b[49m\n",
      "\u001b[40m  \u001b[49m\u001b[41m  \u001b[49m\u001b[40m  \u001b[49m\n"
     ]
    }
   ],
   "source": [
    "import colors from \"../../utils/colors.ts\";\n",
    "const area = [\n",
    "    [1, 2, 3],\n",
    "    [4, 5, 6],\n",
    "    [7, 8, 9]\n",
    "]\n",
    "const nodes = [\n",
    "    [true, false, true],\n",
    "    [false, true, false],\n",
    "]\n",
    "colors.visualize2DArray(area, {})\n",
    "colors.visualize2DArray(nodes, { colors : { false : colors.bgBlack, true: colors.bgRed }})"
   ]
  }
 ],
 "metadata": {
  "kernelspec": {
   "display_name": "Deno",
   "language": "typescript",
   "name": "deno"
  },
  "language_info": {
   "codemirror_mode": "typescript",
   "file_extension": ".ts",
   "mimetype": "text/x.typescript",
   "name": "typescript",
   "nbconvert_exporter": "script",
   "pygments_lexer": "typescript",
   "version": "5.6.2"
  }
 },
 "nbformat": 4,
 "nbformat_minor": 2
}
